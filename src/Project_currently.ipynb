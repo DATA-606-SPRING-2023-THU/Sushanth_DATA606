{
 "cells": [
  {
   "cell_type": "markdown",
   "id": "598b45c0",
   "metadata": {},
   "source": [
    "# Project"
   ]
  },
  {
   "cell_type": "markdown",
   "id": "baf45648",
   "metadata": {},
   "source": [
    "We will be downloading the datasets as a zip file from the website \"https://www.fao.org/faostat/en/#data/QCL\", from the All Data Normalized option. After loading the data we will be extracting data and analyse the data. In this case the zip file should be in the same dicrectory as this notebook."
   ]
  },
  {
   "cell_type": "markdown",
   "id": "aa6f874f",
   "metadata": {},
   "source": [
    "We will also be working on the population data. So that we can understand how the use is land will complement the population of that area. We will be loading data from the website given below. We should also be considering that the zip file should be in the same directory as this notebook.\n",
    "\"https://population.un.org/wpp/Download/Archive/CSV/\"."
   ]
  },
  {
   "cell_type": "code",
   "execution_count": 1,
   "id": "2a9190f7",
   "metadata": {},
   "outputs": [],
   "source": [
    "import numpy as np \n",
    "import pandas as pd\n",
    "import zipfile\n",
    "\n",
    "import matplotlib.pyplot as plt\n",
    "import matplotlib\n",
    "import seaborn as sns\n",
    "import plotly.express as px\n",
    "from collections import Counter\n",
    "\n",
    "from sklearn.preprocessing import LabelEncoder\n",
    "from sklearn.metrics import accuracy_score\n",
    "from sklearn.ensemble import StackingClassifier\n",
    "from sklearn.tree import DecisionTreeClassifier\n",
    "from sklearn.discriminant_analysis import LinearDiscriminantAnalysis as LDA\n",
    "from sklearn.decomposition import PCA\n",
    "from sklearn.model_selection import train_test_split\n",
    "from sklearn.linear_model import LogisticRegression\n",
    "\n",
    "from sklearn.ensemble import GradientBoostingClassifier\n",
    "from sklearn.ensemble import BaggingClassifier\n",
    "from sklearn.ensemble import RandomForestClassifier\n",
    "from sklearn.neighbors import KNeighborsClassifier\n",
    "from sklearn import svm\n",
    "import warnings\n",
    "warnings.filterwarnings(\"ignore\")"
   ]
  },
  {
   "cell_type": "markdown",
   "id": "4da22274",
   "metadata": {},
   "source": [
    "# Extracting the .zip files"
   ]
  },
  {
   "cell_type": "code",
   "execution_count": 2,
   "id": "cd207521",
   "metadata": {},
   "outputs": [],
   "source": [
    "with zipfile.ZipFile(\"Production_Crops_Livestock_E_All_Data_(Normalized).zip\",\"r\") as zip_ref:\n",
    "    zip_ref.extractall(\"targetdir\")"
   ]
  },
  {
   "cell_type": "code",
   "execution_count": 3,
   "id": "8566a330",
   "metadata": {},
   "outputs": [],
   "source": [
    "with zipfile.ZipFile(\"WPP2019-CSV-data.zip\",\"r\") as zip_ref:\n",
    "    zip_ref.extractall(\"targetdir\")"
   ]
  },
  {
   "cell_type": "markdown",
   "id": "a7dcd18a",
   "metadata": {},
   "source": [
    "# Reading the data"
   ]
  },
  {
   "cell_type": "code",
   "execution_count": 4,
   "id": "7b55d604",
   "metadata": {},
   "outputs": [
    {
     "data": {
      "text/html": [
       "<div>\n",
       "<style scoped>\n",
       "    .dataframe tbody tr th:only-of-type {\n",
       "        vertical-align: middle;\n",
       "    }\n",
       "\n",
       "    .dataframe tbody tr th {\n",
       "        vertical-align: top;\n",
       "    }\n",
       "\n",
       "    .dataframe thead th {\n",
       "        text-align: right;\n",
       "    }\n",
       "</style>\n",
       "<table border=\"1\" class=\"dataframe\">\n",
       "  <thead>\n",
       "    <tr style=\"text-align: right;\">\n",
       "      <th></th>\n",
       "      <th>Area Code</th>\n",
       "      <th>Area Code (M49)</th>\n",
       "      <th>Area</th>\n",
       "      <th>Item Code</th>\n",
       "      <th>Item Code (CPC)</th>\n",
       "      <th>Item</th>\n",
       "      <th>Element Code</th>\n",
       "      <th>Element</th>\n",
       "      <th>Year Code</th>\n",
       "      <th>Year</th>\n",
       "      <th>Unit</th>\n",
       "      <th>Value</th>\n",
       "      <th>Flag</th>\n",
       "    </tr>\n",
       "  </thead>\n",
       "  <tbody>\n",
       "    <tr>\n",
       "      <th>0</th>\n",
       "      <td>2</td>\n",
       "      <td>'004</td>\n",
       "      <td>Afghanistan</td>\n",
       "      <td>221</td>\n",
       "      <td>'01371</td>\n",
       "      <td>Almonds, in shell</td>\n",
       "      <td>5312</td>\n",
       "      <td>Area harvested</td>\n",
       "      <td>1975</td>\n",
       "      <td>1975</td>\n",
       "      <td>ha</td>\n",
       "      <td>0.0</td>\n",
       "      <td>E</td>\n",
       "    </tr>\n",
       "    <tr>\n",
       "      <th>1</th>\n",
       "      <td>2</td>\n",
       "      <td>'004</td>\n",
       "      <td>Afghanistan</td>\n",
       "      <td>221</td>\n",
       "      <td>'01371</td>\n",
       "      <td>Almonds, in shell</td>\n",
       "      <td>5312</td>\n",
       "      <td>Area harvested</td>\n",
       "      <td>1976</td>\n",
       "      <td>1976</td>\n",
       "      <td>ha</td>\n",
       "      <td>5900.0</td>\n",
       "      <td>E</td>\n",
       "    </tr>\n",
       "    <tr>\n",
       "      <th>2</th>\n",
       "      <td>2</td>\n",
       "      <td>'004</td>\n",
       "      <td>Afghanistan</td>\n",
       "      <td>221</td>\n",
       "      <td>'01371</td>\n",
       "      <td>Almonds, in shell</td>\n",
       "      <td>5312</td>\n",
       "      <td>Area harvested</td>\n",
       "      <td>1977</td>\n",
       "      <td>1977</td>\n",
       "      <td>ha</td>\n",
       "      <td>6000.0</td>\n",
       "      <td>E</td>\n",
       "    </tr>\n",
       "    <tr>\n",
       "      <th>3</th>\n",
       "      <td>2</td>\n",
       "      <td>'004</td>\n",
       "      <td>Afghanistan</td>\n",
       "      <td>221</td>\n",
       "      <td>'01371</td>\n",
       "      <td>Almonds, in shell</td>\n",
       "      <td>5312</td>\n",
       "      <td>Area harvested</td>\n",
       "      <td>1978</td>\n",
       "      <td>1978</td>\n",
       "      <td>ha</td>\n",
       "      <td>6000.0</td>\n",
       "      <td>E</td>\n",
       "    </tr>\n",
       "    <tr>\n",
       "      <th>4</th>\n",
       "      <td>2</td>\n",
       "      <td>'004</td>\n",
       "      <td>Afghanistan</td>\n",
       "      <td>221</td>\n",
       "      <td>'01371</td>\n",
       "      <td>Almonds, in shell</td>\n",
       "      <td>5312</td>\n",
       "      <td>Area harvested</td>\n",
       "      <td>1979</td>\n",
       "      <td>1979</td>\n",
       "      <td>ha</td>\n",
       "      <td>6000.0</td>\n",
       "      <td>E</td>\n",
       "    </tr>\n",
       "  </tbody>\n",
       "</table>\n",
       "</div>"
      ],
      "text/plain": [
       "   Area Code Area Code (M49)         Area  Item Code Item Code (CPC)  \\\n",
       "0          2            '004  Afghanistan        221          '01371   \n",
       "1          2            '004  Afghanistan        221          '01371   \n",
       "2          2            '004  Afghanistan        221          '01371   \n",
       "3          2            '004  Afghanistan        221          '01371   \n",
       "4          2            '004  Afghanistan        221          '01371   \n",
       "\n",
       "                Item  Element Code         Element  Year Code  Year Unit  \\\n",
       "0  Almonds, in shell          5312  Area harvested       1975  1975   ha   \n",
       "1  Almonds, in shell          5312  Area harvested       1976  1976   ha   \n",
       "2  Almonds, in shell          5312  Area harvested       1977  1977   ha   \n",
       "3  Almonds, in shell          5312  Area harvested       1978  1978   ha   \n",
       "4  Almonds, in shell          5312  Area harvested       1979  1979   ha   \n",
       "\n",
       "    Value Flag  \n",
       "0     0.0    E  \n",
       "1  5900.0    E  \n",
       "2  6000.0    E  \n",
       "3  6000.0    E  \n",
       "4  6000.0    E  "
      ]
     },
     "execution_count": 4,
     "metadata": {},
     "output_type": "execute_result"
    }
   ],
   "source": [
    "df_main = pd.read_csv(\"targetdir/Production_Crops_Livestock_E_All_Data_(Normalized).csv\" ,encoding='cp1252')\n",
    "df_main.head()"
   ]
  },
  {
   "cell_type": "code",
   "execution_count": 5,
   "id": "dec5e064",
   "metadata": {},
   "outputs": [
    {
     "data": {
      "text/html": [
       "<div>\n",
       "<style scoped>\n",
       "    .dataframe tbody tr th:only-of-type {\n",
       "        vertical-align: middle;\n",
       "    }\n",
       "\n",
       "    .dataframe tbody tr th {\n",
       "        vertical-align: top;\n",
       "    }\n",
       "\n",
       "    .dataframe thead th {\n",
       "        text-align: right;\n",
       "    }\n",
       "</style>\n",
       "<table border=\"1\" class=\"dataframe\">\n",
       "  <thead>\n",
       "    <tr style=\"text-align: right;\">\n",
       "      <th></th>\n",
       "      <th>LocID</th>\n",
       "      <th>Location</th>\n",
       "      <th>VarID</th>\n",
       "      <th>Variant</th>\n",
       "      <th>Time</th>\n",
       "      <th>MidPeriod</th>\n",
       "      <th>PopMale</th>\n",
       "      <th>PopFemale</th>\n",
       "      <th>PopTotal</th>\n",
       "      <th>PopDensity</th>\n",
       "    </tr>\n",
       "  </thead>\n",
       "  <tbody>\n",
       "    <tr>\n",
       "      <th>0</th>\n",
       "      <td>4</td>\n",
       "      <td>Afghanistan</td>\n",
       "      <td>2</td>\n",
       "      <td>Medium</td>\n",
       "      <td>1950</td>\n",
       "      <td>1950.5</td>\n",
       "      <td>4099.243</td>\n",
       "      <td>3652.874</td>\n",
       "      <td>7752.117</td>\n",
       "      <td>11.874</td>\n",
       "    </tr>\n",
       "    <tr>\n",
       "      <th>1</th>\n",
       "      <td>4</td>\n",
       "      <td>Afghanistan</td>\n",
       "      <td>2</td>\n",
       "      <td>Medium</td>\n",
       "      <td>1951</td>\n",
       "      <td>1951.5</td>\n",
       "      <td>4134.756</td>\n",
       "      <td>3705.395</td>\n",
       "      <td>7840.151</td>\n",
       "      <td>12.009</td>\n",
       "    </tr>\n",
       "    <tr>\n",
       "      <th>2</th>\n",
       "      <td>4</td>\n",
       "      <td>Afghanistan</td>\n",
       "      <td>2</td>\n",
       "      <td>Medium</td>\n",
       "      <td>1952</td>\n",
       "      <td>1952.5</td>\n",
       "      <td>4174.450</td>\n",
       "      <td>3761.546</td>\n",
       "      <td>7935.996</td>\n",
       "      <td>12.156</td>\n",
       "    </tr>\n",
       "    <tr>\n",
       "      <th>3</th>\n",
       "      <td>4</td>\n",
       "      <td>Afghanistan</td>\n",
       "      <td>2</td>\n",
       "      <td>Medium</td>\n",
       "      <td>1953</td>\n",
       "      <td>1953.5</td>\n",
       "      <td>4218.336</td>\n",
       "      <td>3821.348</td>\n",
       "      <td>8039.684</td>\n",
       "      <td>12.315</td>\n",
       "    </tr>\n",
       "    <tr>\n",
       "      <th>4</th>\n",
       "      <td>4</td>\n",
       "      <td>Afghanistan</td>\n",
       "      <td>2</td>\n",
       "      <td>Medium</td>\n",
       "      <td>1954</td>\n",
       "      <td>1954.5</td>\n",
       "      <td>4266.484</td>\n",
       "      <td>3884.832</td>\n",
       "      <td>8151.316</td>\n",
       "      <td>12.486</td>\n",
       "    </tr>\n",
       "  </tbody>\n",
       "</table>\n",
       "</div>"
      ],
      "text/plain": [
       "   LocID     Location  VarID Variant  Time  MidPeriod   PopMale  PopFemale  \\\n",
       "0      4  Afghanistan      2  Medium  1950     1950.5  4099.243   3652.874   \n",
       "1      4  Afghanistan      2  Medium  1951     1951.5  4134.756   3705.395   \n",
       "2      4  Afghanistan      2  Medium  1952     1952.5  4174.450   3761.546   \n",
       "3      4  Afghanistan      2  Medium  1953     1953.5  4218.336   3821.348   \n",
       "4      4  Afghanistan      2  Medium  1954     1954.5  4266.484   3884.832   \n",
       "\n",
       "   PopTotal  PopDensity  \n",
       "0  7752.117      11.874  \n",
       "1  7840.151      12.009  \n",
       "2  7935.996      12.156  \n",
       "3  8039.684      12.315  \n",
       "4  8151.316      12.486  "
      ]
     },
     "execution_count": 5,
     "metadata": {},
     "output_type": "execute_result"
    }
   ],
   "source": [
    "df_pop = pd.read_csv(\"targetdir/WPP2019_TotalPopulationBySex.csv\" ,encoding='cp1252')\n",
    "df_pop.head()"
   ]
  },
  {
   "cell_type": "markdown",
   "id": "0a0870ae",
   "metadata": {},
   "source": [
    "# Merging Datasets"
   ]
  },
  {
   "cell_type": "code",
   "execution_count": 6,
   "id": "6ed1d84e",
   "metadata": {},
   "outputs": [
    {
     "data": {
      "text/html": [
       "<div>\n",
       "<style scoped>\n",
       "    .dataframe tbody tr th:only-of-type {\n",
       "        vertical-align: middle;\n",
       "    }\n",
       "\n",
       "    .dataframe tbody tr th {\n",
       "        vertical-align: top;\n",
       "    }\n",
       "\n",
       "    .dataframe thead th {\n",
       "        text-align: right;\n",
       "    }\n",
       "</style>\n",
       "<table border=\"1\" class=\"dataframe\">\n",
       "  <thead>\n",
       "    <tr style=\"text-align: right;\">\n",
       "      <th></th>\n",
       "      <th>Area Code</th>\n",
       "      <th>Area Code (M49)</th>\n",
       "      <th>Area</th>\n",
       "      <th>Item Code</th>\n",
       "      <th>Item Code (CPC)</th>\n",
       "      <th>Item</th>\n",
       "      <th>Element Code</th>\n",
       "      <th>Element</th>\n",
       "      <th>Year Code</th>\n",
       "      <th>Year</th>\n",
       "      <th>...</th>\n",
       "      <th>LocID</th>\n",
       "      <th>Location</th>\n",
       "      <th>VarID</th>\n",
       "      <th>Variant</th>\n",
       "      <th>Time</th>\n",
       "      <th>MidPeriod</th>\n",
       "      <th>PopMale</th>\n",
       "      <th>PopFemale</th>\n",
       "      <th>PopTotal</th>\n",
       "      <th>PopDensity</th>\n",
       "    </tr>\n",
       "  </thead>\n",
       "  <tbody>\n",
       "    <tr>\n",
       "      <th>0</th>\n",
       "      <td>2</td>\n",
       "      <td>'004</td>\n",
       "      <td>Afghanistan</td>\n",
       "      <td>221</td>\n",
       "      <td>'01371</td>\n",
       "      <td>Almonds, in shell</td>\n",
       "      <td>5312</td>\n",
       "      <td>Area harvested</td>\n",
       "      <td>1975</td>\n",
       "      <td>1975</td>\n",
       "      <td>...</td>\n",
       "      <td>4</td>\n",
       "      <td>Afghanistan</td>\n",
       "      <td>2</td>\n",
       "      <td>Medium</td>\n",
       "      <td>1975</td>\n",
       "      <td>1975.5</td>\n",
       "      <td>6446.273</td>\n",
       "      <td>6242.891</td>\n",
       "      <td>12689.164</td>\n",
       "      <td>19.436</td>\n",
       "    </tr>\n",
       "    <tr>\n",
       "      <th>1</th>\n",
       "      <td>2</td>\n",
       "      <td>'004</td>\n",
       "      <td>Afghanistan</td>\n",
       "      <td>221</td>\n",
       "      <td>'01371</td>\n",
       "      <td>Almonds, in shell</td>\n",
       "      <td>5510</td>\n",
       "      <td>Production</td>\n",
       "      <td>1975</td>\n",
       "      <td>1975</td>\n",
       "      <td>...</td>\n",
       "      <td>4</td>\n",
       "      <td>Afghanistan</td>\n",
       "      <td>2</td>\n",
       "      <td>Medium</td>\n",
       "      <td>1975</td>\n",
       "      <td>1975.5</td>\n",
       "      <td>6446.273</td>\n",
       "      <td>6242.891</td>\n",
       "      <td>12689.164</td>\n",
       "      <td>19.436</td>\n",
       "    </tr>\n",
       "    <tr>\n",
       "      <th>2</th>\n",
       "      <td>2</td>\n",
       "      <td>'004</td>\n",
       "      <td>Afghanistan</td>\n",
       "      <td>515</td>\n",
       "      <td>'01341</td>\n",
       "      <td>Apples</td>\n",
       "      <td>5312</td>\n",
       "      <td>Area harvested</td>\n",
       "      <td>1975</td>\n",
       "      <td>1975</td>\n",
       "      <td>...</td>\n",
       "      <td>4</td>\n",
       "      <td>Afghanistan</td>\n",
       "      <td>2</td>\n",
       "      <td>Medium</td>\n",
       "      <td>1975</td>\n",
       "      <td>1975.5</td>\n",
       "      <td>6446.273</td>\n",
       "      <td>6242.891</td>\n",
       "      <td>12689.164</td>\n",
       "      <td>19.436</td>\n",
       "    </tr>\n",
       "    <tr>\n",
       "      <th>3</th>\n",
       "      <td>2</td>\n",
       "      <td>'004</td>\n",
       "      <td>Afghanistan</td>\n",
       "      <td>515</td>\n",
       "      <td>'01341</td>\n",
       "      <td>Apples</td>\n",
       "      <td>5419</td>\n",
       "      <td>Yield</td>\n",
       "      <td>1975</td>\n",
       "      <td>1975</td>\n",
       "      <td>...</td>\n",
       "      <td>4</td>\n",
       "      <td>Afghanistan</td>\n",
       "      <td>2</td>\n",
       "      <td>Medium</td>\n",
       "      <td>1975</td>\n",
       "      <td>1975.5</td>\n",
       "      <td>6446.273</td>\n",
       "      <td>6242.891</td>\n",
       "      <td>12689.164</td>\n",
       "      <td>19.436</td>\n",
       "    </tr>\n",
       "    <tr>\n",
       "      <th>4</th>\n",
       "      <td>2</td>\n",
       "      <td>'004</td>\n",
       "      <td>Afghanistan</td>\n",
       "      <td>515</td>\n",
       "      <td>'01341</td>\n",
       "      <td>Apples</td>\n",
       "      <td>5510</td>\n",
       "      <td>Production</td>\n",
       "      <td>1975</td>\n",
       "      <td>1975</td>\n",
       "      <td>...</td>\n",
       "      <td>4</td>\n",
       "      <td>Afghanistan</td>\n",
       "      <td>2</td>\n",
       "      <td>Medium</td>\n",
       "      <td>1975</td>\n",
       "      <td>1975.5</td>\n",
       "      <td>6446.273</td>\n",
       "      <td>6242.891</td>\n",
       "      <td>12689.164</td>\n",
       "      <td>19.436</td>\n",
       "    </tr>\n",
       "  </tbody>\n",
       "</table>\n",
       "<p>5 rows × 23 columns</p>\n",
       "</div>"
      ],
      "text/plain": [
       "   Area Code Area Code (M49)         Area  Item Code Item Code (CPC)  \\\n",
       "0          2            '004  Afghanistan        221          '01371   \n",
       "1          2            '004  Afghanistan        221          '01371   \n",
       "2          2            '004  Afghanistan        515          '01341   \n",
       "3          2            '004  Afghanistan        515          '01341   \n",
       "4          2            '004  Afghanistan        515          '01341   \n",
       "\n",
       "                Item  Element Code         Element  Year Code  Year  ...  \\\n",
       "0  Almonds, in shell          5312  Area harvested       1975  1975  ...   \n",
       "1  Almonds, in shell          5510      Production       1975  1975  ...   \n",
       "2             Apples          5312  Area harvested       1975  1975  ...   \n",
       "3             Apples          5419           Yield       1975  1975  ...   \n",
       "4             Apples          5510      Production       1975  1975  ...   \n",
       "\n",
       "  LocID     Location VarID  Variant  Time  MidPeriod   PopMale  PopFemale  \\\n",
       "0     4  Afghanistan     2   Medium  1975     1975.5  6446.273   6242.891   \n",
       "1     4  Afghanistan     2   Medium  1975     1975.5  6446.273   6242.891   \n",
       "2     4  Afghanistan     2   Medium  1975     1975.5  6446.273   6242.891   \n",
       "3     4  Afghanistan     2   Medium  1975     1975.5  6446.273   6242.891   \n",
       "4     4  Afghanistan     2   Medium  1975     1975.5  6446.273   6242.891   \n",
       "\n",
       "    PopTotal  PopDensity  \n",
       "0  12689.164      19.436  \n",
       "1  12689.164      19.436  \n",
       "2  12689.164      19.436  \n",
       "3  12689.164      19.436  \n",
       "4  12689.164      19.436  \n",
       "\n",
       "[5 rows x 23 columns]"
      ]
     },
     "execution_count": 6,
     "metadata": {},
     "output_type": "execute_result"
    }
   ],
   "source": [
    "df = pd.merge(df_main, df_pop,  how='inner', left_on=['Area','Year'], right_on = ['Location','Time'])\n",
    "df.head()"
   ]
  },
  {
   "cell_type": "markdown",
   "id": "303a683a",
   "metadata": {},
   "source": [
    "# Cleaning"
   ]
  },
  {
   "cell_type": "code",
   "execution_count": 7,
   "id": "041e8892",
   "metadata": {},
   "outputs": [
    {
     "name": "stdout",
     "output_type": "stream",
     "text": [
      "Total Number of rows : 4633218\n",
      "Total Number of columns : 23\n"
     ]
    }
   ],
   "source": [
    "rows_count, columns_count = df.shape\n",
    "print('Total Number of rows :', rows_count)\n",
    "print('Total Number of columns :', columns_count)"
   ]
  },
  {
   "cell_type": "code",
   "execution_count": 8,
   "id": "bb7815cf",
   "metadata": {},
   "outputs": [
    {
     "data": {
      "text/plain": [
       "Index(['Area Code', 'Area Code (M49)', 'Area', 'Item Code', 'Item Code (CPC)',\n",
       "       'Item', 'Element Code', 'Element', 'Year Code', 'Year', 'Unit', 'Value',\n",
       "       'Flag', 'LocID', 'Location', 'VarID', 'Variant', 'Time', 'MidPeriod',\n",
       "       'PopMale', 'PopFemale', 'PopTotal', 'PopDensity'],\n",
       "      dtype='object')"
      ]
     },
     "execution_count": 8,
     "metadata": {},
     "output_type": "execute_result"
    }
   ],
   "source": [
    "df.columns"
   ]
  },
  {
   "cell_type": "markdown",
   "id": "15f01f6c",
   "metadata": {},
   "source": [
    "### Removing Null Data"
   ]
  },
  {
   "cell_type": "code",
   "execution_count": 9,
   "id": "cbc13765",
   "metadata": {},
   "outputs": [
    {
     "data": {
      "text/plain": [
       "Area Code              0\n",
       "Area Code (M49)        0\n",
       "Area                   0\n",
       "Item Code              0\n",
       "Item Code (CPC)        0\n",
       "Item                   0\n",
       "Element Code           0\n",
       "Element                0\n",
       "Year Code              0\n",
       "Year                   0\n",
       "Unit                   0\n",
       "Value                  0\n",
       "Flag                   0\n",
       "LocID                  0\n",
       "Location               0\n",
       "VarID                  0\n",
       "Variant                0\n",
       "Time                   0\n",
       "MidPeriod              0\n",
       "PopMale            59499\n",
       "PopFemale          59499\n",
       "PopTotal               0\n",
       "PopDensity             0\n",
       "dtype: int64"
      ]
     },
     "execution_count": 9,
     "metadata": {},
     "output_type": "execute_result"
    }
   ],
   "source": [
    "df.isnull().sum()"
   ]
  },
  {
   "cell_type": "code",
   "execution_count": 10,
   "id": "e7f7fac1",
   "metadata": {},
   "outputs": [],
   "source": [
    "df = df.dropna(how='any',axis=0)"
   ]
  },
  {
   "cell_type": "code",
   "execution_count": 11,
   "id": "31ced7ef",
   "metadata": {},
   "outputs": [
    {
     "data": {
      "text/plain": [
       "Area Code          0\n",
       "Area Code (M49)    0\n",
       "Area               0\n",
       "Item Code          0\n",
       "Item Code (CPC)    0\n",
       "Item               0\n",
       "Element Code       0\n",
       "Element            0\n",
       "Year Code          0\n",
       "Year               0\n",
       "Unit               0\n",
       "Value              0\n",
       "Flag               0\n",
       "LocID              0\n",
       "Location           0\n",
       "VarID              0\n",
       "Variant            0\n",
       "Time               0\n",
       "MidPeriod          0\n",
       "PopMale            0\n",
       "PopFemale          0\n",
       "PopTotal           0\n",
       "PopDensity         0\n",
       "dtype: int64"
      ]
     },
     "execution_count": 11,
     "metadata": {},
     "output_type": "execute_result"
    }
   ],
   "source": [
    "df.isnull().sum()"
   ]
  },
  {
   "cell_type": "markdown",
   "id": "fd2e571d",
   "metadata": {},
   "source": [
    "### Spliting the data"
   ]
  },
  {
   "cell_type": "code",
   "execution_count": 12,
   "id": "096757a6",
   "metadata": {},
   "outputs": [
    {
     "name": "stdout",
     "output_type": "stream",
     "text": [
      "   Area Code Area Code (M49)         Area  Item Code Item Code (CPC)  \\\n",
      "0          2            '004  Afghanistan        221          '01371   \n",
      "1          2            '004  Afghanistan        221          '01371   \n",
      "2          2            '004  Afghanistan        515          '01341   \n",
      "3          2            '004  Afghanistan        515          '01341   \n",
      "4          2            '004  Afghanistan        515          '01341   \n",
      "\n",
      "                Item  Element Code         Element  Year Code  Year    Unit  \\\n",
      "0  Almonds, in shell          5312  Area harvested       1975  1975      ha   \n",
      "1  Almonds, in shell          5510      Production       1975  1975  tonnes   \n",
      "2             Apples          5312  Area harvested       1975  1975      ha   \n",
      "3             Apples          5419           Yield       1975  1975   hg/ha   \n",
      "4             Apples          5510      Production       1975  1975  tonnes   \n",
      "\n",
      "     Value Flag  LocID     Location  VarID Variant  Time  MidPeriod   PopMale  \\\n",
      "0      0.0    E      4  Afghanistan      2  Medium  1975     1975.5  6446.273   \n",
      "1      0.0    E      4  Afghanistan      2  Medium  1975     1975.5  6446.273   \n",
      "2   3270.0    E      4  Afghanistan      2  Medium  1975     1975.5  6446.273   \n",
      "3  85321.0    E      4  Afghanistan      2  Medium  1975     1975.5  6446.273   \n",
      "4  27900.0    E      4  Afghanistan      2  Medium  1975     1975.5  6446.273   \n",
      "\n",
      "   PopFemale   PopTotal  PopDensity  \n",
      "0   6242.891  12689.164      19.436  \n",
      "1   6242.891  12689.164      19.436  \n",
      "2   6242.891  12689.164      19.436  \n",
      "3   6242.891  12689.164      19.436  \n",
      "4   6242.891  12689.164      19.436  \n"
     ]
    }
   ],
   "source": [
    "pd.set_option('display.max_columns', None)\n",
    "print(df.head())"
   ]
  },
  {
   "cell_type": "code",
   "execution_count": 13,
   "id": "398f22bc",
   "metadata": {},
   "outputs": [
    {
     "data": {
      "text/html": [
       "<div>\n",
       "<style scoped>\n",
       "    .dataframe tbody tr th:only-of-type {\n",
       "        vertical-align: middle;\n",
       "    }\n",
       "\n",
       "    .dataframe tbody tr th {\n",
       "        vertical-align: top;\n",
       "    }\n",
       "\n",
       "    .dataframe thead th {\n",
       "        text-align: right;\n",
       "    }\n",
       "</style>\n",
       "<table border=\"1\" class=\"dataframe\">\n",
       "  <thead>\n",
       "    <tr style=\"text-align: right;\">\n",
       "      <th></th>\n",
       "      <th>Area Code</th>\n",
       "      <th>Area Code (M49)</th>\n",
       "      <th>Area</th>\n",
       "    </tr>\n",
       "  </thead>\n",
       "  <tbody>\n",
       "    <tr>\n",
       "      <th>0</th>\n",
       "      <td>2</td>\n",
       "      <td>'004</td>\n",
       "      <td>Afghanistan</td>\n",
       "    </tr>\n",
       "    <tr>\n",
       "      <th>1</th>\n",
       "      <td>2</td>\n",
       "      <td>'004</td>\n",
       "      <td>Afghanistan</td>\n",
       "    </tr>\n",
       "    <tr>\n",
       "      <th>2</th>\n",
       "      <td>2</td>\n",
       "      <td>'004</td>\n",
       "      <td>Afghanistan</td>\n",
       "    </tr>\n",
       "    <tr>\n",
       "      <th>3</th>\n",
       "      <td>2</td>\n",
       "      <td>'004</td>\n",
       "      <td>Afghanistan</td>\n",
       "    </tr>\n",
       "    <tr>\n",
       "      <th>4</th>\n",
       "      <td>2</td>\n",
       "      <td>'004</td>\n",
       "      <td>Afghanistan</td>\n",
       "    </tr>\n",
       "  </tbody>\n",
       "</table>\n",
       "</div>"
      ],
      "text/plain": [
       "   Area Code Area Code (M49)         Area\n",
       "0          2            '004  Afghanistan\n",
       "1          2            '004  Afghanistan\n",
       "2          2            '004  Afghanistan\n",
       "3          2            '004  Afghanistan\n",
       "4          2            '004  Afghanistan"
      ]
     },
     "execution_count": 13,
     "metadata": {},
     "output_type": "execute_result"
    }
   ],
   "source": [
    "df_area = df[['Area Code','Area Code (M49)','Area']].copy()\n",
    "df_area.head()"
   ]
  },
  {
   "cell_type": "code",
   "execution_count": 14,
   "id": "ff624a13",
   "metadata": {},
   "outputs": [
    {
     "data": {
      "text/html": [
       "<div>\n",
       "<style scoped>\n",
       "    .dataframe tbody tr th:only-of-type {\n",
       "        vertical-align: middle;\n",
       "    }\n",
       "\n",
       "    .dataframe tbody tr th {\n",
       "        vertical-align: top;\n",
       "    }\n",
       "\n",
       "    .dataframe thead th {\n",
       "        text-align: right;\n",
       "    }\n",
       "</style>\n",
       "<table border=\"1\" class=\"dataframe\">\n",
       "  <thead>\n",
       "    <tr style=\"text-align: right;\">\n",
       "      <th></th>\n",
       "      <th>Item Code</th>\n",
       "      <th>Item Code (CPC)</th>\n",
       "      <th>Item</th>\n",
       "    </tr>\n",
       "  </thead>\n",
       "  <tbody>\n",
       "    <tr>\n",
       "      <th>0</th>\n",
       "      <td>221</td>\n",
       "      <td>'01371</td>\n",
       "      <td>Almonds, in shell</td>\n",
       "    </tr>\n",
       "    <tr>\n",
       "      <th>1</th>\n",
       "      <td>221</td>\n",
       "      <td>'01371</td>\n",
       "      <td>Almonds, in shell</td>\n",
       "    </tr>\n",
       "    <tr>\n",
       "      <th>2</th>\n",
       "      <td>515</td>\n",
       "      <td>'01341</td>\n",
       "      <td>Apples</td>\n",
       "    </tr>\n",
       "    <tr>\n",
       "      <th>3</th>\n",
       "      <td>515</td>\n",
       "      <td>'01341</td>\n",
       "      <td>Apples</td>\n",
       "    </tr>\n",
       "    <tr>\n",
       "      <th>4</th>\n",
       "      <td>515</td>\n",
       "      <td>'01341</td>\n",
       "      <td>Apples</td>\n",
       "    </tr>\n",
       "  </tbody>\n",
       "</table>\n",
       "</div>"
      ],
      "text/plain": [
       "   Item Code Item Code (CPC)               Item\n",
       "0        221          '01371  Almonds, in shell\n",
       "1        221          '01371  Almonds, in shell\n",
       "2        515          '01341             Apples\n",
       "3        515          '01341             Apples\n",
       "4        515          '01341             Apples"
      ]
     },
     "execution_count": 14,
     "metadata": {},
     "output_type": "execute_result"
    }
   ],
   "source": [
    "df_item = df[['Item Code','Item Code (CPC)','Item']].copy()\n",
    "df_item.head()"
   ]
  },
  {
   "cell_type": "code",
   "execution_count": 15,
   "id": "1655d7d1",
   "metadata": {},
   "outputs": [
    {
     "data": {
      "text/html": [
       "<div>\n",
       "<style scoped>\n",
       "    .dataframe tbody tr th:only-of-type {\n",
       "        vertical-align: middle;\n",
       "    }\n",
       "\n",
       "    .dataframe tbody tr th {\n",
       "        vertical-align: top;\n",
       "    }\n",
       "\n",
       "    .dataframe thead th {\n",
       "        text-align: right;\n",
       "    }\n",
       "</style>\n",
       "<table border=\"1\" class=\"dataframe\">\n",
       "  <thead>\n",
       "    <tr style=\"text-align: right;\">\n",
       "      <th></th>\n",
       "      <th>Element Code</th>\n",
       "      <th>Element</th>\n",
       "    </tr>\n",
       "  </thead>\n",
       "  <tbody>\n",
       "    <tr>\n",
       "      <th>0</th>\n",
       "      <td>5312</td>\n",
       "      <td>Area harvested</td>\n",
       "    </tr>\n",
       "    <tr>\n",
       "      <th>1</th>\n",
       "      <td>5510</td>\n",
       "      <td>Production</td>\n",
       "    </tr>\n",
       "    <tr>\n",
       "      <th>2</th>\n",
       "      <td>5312</td>\n",
       "      <td>Area harvested</td>\n",
       "    </tr>\n",
       "    <tr>\n",
       "      <th>3</th>\n",
       "      <td>5419</td>\n",
       "      <td>Yield</td>\n",
       "    </tr>\n",
       "    <tr>\n",
       "      <th>4</th>\n",
       "      <td>5510</td>\n",
       "      <td>Production</td>\n",
       "    </tr>\n",
       "  </tbody>\n",
       "</table>\n",
       "</div>"
      ],
      "text/plain": [
       "   Element Code         Element\n",
       "0          5312  Area harvested\n",
       "1          5510      Production\n",
       "2          5312  Area harvested\n",
       "3          5419           Yield\n",
       "4          5510      Production"
      ]
     },
     "execution_count": 15,
     "metadata": {},
     "output_type": "execute_result"
    }
   ],
   "source": [
    "df_element = df[['Element Code','Element']].copy()\n",
    "df_element.head()"
   ]
  },
  {
   "cell_type": "code",
   "execution_count": 16,
   "id": "026c15ef",
   "metadata": {},
   "outputs": [
    {
     "data": {
      "text/html": [
       "<div>\n",
       "<style scoped>\n",
       "    .dataframe tbody tr th:only-of-type {\n",
       "        vertical-align: middle;\n",
       "    }\n",
       "\n",
       "    .dataframe tbody tr th {\n",
       "        vertical-align: top;\n",
       "    }\n",
       "\n",
       "    .dataframe thead th {\n",
       "        text-align: right;\n",
       "    }\n",
       "</style>\n",
       "<table border=\"1\" class=\"dataframe\">\n",
       "  <thead>\n",
       "    <tr style=\"text-align: right;\">\n",
       "      <th></th>\n",
       "      <th>LocID</th>\n",
       "      <th>Location</th>\n",
       "    </tr>\n",
       "  </thead>\n",
       "  <tbody>\n",
       "    <tr>\n",
       "      <th>0</th>\n",
       "      <td>4</td>\n",
       "      <td>Afghanistan</td>\n",
       "    </tr>\n",
       "    <tr>\n",
       "      <th>1</th>\n",
       "      <td>4</td>\n",
       "      <td>Afghanistan</td>\n",
       "    </tr>\n",
       "    <tr>\n",
       "      <th>2</th>\n",
       "      <td>4</td>\n",
       "      <td>Afghanistan</td>\n",
       "    </tr>\n",
       "    <tr>\n",
       "      <th>3</th>\n",
       "      <td>4</td>\n",
       "      <td>Afghanistan</td>\n",
       "    </tr>\n",
       "    <tr>\n",
       "      <th>4</th>\n",
       "      <td>4</td>\n",
       "      <td>Afghanistan</td>\n",
       "    </tr>\n",
       "  </tbody>\n",
       "</table>\n",
       "</div>"
      ],
      "text/plain": [
       "   LocID     Location\n",
       "0      4  Afghanistan\n",
       "1      4  Afghanistan\n",
       "2      4  Afghanistan\n",
       "3      4  Afghanistan\n",
       "4      4  Afghanistan"
      ]
     },
     "execution_count": 16,
     "metadata": {},
     "output_type": "execute_result"
    }
   ],
   "source": [
    "df_location = df[['LocID','Location']]\n",
    "df_location.head()"
   ]
  },
  {
   "cell_type": "code",
   "execution_count": 17,
   "id": "69469f50",
   "metadata": {},
   "outputs": [
    {
     "data": {
      "text/html": [
       "<div>\n",
       "<style scoped>\n",
       "    .dataframe tbody tr th:only-of-type {\n",
       "        vertical-align: middle;\n",
       "    }\n",
       "\n",
       "    .dataframe tbody tr th {\n",
       "        vertical-align: top;\n",
       "    }\n",
       "\n",
       "    .dataframe thead th {\n",
       "        text-align: right;\n",
       "    }\n",
       "</style>\n",
       "<table border=\"1\" class=\"dataframe\">\n",
       "  <thead>\n",
       "    <tr style=\"text-align: right;\">\n",
       "      <th></th>\n",
       "      <th>VarID</th>\n",
       "      <th>Variant</th>\n",
       "    </tr>\n",
       "  </thead>\n",
       "  <tbody>\n",
       "    <tr>\n",
       "      <th>0</th>\n",
       "      <td>2</td>\n",
       "      <td>Medium</td>\n",
       "    </tr>\n",
       "    <tr>\n",
       "      <th>1</th>\n",
       "      <td>2</td>\n",
       "      <td>Medium</td>\n",
       "    </tr>\n",
       "    <tr>\n",
       "      <th>2</th>\n",
       "      <td>2</td>\n",
       "      <td>Medium</td>\n",
       "    </tr>\n",
       "    <tr>\n",
       "      <th>3</th>\n",
       "      <td>2</td>\n",
       "      <td>Medium</td>\n",
       "    </tr>\n",
       "    <tr>\n",
       "      <th>4</th>\n",
       "      <td>2</td>\n",
       "      <td>Medium</td>\n",
       "    </tr>\n",
       "  </tbody>\n",
       "</table>\n",
       "</div>"
      ],
      "text/plain": [
       "   VarID Variant\n",
       "0      2  Medium\n",
       "1      2  Medium\n",
       "2      2  Medium\n",
       "3      2  Medium\n",
       "4      2  Medium"
      ]
     },
     "execution_count": 17,
     "metadata": {},
     "output_type": "execute_result"
    }
   ],
   "source": [
    "df_variant = df[['VarID','Variant']]\n",
    "df_variant.head()"
   ]
  },
  {
   "cell_type": "code",
   "execution_count": 18,
   "id": "cce4fead",
   "metadata": {},
   "outputs": [],
   "source": [
    "df = df.drop(['Area','Area Code (M49)','Item','Item Code (CPC)','Element','Year Code','Time','Variant','Location','MidPeriod'], axis=1)"
   ]
  },
  {
   "cell_type": "code",
   "execution_count": 19,
   "id": "fec0a513",
   "metadata": {},
   "outputs": [],
   "source": [
    "df = df.rename(columns={'Area Code': 'Area','Item Code': 'Item','Element Code':'Element','LocID':'Location','VarID':'Variant'})"
   ]
  },
  {
   "cell_type": "markdown",
   "id": "21a84a19",
   "metadata": {},
   "source": [
    "### Convering data into numeric values"
   ]
  },
  {
   "cell_type": "code",
   "execution_count": 20,
   "id": "0d7619bb",
   "metadata": {},
   "outputs": [
    {
     "name": "stdout",
     "output_type": "stream",
     "text": [
      "<class 'pandas.core.frame.DataFrame'>\n",
      "Int64Index: 4573719 entries, 0 to 4633217\n",
      "Data columns (total 13 columns):\n",
      " #   Column      Dtype  \n",
      "---  ------      -----  \n",
      " 0   Area        int64  \n",
      " 1   Item        int64  \n",
      " 2   Element     int64  \n",
      " 3   Year        int64  \n",
      " 4   Unit        object \n",
      " 5   Value       float64\n",
      " 6   Flag        object \n",
      " 7   Location    int64  \n",
      " 8   Variant     int64  \n",
      " 9   PopMale     float64\n",
      " 10  PopFemale   float64\n",
      " 11  PopTotal    float64\n",
      " 12  PopDensity  float64\n",
      "dtypes: float64(5), int64(6), object(2)\n",
      "memory usage: 488.5+ MB\n"
     ]
    }
   ],
   "source": [
    "df.info()"
   ]
  },
  {
   "cell_type": "code",
   "execution_count": 21,
   "id": "e4778a00",
   "metadata": {},
   "outputs": [],
   "source": [
    "le = LabelEncoder()\n",
    "df['Unit'] = df[['Unit']].apply(le.fit_transform)\n",
    "df['Flag'] = df[['Flag']].apply(le.fit_transform)"
   ]
  },
  {
   "cell_type": "code",
   "execution_count": 22,
   "id": "b57f1b1a",
   "metadata": {},
   "outputs": [
    {
     "name": "stdout",
     "output_type": "stream",
     "text": [
      "<class 'pandas.core.frame.DataFrame'>\n",
      "Int64Index: 4573719 entries, 0 to 4633217\n",
      "Data columns (total 13 columns):\n",
      " #   Column      Dtype  \n",
      "---  ------      -----  \n",
      " 0   Area        int64  \n",
      " 1   Item        int64  \n",
      " 2   Element     int64  \n",
      " 3   Year        int64  \n",
      " 4   Unit        int64  \n",
      " 5   Value       float64\n",
      " 6   Flag        int64  \n",
      " 7   Location    int64  \n",
      " 8   Variant     int64  \n",
      " 9   PopMale     float64\n",
      " 10  PopFemale   float64\n",
      " 11  PopTotal    float64\n",
      " 12  PopDensity  float64\n",
      "dtypes: float64(5), int64(8)\n",
      "memory usage: 488.5 MB\n"
     ]
    }
   ],
   "source": [
    "df.info()"
   ]
  },
  {
   "cell_type": "markdown",
   "id": "bb10a241",
   "metadata": {},
   "source": [
    "# EDA:"
   ]
  },
  {
   "cell_type": "code",
   "execution_count": 23,
   "id": "068c119c",
   "metadata": {},
   "outputs": [
    {
     "data": {
      "text/html": [
       "<div>\n",
       "<style scoped>\n",
       "    .dataframe tbody tr th:only-of-type {\n",
       "        vertical-align: middle;\n",
       "    }\n",
       "\n",
       "    .dataframe tbody tr th {\n",
       "        vertical-align: top;\n",
       "    }\n",
       "\n",
       "    .dataframe thead th {\n",
       "        text-align: right;\n",
       "    }\n",
       "</style>\n",
       "<table border=\"1\" class=\"dataframe\">\n",
       "  <thead>\n",
       "    <tr style=\"text-align: right;\">\n",
       "      <th></th>\n",
       "      <th>count</th>\n",
       "      <th>mean</th>\n",
       "      <th>std</th>\n",
       "      <th>min</th>\n",
       "      <th>25%</th>\n",
       "      <th>50%</th>\n",
       "      <th>75%</th>\n",
       "      <th>max</th>\n",
       "    </tr>\n",
       "  </thead>\n",
       "  <tbody>\n",
       "    <tr>\n",
       "      <th>Area</th>\n",
       "      <td>4573719.0</td>\n",
       "      <td>1.254400e+03</td>\n",
       "      <td>2.127966e+03</td>\n",
       "      <td>1.000</td>\n",
       "      <td>84.000</td>\n",
       "      <td>159.000</td>\n",
       "      <td>249.000</td>\n",
       "      <td>5.504000e+03</td>\n",
       "    </tr>\n",
       "    <tr>\n",
       "      <th>Item</th>\n",
       "      <td>4573719.0</td>\n",
       "      <td>8.455887e+02</td>\n",
       "      <td>1.259929e+03</td>\n",
       "      <td>15.000</td>\n",
       "      <td>358.000</td>\n",
       "      <td>600.000</td>\n",
       "      <td>1058.000</td>\n",
       "      <td>1.753000e+04</td>\n",
       "    </tr>\n",
       "    <tr>\n",
       "      <th>Element</th>\n",
       "      <td>4573719.0</td>\n",
       "      <td>5.408217e+03</td>\n",
       "      <td>1.028571e+02</td>\n",
       "      <td>5111.000</td>\n",
       "      <td>5312.000</td>\n",
       "      <td>5419.000</td>\n",
       "      <td>5510.000</td>\n",
       "      <td>5.513000e+03</td>\n",
       "    </tr>\n",
       "    <tr>\n",
       "      <th>Year</th>\n",
       "      <td>4573719.0</td>\n",
       "      <td>2.001514e+03</td>\n",
       "      <td>1.887429e+01</td>\n",
       "      <td>1961.000</td>\n",
       "      <td>1987.000</td>\n",
       "      <td>2006.000</td>\n",
       "      <td>2020.000</td>\n",
       "      <td>2.021000e+03</td>\n",
       "    </tr>\n",
       "    <tr>\n",
       "      <th>Unit</th>\n",
       "      <td>4573719.0</td>\n",
       "      <td>8.583100e+00</td>\n",
       "      <td>2.901420e+00</td>\n",
       "      <td>0.000</td>\n",
       "      <td>7.000</td>\n",
       "      <td>10.000</td>\n",
       "      <td>11.000</td>\n",
       "      <td>1.100000e+01</td>\n",
       "    </tr>\n",
       "    <tr>\n",
       "      <th>Value</th>\n",
       "      <td>4573719.0</td>\n",
       "      <td>2.537688e+06</td>\n",
       "      <td>3.091745e+07</td>\n",
       "      <td>0.000</td>\n",
       "      <td>2378.000</td>\n",
       "      <td>22563.000</td>\n",
       "      <td>156931.700</td>\n",
       "      <td>3.070645e+09</td>\n",
       "    </tr>\n",
       "    <tr>\n",
       "      <th>Flag</th>\n",
       "      <td>4573719.0</td>\n",
       "      <td>8.588962e-01</td>\n",
       "      <td>8.410015e-01</td>\n",
       "      <td>0.000</td>\n",
       "      <td>0.000</td>\n",
       "      <td>1.000</td>\n",
       "      <td>1.000</td>\n",
       "      <td>4.000000e+00</td>\n",
       "    </tr>\n",
       "    <tr>\n",
       "      <th>Location</th>\n",
       "      <td>4573719.0</td>\n",
       "      <td>5.977271e+02</td>\n",
       "      <td>6.614923e+02</td>\n",
       "      <td>4.000</td>\n",
       "      <td>266.000</td>\n",
       "      <td>528.000</td>\n",
       "      <td>840.000</td>\n",
       "      <td>5.501000e+03</td>\n",
       "    </tr>\n",
       "    <tr>\n",
       "      <th>Variant</th>\n",
       "      <td>4573719.0</td>\n",
       "      <td>1.711881e+01</td>\n",
       "      <td>5.138552e+01</td>\n",
       "      <td>2.000</td>\n",
       "      <td>2.000</td>\n",
       "      <td>2.000</td>\n",
       "      <td>4.000</td>\n",
       "      <td>2.070000e+02</td>\n",
       "    </tr>\n",
       "    <tr>\n",
       "      <th>PopMale</th>\n",
       "      <td>4573719.0</td>\n",
       "      <td>1.181795e+05</td>\n",
       "      <td>4.226900e+05</td>\n",
       "      <td>20.799</td>\n",
       "      <td>2304.234</td>\n",
       "      <td>8407.832</td>\n",
       "      <td>43178.393</td>\n",
       "      <td>3.974825e+06</td>\n",
       "    </tr>\n",
       "    <tr>\n",
       "      <th>PopFemale</th>\n",
       "      <td>4573719.0</td>\n",
       "      <td>1.163584e+05</td>\n",
       "      <td>4.126606e+05</td>\n",
       "      <td>21.385</td>\n",
       "      <td>2296.610</td>\n",
       "      <td>8556.547</td>\n",
       "      <td>43422.822</td>\n",
       "      <td>3.908977e+06</td>\n",
       "    </tr>\n",
       "    <tr>\n",
       "      <th>PopTotal</th>\n",
       "      <td>4573719.0</td>\n",
       "      <td>2.345380e+05</td>\n",
       "      <td>8.352994e+05</td>\n",
       "      <td>42.234</td>\n",
       "      <td>4596.023</td>\n",
       "      <td>16945.062</td>\n",
       "      <td>86422.240</td>\n",
       "      <td>7.883802e+06</td>\n",
       "    </tr>\n",
       "    <tr>\n",
       "      <th>PopDensity</th>\n",
       "      <td>4573719.0</td>\n",
       "      <td>1.575197e+02</td>\n",
       "      <td>7.622126e+02</td>\n",
       "      <td>0.632</td>\n",
       "      <td>21.361</td>\n",
       "      <td>59.067</td>\n",
       "      <td>122.664</td>\n",
       "      <td>2.211167e+04</td>\n",
       "    </tr>\n",
       "  </tbody>\n",
       "</table>\n",
       "</div>"
      ],
      "text/plain": [
       "                count          mean           std       min       25%  \\\n",
       "Area        4573719.0  1.254400e+03  2.127966e+03     1.000    84.000   \n",
       "Item        4573719.0  8.455887e+02  1.259929e+03    15.000   358.000   \n",
       "Element     4573719.0  5.408217e+03  1.028571e+02  5111.000  5312.000   \n",
       "Year        4573719.0  2.001514e+03  1.887429e+01  1961.000  1987.000   \n",
       "Unit        4573719.0  8.583100e+00  2.901420e+00     0.000     7.000   \n",
       "Value       4573719.0  2.537688e+06  3.091745e+07     0.000  2378.000   \n",
       "Flag        4573719.0  8.588962e-01  8.410015e-01     0.000     0.000   \n",
       "Location    4573719.0  5.977271e+02  6.614923e+02     4.000   266.000   \n",
       "Variant     4573719.0  1.711881e+01  5.138552e+01     2.000     2.000   \n",
       "PopMale     4573719.0  1.181795e+05  4.226900e+05    20.799  2304.234   \n",
       "PopFemale   4573719.0  1.163584e+05  4.126606e+05    21.385  2296.610   \n",
       "PopTotal    4573719.0  2.345380e+05  8.352994e+05    42.234  4596.023   \n",
       "PopDensity  4573719.0  1.575197e+02  7.622126e+02     0.632    21.361   \n",
       "\n",
       "                  50%         75%           max  \n",
       "Area          159.000     249.000  5.504000e+03  \n",
       "Item          600.000    1058.000  1.753000e+04  \n",
       "Element      5419.000    5510.000  5.513000e+03  \n",
       "Year         2006.000    2020.000  2.021000e+03  \n",
       "Unit           10.000      11.000  1.100000e+01  \n",
       "Value       22563.000  156931.700  3.070645e+09  \n",
       "Flag            1.000       1.000  4.000000e+00  \n",
       "Location      528.000     840.000  5.501000e+03  \n",
       "Variant         2.000       4.000  2.070000e+02  \n",
       "PopMale      8407.832   43178.393  3.974825e+06  \n",
       "PopFemale    8556.547   43422.822  3.908977e+06  \n",
       "PopTotal    16945.062   86422.240  7.883802e+06  \n",
       "PopDensity     59.067     122.664  2.211167e+04  "
      ]
     },
     "execution_count": 23,
     "metadata": {},
     "output_type": "execute_result"
    }
   ],
   "source": [
    "df_transpose = df.describe().T\n",
    "df_transpose"
   ]
  },
  {
   "cell_type": "code",
   "execution_count": 24,
   "id": "87295d07",
   "metadata": {},
   "outputs": [
    {
     "data": {
      "text/plain": [
       "<AxesSubplot: title={'center': 'Correlation of Attributes'}>"
      ]
     },
     "execution_count": 24,
     "metadata": {},
     "output_type": "execute_result"
    },
    {
     "data": {
      "image/png": "[encoded data removed]",
      "text/plain": [
       "<Figure size 1500x700 with 2 Axes>"
      ]
     },
     "metadata": {},
     "output_type": "display_data"
    }
   ],
   "source": [
    "plt.figure(figsize = (15,7))\n",
    "plt.title('Correlation of Attributes', y=1.05, size=19)\n",
    "sns.heatmap(df.corr(), cmap='plasma',annot=True, fmt='.2f')"
   ]
  },
  {
   "cell_type": "code",
   "execution_count": 25,
   "id": "8ef46bb5",
   "metadata": {},
   "outputs": [
    {
     "data": {
      "text/plain": [
       "<AxesSubplot: >"
      ]
     },
     "execution_count": 25,
     "metadata": {},
     "output_type": "execute_result"
    },
    {
     "data": {
      "image/png": "[encoded data removed]",
      "text/plain": [
       "<Figure size 2000x500 with 1 Axes>"
      ]
     },
     "metadata": {},
     "output_type": "display_data"
    }
   ],
   "source": [
    "df.boxplot(return_type='axes', figsize=(20,5))"
   ]
  },
  {
   "cell_type": "markdown",
   "id": "39fa0df2",
   "metadata": {},
   "source": [
    "## Finding Outliners"
   ]
  },
  {
   "cell_type": "code",
   "execution_count": 26,
   "id": "186050a7",
   "metadata": {},
   "outputs": [],
   "source": [
    "#We get only continious values to find the outliers\n",
    "cat = ['Area','Item','Element','Location','Variant','Unit','Flag','Year']\n",
    "df_test = df.drop(cat,axis=1)"
   ]
  },
  {
   "cell_type": "code",
   "execution_count": 27,
   "id": "02a60971",
   "metadata": {},
   "outputs": [
    {
     "data": {
      "text/html": [
       "<div>\n",
       "<style scoped>\n",
       "    .dataframe tbody tr th:only-of-type {\n",
       "        vertical-align: middle;\n",
       "    }\n",
       "\n",
       "    .dataframe tbody tr th {\n",
       "        vertical-align: top;\n",
       "    }\n",
       "\n",
       "    .dataframe thead th {\n",
       "        text-align: right;\n",
       "    }\n",
       "</style>\n",
       "<table border=\"1\" class=\"dataframe\">\n",
       "  <thead>\n",
       "    <tr style=\"text-align: right;\">\n",
       "      <th></th>\n",
       "      <th>PopMale</th>\n",
       "      <th>PopFemale</th>\n",
       "      <th>PopTotal</th>\n",
       "      <th>PopDensity</th>\n",
       "    </tr>\n",
       "    <tr>\n",
       "      <th>Value</th>\n",
       "      <th></th>\n",
       "      <th></th>\n",
       "      <th></th>\n",
       "      <th></th>\n",
       "    </tr>\n",
       "  </thead>\n",
       "  <tbody>\n",
       "    <tr>\n",
       "      <th>0.000000e+00</th>\n",
       "      <td>6446.273</td>\n",
       "      <td>6242.891</td>\n",
       "      <td>12689.164</td>\n",
       "      <td>19.436</td>\n",
       "    </tr>\n",
       "    <tr>\n",
       "      <th>1.000000e-02</th>\n",
       "      <td>2205.325</td>\n",
       "      <td>2121.008</td>\n",
       "      <td>4326.333</td>\n",
       "      <td>4120.317</td>\n",
       "    </tr>\n",
       "    <tr>\n",
       "      <th>2.000000e-02</th>\n",
       "      <td>96.367</td>\n",
       "      <td>94.769</td>\n",
       "      <td>191.136</td>\n",
       "      <td>8.379</td>\n",
       "    </tr>\n",
       "    <tr>\n",
       "      <th>3.000000e-02</th>\n",
       "      <td>128.405</td>\n",
       "      <td>126.663</td>\n",
       "      <td>255.068</td>\n",
       "      <td>11.182</td>\n",
       "    </tr>\n",
       "    <tr>\n",
       "      <th>4.000000e-02</th>\n",
       "      <td>43.373</td>\n",
       "      <td>47.034</td>\n",
       "      <td>90.407</td>\n",
       "      <td>205.470</td>\n",
       "    </tr>\n",
       "    <tr>\n",
       "      <th>...</th>\n",
       "      <td>...</td>\n",
       "      <td>...</td>\n",
       "      <td>...</td>\n",
       "      <td>...</td>\n",
       "    </tr>\n",
       "    <tr>\n",
       "      <th>2.911950e+09</th>\n",
       "      <td>3763157.221</td>\n",
       "      <td>3700864.713</td>\n",
       "      <td>7464021.934</td>\n",
       "      <td>57.374</td>\n",
       "    </tr>\n",
       "    <tr>\n",
       "      <th>2.962815e+09</th>\n",
       "      <td>3889034.611</td>\n",
       "      <td>3824433.594</td>\n",
       "      <td>7713468.205</td>\n",
       "      <td>59.291</td>\n",
       "    </tr>\n",
       "    <tr>\n",
       "      <th>2.966111e+09</th>\n",
       "      <td>3805469.093</td>\n",
       "      <td>3742389.807</td>\n",
       "      <td>7547858.900</td>\n",
       "      <td>58.018</td>\n",
       "    </tr>\n",
       "    <tr>\n",
       "      <th>3.006634e+09</th>\n",
       "      <td>3929973.953</td>\n",
       "      <td>3864824.776</td>\n",
       "      <td>7794798.729</td>\n",
       "      <td>59.917</td>\n",
       "    </tr>\n",
       "    <tr>\n",
       "      <th>3.070645e+09</th>\n",
       "      <td>3970238.390</td>\n",
       "      <td>3904727.342</td>\n",
       "      <td>7874965.732</td>\n",
       "      <td>60.533</td>\n",
       "    </tr>\n",
       "  </tbody>\n",
       "</table>\n",
       "<p>803660 rows × 4 columns</p>\n",
       "</div>"
      ],
      "text/plain": [
       "                  PopMale    PopFemale     PopTotal  PopDensity\n",
       "Value                                                          \n",
       "0.000000e+00     6446.273     6242.891    12689.164      19.436\n",
       "1.000000e-02     2205.325     2121.008     4326.333    4120.317\n",
       "2.000000e-02       96.367       94.769      191.136       8.379\n",
       "3.000000e-02      128.405      126.663      255.068      11.182\n",
       "4.000000e-02       43.373       47.034       90.407     205.470\n",
       "...                   ...          ...          ...         ...\n",
       "2.911950e+09  3763157.221  3700864.713  7464021.934      57.374\n",
       "2.962815e+09  3889034.611  3824433.594  7713468.205      59.291\n",
       "2.966111e+09  3805469.093  3742389.807  7547858.900      58.018\n",
       "3.006634e+09  3929973.953  3864824.776  7794798.729      59.917\n",
       "3.070645e+09  3970238.390  3904727.342  7874965.732      60.533\n",
       "\n",
       "[803660 rows x 4 columns]"
      ]
     },
     "execution_count": 27,
     "metadata": {},
     "output_type": "execute_result"
    }
   ],
   "source": [
    "df_test.groupby('Value').first()"
   ]
  },
  {
   "cell_type": "code",
   "execution_count": 28,
   "id": "caeb1cb7",
   "metadata": {},
   "outputs": [
    {
     "data": {
      "text/html": [
       "<div>\n",
       "<style scoped>\n",
       "    .dataframe tbody tr th:only-of-type {\n",
       "        vertical-align: middle;\n",
       "    }\n",
       "\n",
       "    .dataframe tbody tr th {\n",
       "        vertical-align: top;\n",
       "    }\n",
       "\n",
       "    .dataframe thead th {\n",
       "        text-align: right;\n",
       "    }\n",
       "</style>\n",
       "<table border=\"1\" class=\"dataframe\">\n",
       "  <thead>\n",
       "    <tr style=\"text-align: right;\">\n",
       "      <th></th>\n",
       "      <th>Value</th>\n",
       "      <th>PopMale</th>\n",
       "      <th>PopFemale</th>\n",
       "      <th>PopDensity</th>\n",
       "    </tr>\n",
       "    <tr>\n",
       "      <th>PopTotal</th>\n",
       "      <th></th>\n",
       "      <th></th>\n",
       "      <th></th>\n",
       "      <th></th>\n",
       "    </tr>\n",
       "  </thead>\n",
       "  <tbody>\n",
       "    <tr>\n",
       "      <th>42.234</th>\n",
       "      <td>450.0</td>\n",
       "      <td>20.849</td>\n",
       "      <td>21.385</td>\n",
       "      <td>52.141</td>\n",
       "    </tr>\n",
       "    <tr>\n",
       "      <th>42.460</th>\n",
       "      <td>6.0</td>\n",
       "      <td>20.799</td>\n",
       "      <td>21.661</td>\n",
       "      <td>92.304</td>\n",
       "    </tr>\n",
       "    <tr>\n",
       "      <th>43.283</th>\n",
       "      <td>470.0</td>\n",
       "      <td>21.370</td>\n",
       "      <td>21.913</td>\n",
       "      <td>53.436</td>\n",
       "    </tr>\n",
       "    <tr>\n",
       "      <th>43.461</th>\n",
       "      <td>6.0</td>\n",
       "      <td>21.336</td>\n",
       "      <td>22.125</td>\n",
       "      <td>94.480</td>\n",
       "    </tr>\n",
       "    <tr>\n",
       "      <th>44.342</th>\n",
       "      <td>500.0</td>\n",
       "      <td>21.901</td>\n",
       "      <td>22.441</td>\n",
       "      <td>54.743</td>\n",
       "    </tr>\n",
       "    <tr>\n",
       "      <th>...</th>\n",
       "      <td>...</td>\n",
       "      <td>...</td>\n",
       "      <td>...</td>\n",
       "      <td>...</td>\n",
       "    </tr>\n",
       "    <tr>\n",
       "      <th>7874751.698</th>\n",
       "      <td>174067.0</td>\n",
       "      <td>3970061.482</td>\n",
       "      <td>3904690.216</td>\n",
       "      <td>60.531</td>\n",
       "    </tr>\n",
       "    <tr>\n",
       "      <th>7874965.732</th>\n",
       "      <td>174067.0</td>\n",
       "      <td>3970238.390</td>\n",
       "      <td>3904727.342</td>\n",
       "      <td>60.533</td>\n",
       "    </tr>\n",
       "    <tr>\n",
       "      <th>7876434.843</th>\n",
       "      <td>174067.0</td>\n",
       "      <td>3970971.240</td>\n",
       "      <td>3905463.603</td>\n",
       "      <td>60.544</td>\n",
       "    </tr>\n",
       "    <tr>\n",
       "      <th>7878657.241</th>\n",
       "      <td>174067.0</td>\n",
       "      <td>3972157.343</td>\n",
       "      <td>3906499.898</td>\n",
       "      <td>60.561</td>\n",
       "    </tr>\n",
       "    <tr>\n",
       "      <th>7883801.792</th>\n",
       "      <td>174067.0</td>\n",
       "      <td>3974824.832</td>\n",
       "      <td>3908976.960</td>\n",
       "      <td>60.601</td>\n",
       "    </tr>\n",
       "  </tbody>\n",
       "</table>\n",
       "<p>13420 rows × 4 columns</p>\n",
       "</div>"
      ],
      "text/plain": [
       "                Value      PopMale    PopFemale  PopDensity\n",
       "PopTotal                                                   \n",
       "42.234          450.0       20.849       21.385      52.141\n",
       "42.460            6.0       20.799       21.661      92.304\n",
       "43.283          470.0       21.370       21.913      53.436\n",
       "43.461            6.0       21.336       22.125      94.480\n",
       "44.342          500.0       21.901       22.441      54.743\n",
       "...               ...          ...          ...         ...\n",
       "7874751.698  174067.0  3970061.482  3904690.216      60.531\n",
       "7874965.732  174067.0  3970238.390  3904727.342      60.533\n",
       "7876434.843  174067.0  3970971.240  3905463.603      60.544\n",
       "7878657.241  174067.0  3972157.343  3906499.898      60.561\n",
       "7883801.792  174067.0  3974824.832  3908976.960      60.601\n",
       "\n",
       "[13420 rows x 4 columns]"
      ]
     },
     "execution_count": 28,
     "metadata": {},
     "output_type": "execute_result"
    }
   ],
   "source": [
    "df_test.groupby('PopTotal').first()"
   ]
  },
  {
   "cell_type": "code",
   "execution_count": 29,
   "id": "3b810c2e",
   "metadata": {},
   "outputs": [
    {
     "data": {
      "text/plain": [
       "<AxesSubplot: xlabel='Value'>"
      ]
     },
     "execution_count": 29,
     "metadata": {},
     "output_type": "execute_result"
    },
    {
     "data": {
      "image/png": "[encoded data removed]",
      "text/plain": [
       "<Figure size 640x480 with 1 Axes>"
      ]
     },
     "metadata": {},
     "output_type": "display_data"
    }
   ],
   "source": [
    "import seaborn as sns\n",
    "sns.boxplot(x=df_test['Value'])"
   ]
  },
  {
   "cell_type": "code",
   "execution_count": 30,
   "id": "8af40880",
   "metadata": {},
   "outputs": [
    {
     "data": {
      "text/plain": [
       "<AxesSubplot: xlabel='PopTotal'>"
      ]
     },
     "execution_count": 30,
     "metadata": {},
     "output_type": "execute_result"
    },
    {
     "data": {
      "image/png": "[encoded data removed]",
      "text/plain": [
       "<Figure size 640x480 with 1 Axes>"
      ]
     },
     "metadata": {},
     "output_type": "display_data"
    }
   ],
   "source": [
    "sns.boxplot(x=df_test['PopTotal'])"
   ]
  },
  {
   "cell_type": "code",
   "execution_count": 31,
   "id": "f742ec1d",
   "metadata": {},
   "outputs": [
    {
     "name": "stdout",
     "output_type": "stream",
     "text": [
      "Interquartile range =  154553.7\n",
      "Numerber of outliers in balance column below the lower whisker : 0\n",
      "Numerber of outliers above balance column the uper whisker  : 744009\n"
     ]
    }
   ],
   "source": [
    "Q1 =  df['Value'].quantile(0.25) # 1º Quartile\n",
    "Q3 =  df['Value'].quantile(0.75) # 3º Quartile\n",
    "IQR = Q3 - Q1                      # Interquartile range\n",
    "print('Interquartile range = ', IQR)\n",
    "print('Numerber of outliers in balance column below the lower whisker :', df[df['Value'] < (Q1-(1.5*IQR))]['Value'].count())\n",
    "print('Numerber of outliers above balance column the uper whisker  :', df[df['Value'] > (Q3+(1.5*IQR))]['Value'].count())\n",
    "\n"
   ]
  },
  {
   "cell_type": "code",
   "execution_count": 32,
   "id": "0f11d983",
   "metadata": {},
   "outputs": [
    {
     "name": "stdout",
     "output_type": "stream",
     "text": [
      "Column Name                                         : Value\n",
      "Interquartile range IQR                             : 154553.7\n",
      "Numerber of outliers below the lower whisker        : 0\n",
      "Numerber of outliers above the upper whisker         : 744009\n",
      "Total Numbers of Ourliers                           : 744009\n",
      "\n",
      "\n",
      "Column Name                                         : PopMale\n",
      "Interquartile range IQR                             : 40874.159\n",
      "Numerber of outliers below the lower whisker        : 0\n",
      "Numerber of outliers above the upper whisker         : 704104\n",
      "Total Numbers of Ourliers                           : 704104\n",
      "\n",
      "\n",
      "Column Name                                         : PopFemale\n",
      "Interquartile range IQR                             : 41126.212\n",
      "Numerber of outliers below the lower whisker        : 0\n",
      "Numerber of outliers above the upper whisker         : 706111\n",
      "Total Numbers of Ourliers                           : 706111\n",
      "\n",
      "\n",
      "Column Name                                         : PopTotal\n",
      "Interquartile range IQR                             : 81826.217\n",
      "Numerber of outliers below the lower whisker        : 0\n",
      "Numerber of outliers above the upper whisker         : 709212\n",
      "Total Numbers of Ourliers                           : 709212\n",
      "\n",
      "\n",
      "Column Name                                         : PopDensity\n",
      "Interquartile range IQR                             : 101.303\n",
      "Numerber of outliers below the lower whisker        : 0\n",
      "Numerber of outliers above the upper whisker         : 440784\n",
      "Total Numbers of Ourliers                           : 440784\n",
      "\n",
      "\n"
     ]
    }
   ],
   "source": [
    "for i in df_test.columns.tolist():\n",
    "    Q1 = df.describe().at['25%', i]\n",
    "    Q3 = df.describe().at['75%', i]\n",
    "    IQR = Q3-Q1\n",
    "    LTV = Q1 - 1.5 * IQR \n",
    "    UTV = Q3 + 1.5 * IQR \n",
    "    print('Column Name                                         :', i)\n",
    "    print('Interquartile range IQR                             :', IQR)\n",
    "    print('Numerber of outliers below the lower whisker        :', df[df[i] < LTV][i].count())\n",
    "    print('Numerber of outliers above the upper whisker         :', df[df[i] > UTV][i].count())\n",
    "    print('Total Numbers of Ourliers                           :', (df[df[i] < LTV][i].count()) + (df[df[i] > UTV][i].count()))\n",
    "    \n",
    "    print('\\n')"
   ]
  },
  {
   "cell_type": "code",
   "execution_count": 33,
   "id": "d8f74b47",
   "metadata": {},
   "outputs": [
    {
     "data": {
      "text/html": [
       "<div>\n",
       "<style scoped>\n",
       "    .dataframe tbody tr th:only-of-type {\n",
       "        vertical-align: middle;\n",
       "    }\n",
       "\n",
       "    .dataframe tbody tr th {\n",
       "        vertical-align: top;\n",
       "    }\n",
       "\n",
       "    .dataframe thead th {\n",
       "        text-align: right;\n",
       "    }\n",
       "</style>\n",
       "<table border=\"1\" class=\"dataframe\">\n",
       "  <thead>\n",
       "    <tr style=\"text-align: right;\">\n",
       "      <th></th>\n",
       "      <th>count</th>\n",
       "      <th>mean</th>\n",
       "      <th>std</th>\n",
       "      <th>min</th>\n",
       "      <th>25%</th>\n",
       "      <th>50%</th>\n",
       "      <th>75%</th>\n",
       "      <th>max</th>\n",
       "    </tr>\n",
       "  </thead>\n",
       "  <tbody>\n",
       "    <tr>\n",
       "      <th>Value</th>\n",
       "      <td>4573719.00</td>\n",
       "      <td>2537688.45</td>\n",
       "      <td>30917453.27</td>\n",
       "      <td>0.00</td>\n",
       "      <td>2378.00</td>\n",
       "      <td>22563.00</td>\n",
       "      <td>156931.70</td>\n",
       "      <td>3070645412.97</td>\n",
       "    </tr>\n",
       "    <tr>\n",
       "      <th>PopMale</th>\n",
       "      <td>4573719.00</td>\n",
       "      <td>118179.52</td>\n",
       "      <td>422690.04</td>\n",
       "      <td>20.80</td>\n",
       "      <td>2304.23</td>\n",
       "      <td>8407.83</td>\n",
       "      <td>43178.39</td>\n",
       "      <td>3974824.83</td>\n",
       "    </tr>\n",
       "    <tr>\n",
       "      <th>PopFemale</th>\n",
       "      <td>4573719.00</td>\n",
       "      <td>116358.45</td>\n",
       "      <td>412660.65</td>\n",
       "      <td>21.39</td>\n",
       "      <td>2296.61</td>\n",
       "      <td>8556.55</td>\n",
       "      <td>43422.82</td>\n",
       "      <td>3908976.96</td>\n",
       "    </tr>\n",
       "    <tr>\n",
       "      <th>PopTotal</th>\n",
       "      <td>4573719.00</td>\n",
       "      <td>234537.97</td>\n",
       "      <td>835299.38</td>\n",
       "      <td>42.23</td>\n",
       "      <td>4596.02</td>\n",
       "      <td>16945.06</td>\n",
       "      <td>86422.24</td>\n",
       "      <td>7883801.79</td>\n",
       "    </tr>\n",
       "    <tr>\n",
       "      <th>PopDensity</th>\n",
       "      <td>4573719.00</td>\n",
       "      <td>157.52</td>\n",
       "      <td>762.21</td>\n",
       "      <td>0.63</td>\n",
       "      <td>21.36</td>\n",
       "      <td>59.07</td>\n",
       "      <td>122.66</td>\n",
       "      <td>22111.67</td>\n",
       "    </tr>\n",
       "  </tbody>\n",
       "</table>\n",
       "</div>"
      ],
      "text/plain": [
       "                count       mean         std   min     25%      50%       75%  \\\n",
       "Value      4573719.00 2537688.45 30917453.27  0.00 2378.00 22563.00 156931.70   \n",
       "PopMale    4573719.00  118179.52   422690.04 20.80 2304.23  8407.83  43178.39   \n",
       "PopFemale  4573719.00  116358.45   412660.65 21.39 2296.61  8556.55  43422.82   \n",
       "PopTotal   4573719.00  234537.97   835299.38 42.23 4596.02 16945.06  86422.24   \n",
       "PopDensity 4573719.00     157.52      762.21  0.63   21.36    59.07    122.66   \n",
       "\n",
       "                     max  \n",
       "Value      3070645412.97  \n",
       "PopMale       3974824.83  \n",
       "PopFemale     3908976.96  \n",
       "PopTotal      7883801.79  \n",
       "PopDensity      22111.67  "
      ]
     },
     "execution_count": 33,
     "metadata": {},
     "output_type": "execute_result"
    }
   ],
   "source": [
    "pd.set_option('display.float_format', '{:.2f}'.format)\n",
    "df_transpose = df_test.describe().T\n",
    "df_transpose"
   ]
  },
  {
   "cell_type": "markdown",
   "id": "5018ec76",
   "metadata": {},
   "source": [
    "## Removing necesary Outliners"
   ]
  },
  {
   "cell_type": "code",
   "execution_count": 34,
   "id": "53009208",
   "metadata": {},
   "outputs": [],
   "source": [
    "from collections import Counter\n",
    "def detect_outliers(data,features):\n",
    "    outlier_indices = []\n",
    "    for c in features:\n",
    "        Q1 = np.percentile(data[c],25)\n",
    "        Q3 = np.percentile(data[c],75)\n",
    "        IQR = Q3 - Q1\n",
    "        outlier_step = IQR * 1.5\n",
    "        outlier_list_col = data[(data[c] < Q1 - outlier_step) | (data[c] > Q3 + outlier_step)].index\n",
    "        outlier_indices.extend(outlier_list_col)\n",
    "    \n",
    "    #We only remove the rows which are outliers in 2 or more columns.\n",
    "    outlier_indices = Counter(outlier_indices)\n",
    "    multiple_outliers = list(i for i, v in outlier_indices.items() if v > 2)\n",
    "    \n",
    "    return multiple_outliers"
   ]
  },
  {
   "cell_type": "code",
   "execution_count": 35,
   "id": "bca835a6",
   "metadata": {},
   "outputs": [
    {
     "name": "stdout",
     "output_type": "stream",
     "text": [
      "Number of rows to be delete are : 702369\n"
     ]
    }
   ],
   "source": [
    "indexes = df_test.loc[detect_outliers(df_test,df_test.columns)]\n",
    "print(\"Number of rows to be delete are :\",len(indexes.index.tolist()))"
   ]
  },
  {
   "cell_type": "code",
   "execution_count": 36,
   "id": "7c043f1d",
   "metadata": {},
   "outputs": [],
   "source": [
    "df = df.drop(indexes.index.tolist(), axis=0).reset_index(drop=True)"
   ]
  },
  {
   "cell_type": "code",
   "execution_count": 37,
   "id": "0598da7b",
   "metadata": {},
   "outputs": [
    {
     "name": "stdout",
     "output_type": "stream",
     "text": [
      "<class 'pandas.core.frame.DataFrame'>\n",
      "RangeIndex: 3871350 entries, 0 to 3871349\n",
      "Data columns (total 13 columns):\n",
      " #   Column      Dtype  \n",
      "---  ------      -----  \n",
      " 0   Area        int64  \n",
      " 1   Item        int64  \n",
      " 2   Element     int64  \n",
      " 3   Year        int64  \n",
      " 4   Unit        int64  \n",
      " 5   Value       float64\n",
      " 6   Flag        int64  \n",
      " 7   Location    int64  \n",
      " 8   Variant     int64  \n",
      " 9   PopMale     float64\n",
      " 10  PopFemale   float64\n",
      " 11  PopTotal    float64\n",
      " 12  PopDensity  float64\n",
      "dtypes: float64(5), int64(8)\n",
      "memory usage: 384.0 MB\n"
     ]
    }
   ],
   "source": [
    "df.info()"
   ]
  },
  {
   "cell_type": "code",
   "execution_count": null,
   "id": "79528aac",
   "metadata": {},
   "outputs": [],
   "source": []
  },
  {
   "cell_type": "markdown",
   "id": "1ab9a984",
   "metadata": {},
   "source": [
    "# Clasification:"
   ]
  },
  {
   "cell_type": "code",
   "execution_count": 38,
   "id": "d380d554",
   "metadata": {},
   "outputs": [
    {
     "data": {
      "text/plain": [
       "<AxesSubplot: >"
      ]
     },
     "execution_count": 38,
     "metadata": {},
     "output_type": "execute_result"
    },
    {
     "data": {
      "image/png": "[encoded data removed]",
      "text/plain": [
       "<Figure size 1500x1500 with 2 Axes>"
      ]
     },
     "metadata": {},
     "output_type": "display_data"
    }
   ],
   "source": [
    "# Compute the correlation matrix\n",
    "corr = df.corr()\n",
    "\n",
    "# Generate a mask for the upper triangle\n",
    "mask = np.zeros_like(corr, dtype=bool)\n",
    "mask[np.triu_indices_from(mask)] = True\n",
    "\n",
    "# Set up the matplotlib figure\n",
    "f, ax = plt.subplots(figsize=(15, 15))\n",
    "\n",
    "# Generate a custom diverging colormap\n",
    "cmap = sns.diverging_palette(220, 10, as_cmap=True)\n",
    "\n",
    "# Draw the heatmap with the mask and correct aspect ratio\n",
    "sns.heatmap(corr, mask=mask, cmap=cmap, vmax=.3, center=0,\n",
    "            square=True, linewidths=.5, annot=True, cbar_kws={\"shrink\": .5})"
   ]
  },
  {
   "cell_type": "markdown",
   "id": "52c59534",
   "metadata": {},
   "source": [
    "## Splitting data"
   ]
  },
  {
   "cell_type": "code",
   "execution_count": 39,
   "id": "98462315",
   "metadata": {},
   "outputs": [],
   "source": [
    "df_new = df.drop(['Area','Flag'], axis=1)[0:-2000000]"
   ]
  },
  {
   "cell_type": "code",
   "execution_count": 40,
   "id": "377126e5",
   "metadata": {},
   "outputs": [
    {
     "name": "stdout",
     "output_type": "stream",
     "text": [
      "x train data (1497080, 10)\n",
      "y train data (1497080, 1)\n",
      "x test data  (374270, 10)\n",
      "y test data  (374270, 1)\n"
     ]
    }
   ],
   "source": [
    "from sklearn.model_selection import train_test_split\n",
    "X = df_new.drop('Variant', axis=1)\n",
    "y = df_new[['Variant']]\n",
    "X_train, X_test, y_train, y_test = train_test_split(X, y, test_size=0.20, random_state=7)\n",
    "print('x train data {}'.format(X_train.shape))\n",
    "print('y train data {}'.format(y_train.shape))\n",
    "print('x test data  {}'.format(X_test.shape))\n",
    "print('y test data  {}'.format(y_test.shape))"
   ]
  },
  {
   "cell_type": "markdown",
   "id": "1238e1aa",
   "metadata": {},
   "source": [
    "### Logistic Regression"
   ]
  },
  {
   "cell_type": "code",
   "execution_count": 41,
   "id": "f0c2dd0f",
   "metadata": {},
   "outputs": [
    {
     "name": "stdout",
     "output_type": "stream",
     "text": [
      "Stats for logistic Regression : \n",
      "Train Accuracy : 71.55449274587863 %\n",
      "Test Accuracy : 71.49063510300051 %\n"
     ]
    }
   ],
   "source": [
    "model = LogisticRegression().fit(X_train, y_train)\n",
    "print(\"Stats for logistic Regression : \")\n",
    "print(\"Train Accuracy :\",accuracy_score(model.predict(X_train),y_train)*100,\"%\")\n",
    "print(\"Test Accuracy :\",accuracy_score(model.predict(X_test),y_test)*100,\"%\")"
   ]
  },
  {
   "cell_type": "code",
   "execution_count": null,
   "id": "65b9da91",
   "metadata": {},
   "outputs": [],
   "source": [
    "model = svm.SVC(decision_function_shape='ovo').fit(X_train, y_train)\n",
    "print(\"Stats for SVM : \")\n",
    "print(\"Train Accuracy :\",accuracy_score(model.predict(X_train),y_train)*100,\"%\")\n",
    "print(\"Test Accuracy :\",accuracy_score(model.predict(X_test),y_test)*100,\"%\")"
   ]
  },
  {
   "cell_type": "code",
   "execution_count": null,
   "id": "340c3d1a",
   "metadata": {},
   "outputs": [],
   "source": [
    "model = KNeighborsClassifier(n_neighbors=6).fit(X_train, y_train)\n",
    "print(\"Stats for KNN : \")\n",
    "print(\"Train Accuracy :\",accuracy_score(model.predict(X_train),y_train)*100,\"%\")\n",
    "print(\"Test Accuracy :\",accuracy_score(model.predict(X_test),y_test)*100,\"%\")"
   ]
  },
  {
   "cell_type": "code",
   "execution_count": null,
   "id": "6dbdf66c",
   "metadata": {},
   "outputs": [],
   "source": [
    "model = DecisionTreeClassifier().fit(X_train, y_train)\n",
    "print(\"Stats for Decision tree : \")\n",
    "print(\"Train Accuracy :\",accuracy_score(model.predict(X_train),y_train)*100,\"%\")\n",
    "print(\"Test Accuracy :\",accuracy_score(model.predict(X_test),y_test)*100,\"%\")"
   ]
  },
  {
   "cell_type": "code",
   "execution_count": null,
   "id": "30ecaac5",
   "metadata": {},
   "outputs": [],
   "source": []
  }
 ],
 "metadata": {
  "kernelspec": {
   "display_name": "Python 3 (ipykernel)",
   "language": "python",
   "name": "python3"
  },
  "language_info": {
   "codemirror_mode": {
    "name": "ipython",
    "version": 3
   },
   "file_extension": ".py",
   "mimetype": "text/x-python",
   "name": "python",
   "nbconvert_exporter": "python",
   "pygments_lexer": "ipython3",
   "version": "3.9.16"
  }
 },
 "nbformat": 4,
 "nbformat_minor": 5
}
