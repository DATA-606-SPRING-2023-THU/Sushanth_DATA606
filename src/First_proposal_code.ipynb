{
 "cells": [
  {
   "cell_type": "markdown",
   "id": "19f6c9df",
   "metadata": {},
   "source": [
    "# Project"
   ]
  },
  {
   "cell_type": "markdown",
   "id": "dddde570",
   "metadata": {},
   "source": [
    "We will be downloading the datasets as a zip file from the website \"https://www.fao.org/faostat/en/#data/QCL\", from the All Data Normalized option. After loading the data we will be extracting data and analyse the data. In this case the zip file should be in the same dicrectory as this notebook."
   ]
  },
  {
   "cell_type": "code",
   "execution_count": 1,
   "id": "5981d511",
   "metadata": {},
   "outputs": [],
   "source": [
    "import numpy as np \n",
    "import pandas as pd\n",
    "import zipfile\n",
    "\n",
    "import matplotlib.pyplot as plt\n",
    "import matplotlib\n",
    "import seaborn as sns"
   ]
  },
  {
   "cell_type": "code",
   "execution_count": 2,
   "id": "4110f674",
   "metadata": {},
   "outputs": [],
   "source": [
    "with zipfile.ZipFile(\"Production_Crops_Livestock_E_All_Data_(Normalized).zip\",\"r\") as zip_ref:\n",
    "    zip_ref.extractall(\"targetdir\")"
   ]
  },
  {
   "cell_type": "code",
   "execution_count": 3,
   "id": "dff9dd7c",
   "metadata": {},
   "outputs": [
    {
     "data": {
      "text/html": [
       "<div>\n",
       "<style scoped>\n",
       "    .dataframe tbody tr th:only-of-type {\n",
       "        vertical-align: middle;\n",
       "    }\n",
       "\n",
       "    .dataframe tbody tr th {\n",
       "        vertical-align: top;\n",
       "    }\n",
       "\n",
       "    .dataframe thead th {\n",
       "        text-align: right;\n",
       "    }\n",
       "</style>\n",
       "<table border=\"1\" class=\"dataframe\">\n",
       "  <thead>\n",
       "    <tr style=\"text-align: right;\">\n",
       "      <th></th>\n",
       "      <th>Area Code</th>\n",
       "      <th>Area Code (M49)</th>\n",
       "      <th>Area</th>\n",
       "      <th>Item Code</th>\n",
       "      <th>Item Code (CPC)</th>\n",
       "      <th>Item</th>\n",
       "      <th>Element Code</th>\n",
       "      <th>Element</th>\n",
       "      <th>Year Code</th>\n",
       "      <th>Year</th>\n",
       "      <th>Unit</th>\n",
       "      <th>Value</th>\n",
       "      <th>Flag</th>\n",
       "    </tr>\n",
       "  </thead>\n",
       "  <tbody>\n",
       "    <tr>\n",
       "      <th>0</th>\n",
       "      <td>2</td>\n",
       "      <td>'004</td>\n",
       "      <td>Afghanistan</td>\n",
       "      <td>221</td>\n",
       "      <td>'01371</td>\n",
       "      <td>Almonds, in shell</td>\n",
       "      <td>5312</td>\n",
       "      <td>Area harvested</td>\n",
       "      <td>1975</td>\n",
       "      <td>1975</td>\n",
       "      <td>ha</td>\n",
       "      <td>0.0</td>\n",
       "      <td>E</td>\n",
       "    </tr>\n",
       "    <tr>\n",
       "      <th>1</th>\n",
       "      <td>2</td>\n",
       "      <td>'004</td>\n",
       "      <td>Afghanistan</td>\n",
       "      <td>221</td>\n",
       "      <td>'01371</td>\n",
       "      <td>Almonds, in shell</td>\n",
       "      <td>5312</td>\n",
       "      <td>Area harvested</td>\n",
       "      <td>1976</td>\n",
       "      <td>1976</td>\n",
       "      <td>ha</td>\n",
       "      <td>5900.0</td>\n",
       "      <td>E</td>\n",
       "    </tr>\n",
       "    <tr>\n",
       "      <th>2</th>\n",
       "      <td>2</td>\n",
       "      <td>'004</td>\n",
       "      <td>Afghanistan</td>\n",
       "      <td>221</td>\n",
       "      <td>'01371</td>\n",
       "      <td>Almonds, in shell</td>\n",
       "      <td>5312</td>\n",
       "      <td>Area harvested</td>\n",
       "      <td>1977</td>\n",
       "      <td>1977</td>\n",
       "      <td>ha</td>\n",
       "      <td>6000.0</td>\n",
       "      <td>E</td>\n",
       "    </tr>\n",
       "    <tr>\n",
       "      <th>3</th>\n",
       "      <td>2</td>\n",
       "      <td>'004</td>\n",
       "      <td>Afghanistan</td>\n",
       "      <td>221</td>\n",
       "      <td>'01371</td>\n",
       "      <td>Almonds, in shell</td>\n",
       "      <td>5312</td>\n",
       "      <td>Area harvested</td>\n",
       "      <td>1978</td>\n",
       "      <td>1978</td>\n",
       "      <td>ha</td>\n",
       "      <td>6000.0</td>\n",
       "      <td>E</td>\n",
       "    </tr>\n",
       "    <tr>\n",
       "      <th>4</th>\n",
       "      <td>2</td>\n",
       "      <td>'004</td>\n",
       "      <td>Afghanistan</td>\n",
       "      <td>221</td>\n",
       "      <td>'01371</td>\n",
       "      <td>Almonds, in shell</td>\n",
       "      <td>5312</td>\n",
       "      <td>Area harvested</td>\n",
       "      <td>1979</td>\n",
       "      <td>1979</td>\n",
       "      <td>ha</td>\n",
       "      <td>6000.0</td>\n",
       "      <td>E</td>\n",
       "    </tr>\n",
       "  </tbody>\n",
       "</table>\n",
       "</div>"
      ],
      "text/plain": [
       "   Area Code Area Code (M49)         Area  Item Code Item Code (CPC)  \\\n",
       "0          2            '004  Afghanistan        221          '01371   \n",
       "1          2            '004  Afghanistan        221          '01371   \n",
       "2          2            '004  Afghanistan        221          '01371   \n",
       "3          2            '004  Afghanistan        221          '01371   \n",
       "4          2            '004  Afghanistan        221          '01371   \n",
       "\n",
       "                Item  Element Code         Element  Year Code  Year Unit  \\\n",
       "0  Almonds, in shell          5312  Area harvested       1975  1975   ha   \n",
       "1  Almonds, in shell          5312  Area harvested       1976  1976   ha   \n",
       "2  Almonds, in shell          5312  Area harvested       1977  1977   ha   \n",
       "3  Almonds, in shell          5312  Area harvested       1978  1978   ha   \n",
       "4  Almonds, in shell          5312  Area harvested       1979  1979   ha   \n",
       "\n",
       "    Value Flag  \n",
       "0     0.0    E  \n",
       "1  5900.0    E  \n",
       "2  6000.0    E  \n",
       "3  6000.0    E  \n",
       "4  6000.0    E  "
      ]
     },
     "execution_count": 3,
     "metadata": {},
     "output_type": "execute_result"
    }
   ],
   "source": [
    "df_main = pd.read_csv(\"targetdir/Production_Crops_Livestock_E_All_Data_(Normalized).csv\" ,encoding='cp1252')\n",
    "df_area = pd.read_csv(\"targetdir/Production_Crops_Livestock_E_AreaCodes.csv\" ,encoding='cp1252')\n",
    "df_flags = pd.read_csv(\"targetdir/Production_Crops_Livestock_E_Flags.csv\" ,encoding='cp1252')\n",
    "df_itemcodes = pd.read_csv(\"targetdir/Production_Crops_Livestock_E_ItemCodes.csv\" ,encoding='cp1252')\n",
    "\n",
    "df_main.head()"
   ]
  },
  {
   "cell_type": "markdown",
   "id": "b4ac8a94",
   "metadata": {},
   "source": [
    "# EDA:"
   ]
  },
  {
   "cell_type": "code",
   "execution_count": 4,
   "id": "c8a6b8a1",
   "metadata": {},
   "outputs": [
    {
     "name": "stdout",
     "output_type": "stream",
     "text": [
      "<class 'pandas.core.frame.DataFrame'>\n",
      "RangeIndex: 3761216 entries, 0 to 3761215\n",
      "Data columns (total 13 columns):\n",
      " #   Column           Dtype  \n",
      "---  ------           -----  \n",
      " 0   Area Code        int64  \n",
      " 1   Area Code (M49)  object \n",
      " 2   Area             object \n",
      " 3   Item Code        int64  \n",
      " 4   Item Code (CPC)  object \n",
      " 5   Item             object \n",
      " 6   Element Code     int64  \n",
      " 7   Element          object \n",
      " 8   Year Code        int64  \n",
      " 9   Year             int64  \n",
      " 10  Unit             object \n",
      " 11  Value            float64\n",
      " 12  Flag             object \n",
      "dtypes: float64(1), int64(5), object(7)\n",
      "memory usage: 373.0+ MB\n"
     ]
    }
   ],
   "source": [
    "df_main.info()"
   ]
  },
  {
   "cell_type": "code",
   "execution_count": 5,
   "id": "bc6a6ab6",
   "metadata": {},
   "outputs": [
    {
     "data": {
      "text/html": [
       "<style type=\"text/css\">\n",
       "#T_8ef2a_row0_col0, #T_8ef2a_row1_col1, #T_8ef2a_row2_col2, #T_8ef2a_row3_col3, #T_8ef2a_row3_col4, #T_8ef2a_row4_col3, #T_8ef2a_row4_col4, #T_8ef2a_row5_col5 {\n",
       "  background-color: #b40426;\n",
       "  color: #f1f1f1;\n",
       "}\n",
       "#T_8ef2a_row0_col1, #T_8ef2a_row0_col3, #T_8ef2a_row0_col4, #T_8ef2a_row1_col0, #T_8ef2a_row2_col5, #T_8ef2a_row5_col2 {\n",
       "  background-color: #3b4cc0;\n",
       "  color: #f1f1f1;\n",
       "}\n",
       "#T_8ef2a_row0_col2, #T_8ef2a_row1_col5, #T_8ef2a_row2_col0, #T_8ef2a_row5_col1 {\n",
       "  background-color: #4f69d9;\n",
       "  color: #f1f1f1;\n",
       "}\n",
       "#T_8ef2a_row0_col5 {\n",
       "  background-color: #6788ee;\n",
       "  color: #f1f1f1;\n",
       "}\n",
       "#T_8ef2a_row1_col2, #T_8ef2a_row2_col1, #T_8ef2a_row3_col0, #T_8ef2a_row4_col0 {\n",
       "  background-color: #3c4ec2;\n",
       "  color: #f1f1f1;\n",
       "}\n",
       "#T_8ef2a_row1_col3, #T_8ef2a_row1_col4 {\n",
       "  background-color: #506bda;\n",
       "  color: #f1f1f1;\n",
       "}\n",
       "#T_8ef2a_row2_col3, #T_8ef2a_row2_col4 {\n",
       "  background-color: #465ecf;\n",
       "  color: #f1f1f1;\n",
       "}\n",
       "#T_8ef2a_row3_col1, #T_8ef2a_row4_col1 {\n",
       "  background-color: #536edd;\n",
       "  color: #f1f1f1;\n",
       "}\n",
       "#T_8ef2a_row3_col2, #T_8ef2a_row4_col2 {\n",
       "  background-color: #4961d2;\n",
       "  color: #f1f1f1;\n",
       "}\n",
       "#T_8ef2a_row3_col5, #T_8ef2a_row4_col5 {\n",
       "  background-color: #4e68d8;\n",
       "  color: #f1f1f1;\n",
       "}\n",
       "#T_8ef2a_row5_col0 {\n",
       "  background-color: #6687ed;\n",
       "  color: #f1f1f1;\n",
       "}\n",
       "#T_8ef2a_row5_col3, #T_8ef2a_row5_col4 {\n",
       "  background-color: #4b64d5;\n",
       "  color: #f1f1f1;\n",
       "}\n",
       "</style>\n",
       "<table id=\"T_8ef2a_\">\n",
       "  <thead>\n",
       "    <tr>\n",
       "      <th class=\"blank level0\" >&nbsp;</th>\n",
       "      <th class=\"col_heading level0 col0\" >Area Code</th>\n",
       "      <th class=\"col_heading level0 col1\" >Item Code</th>\n",
       "      <th class=\"col_heading level0 col2\" >Element Code</th>\n",
       "      <th class=\"col_heading level0 col3\" >Year Code</th>\n",
       "      <th class=\"col_heading level0 col4\" >Year</th>\n",
       "      <th class=\"col_heading level0 col5\" >Value</th>\n",
       "    </tr>\n",
       "  </thead>\n",
       "  <tbody>\n",
       "    <tr>\n",
       "      <th id=\"T_8ef2a_level0_row0\" class=\"row_heading level0 row0\" >Area Code</th>\n",
       "      <td id=\"T_8ef2a_row0_col0\" class=\"data row0 col0\" >1.000000</td>\n",
       "      <td id=\"T_8ef2a_row0_col1\" class=\"data row0 col1\" >-0.049110</td>\n",
       "      <td id=\"T_8ef2a_row0_col2\" class=\"data row0 col2\" >0.020593</td>\n",
       "      <td id=\"T_8ef2a_row0_col3\" class=\"data row0 col3\" >-0.042201</td>\n",
       "      <td id=\"T_8ef2a_row0_col4\" class=\"data row0 col4\" >-0.042201</td>\n",
       "      <td id=\"T_8ef2a_row0_col5\" class=\"data row0 col5\" >0.098344</td>\n",
       "    </tr>\n",
       "    <tr>\n",
       "      <th id=\"T_8ef2a_level0_row1\" class=\"row_heading level0 row1\" >Item Code</th>\n",
       "      <td id=\"T_8ef2a_row1_col0\" class=\"data row1 col0\" >-0.049110</td>\n",
       "      <td id=\"T_8ef2a_row1_col1\" class=\"data row1 col1\" >1.000000</td>\n",
       "      <td id=\"T_8ef2a_row1_col2\" class=\"data row1 col2\" >-0.044092</td>\n",
       "      <td id=\"T_8ef2a_row1_col3\" class=\"data row1 col3\" >0.034346</td>\n",
       "      <td id=\"T_8ef2a_row1_col4\" class=\"data row1 col4\" >0.034346</td>\n",
       "      <td id=\"T_8ef2a_row1_col5\" class=\"data row1 col5\" >0.022641</td>\n",
       "    </tr>\n",
       "    <tr>\n",
       "      <th id=\"T_8ef2a_level0_row2\" class=\"row_heading level0 row2\" >Element Code</th>\n",
       "      <td id=\"T_8ef2a_row2_col0\" class=\"data row2 col0\" >0.020593</td>\n",
       "      <td id=\"T_8ef2a_row2_col1\" class=\"data row2 col1\" >-0.044092</td>\n",
       "      <td id=\"T_8ef2a_row2_col2\" class=\"data row2 col2\" >1.000000</td>\n",
       "      <td id=\"T_8ef2a_row2_col3\" class=\"data row2 col3\" >0.002106</td>\n",
       "      <td id=\"T_8ef2a_row2_col4\" class=\"data row2 col4\" >0.002106</td>\n",
       "      <td id=\"T_8ef2a_row2_col5\" class=\"data row2 col5\" >-0.050415</td>\n",
       "    </tr>\n",
       "    <tr>\n",
       "      <th id=\"T_8ef2a_level0_row3\" class=\"row_heading level0 row3\" >Year Code</th>\n",
       "      <td id=\"T_8ef2a_row3_col0\" class=\"data row3 col0\" >-0.042201</td>\n",
       "      <td id=\"T_8ef2a_row3_col1\" class=\"data row3 col1\" >0.034346</td>\n",
       "      <td id=\"T_8ef2a_row3_col2\" class=\"data row3 col2\" >0.002106</td>\n",
       "      <td id=\"T_8ef2a_row3_col3\" class=\"data row3 col3\" >1.000000</td>\n",
       "      <td id=\"T_8ef2a_row3_col4\" class=\"data row3 col4\" >1.000000</td>\n",
       "      <td id=\"T_8ef2a_row3_col5\" class=\"data row3 col5\" >0.018530</td>\n",
       "    </tr>\n",
       "    <tr>\n",
       "      <th id=\"T_8ef2a_level0_row4\" class=\"row_heading level0 row4\" >Year</th>\n",
       "      <td id=\"T_8ef2a_row4_col0\" class=\"data row4 col0\" >-0.042201</td>\n",
       "      <td id=\"T_8ef2a_row4_col1\" class=\"data row4 col1\" >0.034346</td>\n",
       "      <td id=\"T_8ef2a_row4_col2\" class=\"data row4 col2\" >0.002106</td>\n",
       "      <td id=\"T_8ef2a_row4_col3\" class=\"data row4 col3\" >1.000000</td>\n",
       "      <td id=\"T_8ef2a_row4_col4\" class=\"data row4 col4\" >1.000000</td>\n",
       "      <td id=\"T_8ef2a_row4_col5\" class=\"data row4 col5\" >0.018530</td>\n",
       "    </tr>\n",
       "    <tr>\n",
       "      <th id=\"T_8ef2a_level0_row5\" class=\"row_heading level0 row5\" >Value</th>\n",
       "      <td id=\"T_8ef2a_row5_col0\" class=\"data row5 col0\" >0.098344</td>\n",
       "      <td id=\"T_8ef2a_row5_col1\" class=\"data row5 col1\" >0.022641</td>\n",
       "      <td id=\"T_8ef2a_row5_col2\" class=\"data row5 col2\" >-0.050415</td>\n",
       "      <td id=\"T_8ef2a_row5_col3\" class=\"data row5 col3\" >0.018530</td>\n",
       "      <td id=\"T_8ef2a_row5_col4\" class=\"data row5 col4\" >0.018530</td>\n",
       "      <td id=\"T_8ef2a_row5_col5\" class=\"data row5 col5\" >1.000000</td>\n",
       "    </tr>\n",
       "  </tbody>\n",
       "</table>\n"
      ],
      "text/plain": [
       "<pandas.io.formats.style.Styler at 0x1d6524d8880>"
      ]
     },
     "execution_count": 5,
     "metadata": {},
     "output_type": "execute_result"
    }
   ],
   "source": [
    "df_main.corr().style.background_gradient(cmap='coolwarm')"
   ]
  },
  {
   "cell_type": "code",
   "execution_count": 6,
   "id": "2397f562",
   "metadata": {},
   "outputs": [
    {
     "data": {
      "image/png": "[encoded data removed]",
      "text/plain": [
       "<Figure size 1080x432 with 2 Axes>"
      ]
     },
     "metadata": {
      "needs_background": "light"
     },
     "output_type": "display_data"
    }
   ],
   "source": [
    "plt.figure(figsize=(15,6))\n",
    "sns.heatmap(df_main.corr())\n",
    "plt.show()"
   ]
  },
  {
   "cell_type": "code",
   "execution_count": 7,
   "id": "274f8047",
   "metadata": {},
   "outputs": [
    {
     "data": {
      "text/plain": [
       "<AxesSubplot:>"
      ]
     },
     "execution_count": 7,
     "metadata": {},
     "output_type": "execute_result"
    },
    {
     "data": {
      "image/png": "[encoded data removed]",
      "text/plain": [
       "<Figure size 432x288 with 1 Axes>"
      ]
     },
     "metadata": {
      "needs_background": "light"
     },
     "output_type": "display_data"
    }
   ],
   "source": [
    "df_main.plot.box()"
   ]
  }
 ],
 "metadata": {
  "kernelspec": {
   "display_name": "Python 3 (ipykernel)",
   "language": "python",
   "name": "python3"
  },
  "language_info": {
   "codemirror_mode": {
    "name": "ipython",
    "version": 3
   },
   "file_extension": ".py",
   "mimetype": "text/x-python",
   "name": "python",
   "nbconvert_exporter": "python",
   "pygments_lexer": "ipython3",
   "version": "3.9.7"
  }
 },
 "nbformat": 4,
 "nbformat_minor": 5
}
