{
 "cells": [
  {
   "attachments": {},
   "cell_type": "markdown",
   "id": "598b45c0",
   "metadata": {},
   "source": [
    "# Project"
   ]
  },
  {
   "attachments": {},
   "cell_type": "markdown",
   "id": "baf45648",
   "metadata": {},
   "source": [
    "We will be downloading the datasets as a zip file from the website \"https://www.fao.org/faostat/en/#data/QCL\", from the All Data Normalized option. After loading the data we will be extracting data and analyse the data. In this case the zip file should be in the same dicrectory as this notebook."
   ]
  },
  {
   "attachments": {},
   "cell_type": "markdown",
   "id": "aa6f874f",
   "metadata": {},
   "source": [
    "We will also be working on the population data. So that we can understand how the use is land will complement the population of that area. We will be loading data from the website given below. We should also be considering that the zip file should be in the same directory as this notebook.\n",
    "\"https://population.un.org/wpp/Download/Archive/CSV/\"."
   ]
  },
  {
   "cell_type": "code",
   "execution_count": 1,
   "id": "2a9190f7",
   "metadata": {
    "scrolled": true
   },
   "outputs": [],
   "source": [
    "import numpy as np \n",
    "import pandas as pd\n",
    "import zipfile\n",
    "\n",
    "import matplotlib.pyplot as plt\n",
    "import matplotlib\n",
    "import seaborn as sns\n",
    "import plotly.express as px\n",
    "from collections import Counter\n",
    "\n",
    "from sklearn.preprocessing import LabelEncoder\n",
    "from sklearn.metrics import accuracy_score\n",
    "from sklearn.ensemble import StackingClassifier\n",
    "from sklearn.tree import DecisionTreeClassifier\n",
    "from sklearn.discriminant_analysis import LinearDiscriminantAnalysis as LDA\n",
    "from sklearn.decomposition import PCA\n",
    "from sklearn.model_selection import train_test_split\n",
    "from sklearn.linear_model import LogisticRegression\n",
    "from sklearn.feature_selection import SelectKBest, f_regression\n",
    "\n",
    "from sklearn.ensemble import GradientBoostingClassifier\n",
    "from sklearn.ensemble import BaggingClassifier\n",
    "from sklearn.ensemble import RandomForestClassifier\n",
    "from sklearn.neighbors import KNeighborsClassifier\n",
    "from sklearn.model_selection import GridSearchCV\n",
    "from sklearn import svm\n",
    "\n",
    "import numpy as np\n",
    "\n",
    "from sklearn import datasets\n",
    "from sklearn.feature_selection import SelectKBest\n",
    "from sklearn.feature_selection import chi2\n",
    "import warnings\n",
    "\n",
    "from sklearn.linear_model import LinearRegression\n",
    "from sklearn.linear_model import LogisticRegression\n",
    "from sklearn.tree import DecisionTreeRegressor\n",
    "from sklearn.ensemble import RandomForestRegressor\n",
    "from sklearn.naive_bayes import GaussianNB\n",
    "\n",
    "import pycountry_convert as pc\n",
    "from sklearn.metrics import mean_squared_error, r2_score\n",
    "warnings.filterwarnings(\"ignore\")"
   ]
  },
  {
   "attachments": {},
   "cell_type": "markdown",
   "id": "4da22274",
   "metadata": {},
   "source": [
    "# Extracting the .zip files"
   ]
  },
  {
   "cell_type": "code",
   "execution_count": 2,
   "id": "cd207521",
   "metadata": {},
   "outputs": [],
   "source": [
    "with zipfile.ZipFile(\"Production_Crops_Livestock_E_All_Data_(Normalized).zip\",\"r\") as zip_ref:\n",
    "    zip_ref.extractall(\"targetdir\")"
   ]
  },
  {
   "cell_type": "code",
   "execution_count": 3,
   "id": "8566a330",
   "metadata": {},
   "outputs": [],
   "source": [
    "with zipfile.ZipFile(\"WPP2019-CSV-data.zip\",\"r\") as zip_ref:\n",
    "    zip_ref.extractall(\"targetdir\")"
   ]
  },
  {
   "attachments": {},
   "cell_type": "markdown",
   "id": "a7dcd18a",
   "metadata": {},
   "source": [
    "# Reading the data"
   ]
  },
  {
   "cell_type": "code",
   "execution_count": 4,
   "id": "7b55d604",
   "metadata": {},
   "outputs": [
    {
     "data": {
      "text/html": [
       "<div>\n",
       "<style scoped>\n",
       "    .dataframe tbody tr th:only-of-type {\n",
       "        vertical-align: middle;\n",
       "    }\n",
       "\n",
       "    .dataframe tbody tr th {\n",
       "        vertical-align: top;\n",
       "    }\n",
       "\n",
       "    .dataframe thead th {\n",
       "        text-align: right;\n",
       "    }\n",
       "</style>\n",
       "<table border=\"1\" class=\"dataframe\">\n",
       "  <thead>\n",
       "    <tr style=\"text-align: right;\">\n",
       "      <th></th>\n",
       "      <th>Area Code</th>\n",
       "      <th>Area Code (M49)</th>\n",
       "      <th>Area</th>\n",
       "      <th>Item Code</th>\n",
       "      <th>Item Code (CPC)</th>\n",
       "      <th>Item</th>\n",
       "      <th>Element Code</th>\n",
       "      <th>Element</th>\n",
       "      <th>Year Code</th>\n",
       "      <th>Year</th>\n",
       "      <th>Unit</th>\n",
       "      <th>Value</th>\n",
       "      <th>Flag</th>\n",
       "    </tr>\n",
       "  </thead>\n",
       "  <tbody>\n",
       "    <tr>\n",
       "      <th>0</th>\n",
       "      <td>2</td>\n",
       "      <td>'004</td>\n",
       "      <td>Afghanistan</td>\n",
       "      <td>221</td>\n",
       "      <td>'01371</td>\n",
       "      <td>Almonds, in shell</td>\n",
       "      <td>5312</td>\n",
       "      <td>Area harvested</td>\n",
       "      <td>1975</td>\n",
       "      <td>1975</td>\n",
       "      <td>ha</td>\n",
       "      <td>0.0</td>\n",
       "      <td>E</td>\n",
       "    </tr>\n",
       "    <tr>\n",
       "      <th>1</th>\n",
       "      <td>2</td>\n",
       "      <td>'004</td>\n",
       "      <td>Afghanistan</td>\n",
       "      <td>221</td>\n",
       "      <td>'01371</td>\n",
       "      <td>Almonds, in shell</td>\n",
       "      <td>5312</td>\n",
       "      <td>Area harvested</td>\n",
       "      <td>1976</td>\n",
       "      <td>1976</td>\n",
       "      <td>ha</td>\n",
       "      <td>5900.0</td>\n",
       "      <td>E</td>\n",
       "    </tr>\n",
       "    <tr>\n",
       "      <th>2</th>\n",
       "      <td>2</td>\n",
       "      <td>'004</td>\n",
       "      <td>Afghanistan</td>\n",
       "      <td>221</td>\n",
       "      <td>'01371</td>\n",
       "      <td>Almonds, in shell</td>\n",
       "      <td>5312</td>\n",
       "      <td>Area harvested</td>\n",
       "      <td>1977</td>\n",
       "      <td>1977</td>\n",
       "      <td>ha</td>\n",
       "      <td>6000.0</td>\n",
       "      <td>E</td>\n",
       "    </tr>\n",
       "    <tr>\n",
       "      <th>3</th>\n",
       "      <td>2</td>\n",
       "      <td>'004</td>\n",
       "      <td>Afghanistan</td>\n",
       "      <td>221</td>\n",
       "      <td>'01371</td>\n",
       "      <td>Almonds, in shell</td>\n",
       "      <td>5312</td>\n",
       "      <td>Area harvested</td>\n",
       "      <td>1978</td>\n",
       "      <td>1978</td>\n",
       "      <td>ha</td>\n",
       "      <td>6000.0</td>\n",
       "      <td>E</td>\n",
       "    </tr>\n",
       "    <tr>\n",
       "      <th>4</th>\n",
       "      <td>2</td>\n",
       "      <td>'004</td>\n",
       "      <td>Afghanistan</td>\n",
       "      <td>221</td>\n",
       "      <td>'01371</td>\n",
       "      <td>Almonds, in shell</td>\n",
       "      <td>5312</td>\n",
       "      <td>Area harvested</td>\n",
       "      <td>1979</td>\n",
       "      <td>1979</td>\n",
       "      <td>ha</td>\n",
       "      <td>6000.0</td>\n",
       "      <td>E</td>\n",
       "    </tr>\n",
       "  </tbody>\n",
       "</table>\n",
       "</div>"
      ],
      "text/plain": [
       "   Area Code Area Code (M49)         Area  Item Code Item Code (CPC)   \n",
       "0          2            '004  Afghanistan        221          '01371  \\\n",
       "1          2            '004  Afghanistan        221          '01371   \n",
       "2          2            '004  Afghanistan        221          '01371   \n",
       "3          2            '004  Afghanistan        221          '01371   \n",
       "4          2            '004  Afghanistan        221          '01371   \n",
       "\n",
       "                Item  Element Code         Element  Year Code  Year Unit   \n",
       "0  Almonds, in shell          5312  Area harvested       1975  1975   ha  \\\n",
       "1  Almonds, in shell          5312  Area harvested       1976  1976   ha   \n",
       "2  Almonds, in shell          5312  Area harvested       1977  1977   ha   \n",
       "3  Almonds, in shell          5312  Area harvested       1978  1978   ha   \n",
       "4  Almonds, in shell          5312  Area harvested       1979  1979   ha   \n",
       "\n",
       "    Value Flag  \n",
       "0     0.0    E  \n",
       "1  5900.0    E  \n",
       "2  6000.0    E  \n",
       "3  6000.0    E  \n",
       "4  6000.0    E  "
      ]
     },
     "execution_count": 4,
     "metadata": {},
     "output_type": "execute_result"
    }
   ],
   "source": [
    "df_main = pd.read_csv(\"targetdir/Production_Crops_Livestock_E_All_Data_(Normalized).csv\" ,encoding='cp1252')\n",
    "df_main.head()"
   ]
  },
  {
   "cell_type": "code",
   "execution_count": 5,
   "id": "dec5e064",
   "metadata": {},
   "outputs": [
    {
     "data": {
      "text/html": [
       "<div>\n",
       "<style scoped>\n",
       "    .dataframe tbody tr th:only-of-type {\n",
       "        vertical-align: middle;\n",
       "    }\n",
       "\n",
       "    .dataframe tbody tr th {\n",
       "        vertical-align: top;\n",
       "    }\n",
       "\n",
       "    .dataframe thead th {\n",
       "        text-align: right;\n",
       "    }\n",
       "</style>\n",
       "<table border=\"1\" class=\"dataframe\">\n",
       "  <thead>\n",
       "    <tr style=\"text-align: right;\">\n",
       "      <th></th>\n",
       "      <th>LocID</th>\n",
       "      <th>Location</th>\n",
       "      <th>VarID</th>\n",
       "      <th>Variant</th>\n",
       "      <th>Time</th>\n",
       "      <th>MidPeriod</th>\n",
       "      <th>PopMale</th>\n",
       "      <th>PopFemale</th>\n",
       "      <th>PopTotal</th>\n",
       "      <th>PopDensity</th>\n",
       "    </tr>\n",
       "  </thead>\n",
       "  <tbody>\n",
       "    <tr>\n",
       "      <th>0</th>\n",
       "      <td>4</td>\n",
       "      <td>Afghanistan</td>\n",
       "      <td>2</td>\n",
       "      <td>Medium</td>\n",
       "      <td>1950</td>\n",
       "      <td>1950.5</td>\n",
       "      <td>4099.243</td>\n",
       "      <td>3652.874</td>\n",
       "      <td>7752.117</td>\n",
       "      <td>11.874</td>\n",
       "    </tr>\n",
       "    <tr>\n",
       "      <th>1</th>\n",
       "      <td>4</td>\n",
       "      <td>Afghanistan</td>\n",
       "      <td>2</td>\n",
       "      <td>Medium</td>\n",
       "      <td>1951</td>\n",
       "      <td>1951.5</td>\n",
       "      <td>4134.756</td>\n",
       "      <td>3705.395</td>\n",
       "      <td>7840.151</td>\n",
       "      <td>12.009</td>\n",
       "    </tr>\n",
       "    <tr>\n",
       "      <th>2</th>\n",
       "      <td>4</td>\n",
       "      <td>Afghanistan</td>\n",
       "      <td>2</td>\n",
       "      <td>Medium</td>\n",
       "      <td>1952</td>\n",
       "      <td>1952.5</td>\n",
       "      <td>4174.450</td>\n",
       "      <td>3761.546</td>\n",
       "      <td>7935.996</td>\n",
       "      <td>12.156</td>\n",
       "    </tr>\n",
       "    <tr>\n",
       "      <th>3</th>\n",
       "      <td>4</td>\n",
       "      <td>Afghanistan</td>\n",
       "      <td>2</td>\n",
       "      <td>Medium</td>\n",
       "      <td>1953</td>\n",
       "      <td>1953.5</td>\n",
       "      <td>4218.336</td>\n",
       "      <td>3821.348</td>\n",
       "      <td>8039.684</td>\n",
       "      <td>12.315</td>\n",
       "    </tr>\n",
       "    <tr>\n",
       "      <th>4</th>\n",
       "      <td>4</td>\n",
       "      <td>Afghanistan</td>\n",
       "      <td>2</td>\n",
       "      <td>Medium</td>\n",
       "      <td>1954</td>\n",
       "      <td>1954.5</td>\n",
       "      <td>4266.484</td>\n",
       "      <td>3884.832</td>\n",
       "      <td>8151.316</td>\n",
       "      <td>12.486</td>\n",
       "    </tr>\n",
       "  </tbody>\n",
       "</table>\n",
       "</div>"
      ],
      "text/plain": [
       "   LocID     Location  VarID Variant  Time  MidPeriod   PopMale  PopFemale   \n",
       "0      4  Afghanistan      2  Medium  1950     1950.5  4099.243   3652.874  \\\n",
       "1      4  Afghanistan      2  Medium  1951     1951.5  4134.756   3705.395   \n",
       "2      4  Afghanistan      2  Medium  1952     1952.5  4174.450   3761.546   \n",
       "3      4  Afghanistan      2  Medium  1953     1953.5  4218.336   3821.348   \n",
       "4      4  Afghanistan      2  Medium  1954     1954.5  4266.484   3884.832   \n",
       "\n",
       "   PopTotal  PopDensity  \n",
       "0  7752.117      11.874  \n",
       "1  7840.151      12.009  \n",
       "2  7935.996      12.156  \n",
       "3  8039.684      12.315  \n",
       "4  8151.316      12.486  "
      ]
     },
     "execution_count": 5,
     "metadata": {},
     "output_type": "execute_result"
    }
   ],
   "source": [
    "df_pop = pd.read_csv(\"targetdir/WPP2019_TotalPopulationBySex.csv\" ,encoding='cp1252')\n",
    "df_pop.head()"
   ]
  },
  {
   "cell_type": "code",
   "execution_count": null,
   "id": "6008cf00",
   "metadata": {},
   "outputs": [],
   "source": []
  },
  {
   "attachments": {},
   "cell_type": "markdown",
   "id": "0a0870ae",
   "metadata": {},
   "source": [
    "# Merging Datasets"
   ]
  },
  {
   "cell_type": "code",
   "execution_count": 6,
   "id": "6ed1d84e",
   "metadata": {},
   "outputs": [
    {
     "data": {
      "text/html": [
       "<div>\n",
       "<style scoped>\n",
       "    .dataframe tbody tr th:only-of-type {\n",
       "        vertical-align: middle;\n",
       "    }\n",
       "\n",
       "    .dataframe tbody tr th {\n",
       "        vertical-align: top;\n",
       "    }\n",
       "\n",
       "    .dataframe thead th {\n",
       "        text-align: right;\n",
       "    }\n",
       "</style>\n",
       "<table border=\"1\" class=\"dataframe\">\n",
       "  <thead>\n",
       "    <tr style=\"text-align: right;\">\n",
       "      <th></th>\n",
       "      <th>Area Code</th>\n",
       "      <th>Area Code (M49)</th>\n",
       "      <th>Area</th>\n",
       "      <th>Item Code</th>\n",
       "      <th>Item Code (CPC)</th>\n",
       "      <th>Item</th>\n",
       "      <th>Element Code</th>\n",
       "      <th>Element</th>\n",
       "      <th>Year Code</th>\n",
       "      <th>Year</th>\n",
       "      <th>...</th>\n",
       "      <th>LocID</th>\n",
       "      <th>Location</th>\n",
       "      <th>VarID</th>\n",
       "      <th>Variant</th>\n",
       "      <th>Time</th>\n",
       "      <th>MidPeriod</th>\n",
       "      <th>PopMale</th>\n",
       "      <th>PopFemale</th>\n",
       "      <th>PopTotal</th>\n",
       "      <th>PopDensity</th>\n",
       "    </tr>\n",
       "  </thead>\n",
       "  <tbody>\n",
       "    <tr>\n",
       "      <th>0</th>\n",
       "      <td>2</td>\n",
       "      <td>'004</td>\n",
       "      <td>Afghanistan</td>\n",
       "      <td>221</td>\n",
       "      <td>'01371</td>\n",
       "      <td>Almonds, in shell</td>\n",
       "      <td>5312</td>\n",
       "      <td>Area harvested</td>\n",
       "      <td>1975</td>\n",
       "      <td>1975</td>\n",
       "      <td>...</td>\n",
       "      <td>4</td>\n",
       "      <td>Afghanistan</td>\n",
       "      <td>2</td>\n",
       "      <td>Medium</td>\n",
       "      <td>1975</td>\n",
       "      <td>1975.5</td>\n",
       "      <td>6446.273</td>\n",
       "      <td>6242.891</td>\n",
       "      <td>12689.164</td>\n",
       "      <td>19.436</td>\n",
       "    </tr>\n",
       "    <tr>\n",
       "      <th>1</th>\n",
       "      <td>2</td>\n",
       "      <td>'004</td>\n",
       "      <td>Afghanistan</td>\n",
       "      <td>221</td>\n",
       "      <td>'01371</td>\n",
       "      <td>Almonds, in shell</td>\n",
       "      <td>5510</td>\n",
       "      <td>Production</td>\n",
       "      <td>1975</td>\n",
       "      <td>1975</td>\n",
       "      <td>...</td>\n",
       "      <td>4</td>\n",
       "      <td>Afghanistan</td>\n",
       "      <td>2</td>\n",
       "      <td>Medium</td>\n",
       "      <td>1975</td>\n",
       "      <td>1975.5</td>\n",
       "      <td>6446.273</td>\n",
       "      <td>6242.891</td>\n",
       "      <td>12689.164</td>\n",
       "      <td>19.436</td>\n",
       "    </tr>\n",
       "    <tr>\n",
       "      <th>2</th>\n",
       "      <td>2</td>\n",
       "      <td>'004</td>\n",
       "      <td>Afghanistan</td>\n",
       "      <td>515</td>\n",
       "      <td>'01341</td>\n",
       "      <td>Apples</td>\n",
       "      <td>5312</td>\n",
       "      <td>Area harvested</td>\n",
       "      <td>1975</td>\n",
       "      <td>1975</td>\n",
       "      <td>...</td>\n",
       "      <td>4</td>\n",
       "      <td>Afghanistan</td>\n",
       "      <td>2</td>\n",
       "      <td>Medium</td>\n",
       "      <td>1975</td>\n",
       "      <td>1975.5</td>\n",
       "      <td>6446.273</td>\n",
       "      <td>6242.891</td>\n",
       "      <td>12689.164</td>\n",
       "      <td>19.436</td>\n",
       "    </tr>\n",
       "    <tr>\n",
       "      <th>3</th>\n",
       "      <td>2</td>\n",
       "      <td>'004</td>\n",
       "      <td>Afghanistan</td>\n",
       "      <td>515</td>\n",
       "      <td>'01341</td>\n",
       "      <td>Apples</td>\n",
       "      <td>5419</td>\n",
       "      <td>Yield</td>\n",
       "      <td>1975</td>\n",
       "      <td>1975</td>\n",
       "      <td>...</td>\n",
       "      <td>4</td>\n",
       "      <td>Afghanistan</td>\n",
       "      <td>2</td>\n",
       "      <td>Medium</td>\n",
       "      <td>1975</td>\n",
       "      <td>1975.5</td>\n",
       "      <td>6446.273</td>\n",
       "      <td>6242.891</td>\n",
       "      <td>12689.164</td>\n",
       "      <td>19.436</td>\n",
       "    </tr>\n",
       "    <tr>\n",
       "      <th>4</th>\n",
       "      <td>2</td>\n",
       "      <td>'004</td>\n",
       "      <td>Afghanistan</td>\n",
       "      <td>515</td>\n",
       "      <td>'01341</td>\n",
       "      <td>Apples</td>\n",
       "      <td>5510</td>\n",
       "      <td>Production</td>\n",
       "      <td>1975</td>\n",
       "      <td>1975</td>\n",
       "      <td>...</td>\n",
       "      <td>4</td>\n",
       "      <td>Afghanistan</td>\n",
       "      <td>2</td>\n",
       "      <td>Medium</td>\n",
       "      <td>1975</td>\n",
       "      <td>1975.5</td>\n",
       "      <td>6446.273</td>\n",
       "      <td>6242.891</td>\n",
       "      <td>12689.164</td>\n",
       "      <td>19.436</td>\n",
       "    </tr>\n",
       "  </tbody>\n",
       "</table>\n",
       "<p>5 rows × 23 columns</p>\n",
       "</div>"
      ],
      "text/plain": [
       "   Area Code Area Code (M49)         Area  Item Code Item Code (CPC)   \n",
       "0          2            '004  Afghanistan        221          '01371  \\\n",
       "1          2            '004  Afghanistan        221          '01371   \n",
       "2          2            '004  Afghanistan        515          '01341   \n",
       "3          2            '004  Afghanistan        515          '01341   \n",
       "4          2            '004  Afghanistan        515          '01341   \n",
       "\n",
       "                Item  Element Code         Element  Year Code  Year  ...   \n",
       "0  Almonds, in shell          5312  Area harvested       1975  1975  ...  \\\n",
       "1  Almonds, in shell          5510      Production       1975  1975  ...   \n",
       "2             Apples          5312  Area harvested       1975  1975  ...   \n",
       "3             Apples          5419           Yield       1975  1975  ...   \n",
       "4             Apples          5510      Production       1975  1975  ...   \n",
       "\n",
       "  LocID     Location VarID  Variant  Time  MidPeriod   PopMale  PopFemale   \n",
       "0     4  Afghanistan     2   Medium  1975     1975.5  6446.273   6242.891  \\\n",
       "1     4  Afghanistan     2   Medium  1975     1975.5  6446.273   6242.891   \n",
       "2     4  Afghanistan     2   Medium  1975     1975.5  6446.273   6242.891   \n",
       "3     4  Afghanistan     2   Medium  1975     1975.5  6446.273   6242.891   \n",
       "4     4  Afghanistan     2   Medium  1975     1975.5  6446.273   6242.891   \n",
       "\n",
       "    PopTotal  PopDensity  \n",
       "0  12689.164      19.436  \n",
       "1  12689.164      19.436  \n",
       "2  12689.164      19.436  \n",
       "3  12689.164      19.436  \n",
       "4  12689.164      19.436  \n",
       "\n",
       "[5 rows x 23 columns]"
      ]
     },
     "execution_count": 6,
     "metadata": {},
     "output_type": "execute_result"
    }
   ],
   "source": [
    "df = pd.merge(df_main, df_pop,  how='inner', left_on=['Area','Year'], right_on = ['Location','Time'])\n",
    "df.head()"
   ]
  },
  {
   "cell_type": "code",
   "execution_count": null,
   "id": "f5a790e2",
   "metadata": {},
   "outputs": [],
   "source": []
  },
  {
   "attachments": {},
   "cell_type": "markdown",
   "id": "303a683a",
   "metadata": {},
   "source": [
    "# Cleaning"
   ]
  },
  {
   "cell_type": "code",
   "execution_count": 7,
   "id": "041e8892",
   "metadata": {},
   "outputs": [
    {
     "name": "stdout",
     "output_type": "stream",
     "text": [
      "Total Number of rows : 4639552\n",
      "Total Number of columns : 23\n"
     ]
    }
   ],
   "source": [
    "rows_count, columns_count = df.shape\n",
    "print('Total Number of rows :', rows_count)\n",
    "print('Total Number of columns :', columns_count)"
   ]
  },
  {
   "cell_type": "code",
   "execution_count": 8,
   "id": "bb7815cf",
   "metadata": {},
   "outputs": [
    {
     "data": {
      "text/plain": [
       "Index(['Area Code', 'Area Code (M49)', 'Area', 'Item Code', 'Item Code (CPC)',\n",
       "       'Item', 'Element Code', 'Element', 'Year Code', 'Year', 'Unit', 'Value',\n",
       "       'Flag', 'LocID', 'Location', 'VarID', 'Variant', 'Time', 'MidPeriod',\n",
       "       'PopMale', 'PopFemale', 'PopTotal', 'PopDensity'],\n",
       "      dtype='object')"
      ]
     },
     "execution_count": 8,
     "metadata": {},
     "output_type": "execute_result"
    }
   ],
   "source": [
    "df.columns"
   ]
  },
  {
   "attachments": {},
   "cell_type": "markdown",
   "id": "15f01f6c",
   "metadata": {},
   "source": [
    "### Removing Null Data"
   ]
  },
  {
   "cell_type": "code",
   "execution_count": 9,
   "id": "cbc13765",
   "metadata": {},
   "outputs": [
    {
     "data": {
      "text/plain": [
       "Area Code              0\n",
       "Area Code (M49)        0\n",
       "Area                   0\n",
       "Item Code              0\n",
       "Item Code (CPC)        0\n",
       "Item                   0\n",
       "Element Code           0\n",
       "Element                0\n",
       "Year Code              0\n",
       "Year                   0\n",
       "Unit                   0\n",
       "Value                  0\n",
       "Flag                   0\n",
       "LocID                  0\n",
       "Location               0\n",
       "VarID                  0\n",
       "Variant                0\n",
       "Time                   0\n",
       "MidPeriod              0\n",
       "PopMale            59499\n",
       "PopFemale          59499\n",
       "PopTotal               0\n",
       "PopDensity             0\n",
       "dtype: int64"
      ]
     },
     "execution_count": 9,
     "metadata": {},
     "output_type": "execute_result"
    }
   ],
   "source": [
    "df.isnull().sum()"
   ]
  },
  {
   "cell_type": "code",
   "execution_count": 10,
   "id": "e7f7fac1",
   "metadata": {},
   "outputs": [],
   "source": [
    "df = df.dropna(how='any',axis=0)"
   ]
  },
  {
   "cell_type": "code",
   "execution_count": 11,
   "id": "31ced7ef",
   "metadata": {},
   "outputs": [
    {
     "data": {
      "text/plain": [
       "Area Code          0\n",
       "Area Code (M49)    0\n",
       "Area               0\n",
       "Item Code          0\n",
       "Item Code (CPC)    0\n",
       "Item               0\n",
       "Element Code       0\n",
       "Element            0\n",
       "Year Code          0\n",
       "Year               0\n",
       "Unit               0\n",
       "Value              0\n",
       "Flag               0\n",
       "LocID              0\n",
       "Location           0\n",
       "VarID              0\n",
       "Variant            0\n",
       "Time               0\n",
       "MidPeriod          0\n",
       "PopMale            0\n",
       "PopFemale          0\n",
       "PopTotal           0\n",
       "PopDensity         0\n",
       "dtype: int64"
      ]
     },
     "execution_count": 11,
     "metadata": {},
     "output_type": "execute_result"
    }
   ],
   "source": [
    "df.isnull().sum()"
   ]
  },
  {
   "attachments": {},
   "cell_type": "markdown",
   "id": "1c85998e",
   "metadata": {},
   "source": [
    "# Exploring the data:"
   ]
  },
  {
   "cell_type": "code",
   "execution_count": 12,
   "id": "b346d517",
   "metadata": {},
   "outputs": [
    {
     "data": {
      "text/html": [
       "<div>\n",
       "<style scoped>\n",
       "    .dataframe tbody tr th:only-of-type {\n",
       "        vertical-align: middle;\n",
       "    }\n",
       "\n",
       "    .dataframe tbody tr th {\n",
       "        vertical-align: top;\n",
       "    }\n",
       "\n",
       "    .dataframe thead th {\n",
       "        text-align: right;\n",
       "    }\n",
       "</style>\n",
       "<table border=\"1\" class=\"dataframe\">\n",
       "  <thead>\n",
       "    <tr style=\"text-align: right;\">\n",
       "      <th></th>\n",
       "      <th>ID</th>\n",
       "      <th>Area</th>\n",
       "      <th>Item</th>\n",
       "      <th>Element</th>\n",
       "      <th>Year</th>\n",
       "      <th>Unit</th>\n",
       "      <th>Variant</th>\n",
       "      <th>Value</th>\n",
       "      <th>Flag</th>\n",
       "      <th>PopMale</th>\n",
       "      <th>PopFemale</th>\n",
       "      <th>PopTotal</th>\n",
       "      <th>PopDensity</th>\n",
       "    </tr>\n",
       "  </thead>\n",
       "  <tbody>\n",
       "    <tr>\n",
       "      <th>0</th>\n",
       "      <td>0</td>\n",
       "      <td>Afghanistan</td>\n",
       "      <td>Almonds, in shell</td>\n",
       "      <td>Area harvested</td>\n",
       "      <td>1975</td>\n",
       "      <td>ha</td>\n",
       "      <td>Medium</td>\n",
       "      <td>0.0</td>\n",
       "      <td>E</td>\n",
       "      <td>6446.273</td>\n",
       "      <td>6242.891</td>\n",
       "      <td>12689.164</td>\n",
       "      <td>19.436</td>\n",
       "    </tr>\n",
       "    <tr>\n",
       "      <th>1</th>\n",
       "      <td>1</td>\n",
       "      <td>Afghanistan</td>\n",
       "      <td>Almonds, in shell</td>\n",
       "      <td>Production</td>\n",
       "      <td>1975</td>\n",
       "      <td>tonnes</td>\n",
       "      <td>Medium</td>\n",
       "      <td>0.0</td>\n",
       "      <td>E</td>\n",
       "      <td>6446.273</td>\n",
       "      <td>6242.891</td>\n",
       "      <td>12689.164</td>\n",
       "      <td>19.436</td>\n",
       "    </tr>\n",
       "    <tr>\n",
       "      <th>2</th>\n",
       "      <td>2</td>\n",
       "      <td>Afghanistan</td>\n",
       "      <td>Apples</td>\n",
       "      <td>Area harvested</td>\n",
       "      <td>1975</td>\n",
       "      <td>ha</td>\n",
       "      <td>Medium</td>\n",
       "      <td>3270.0</td>\n",
       "      <td>E</td>\n",
       "      <td>6446.273</td>\n",
       "      <td>6242.891</td>\n",
       "      <td>12689.164</td>\n",
       "      <td>19.436</td>\n",
       "    </tr>\n",
       "    <tr>\n",
       "      <th>3</th>\n",
       "      <td>3</td>\n",
       "      <td>Afghanistan</td>\n",
       "      <td>Apples</td>\n",
       "      <td>Yield</td>\n",
       "      <td>1975</td>\n",
       "      <td>hg/ha</td>\n",
       "      <td>Medium</td>\n",
       "      <td>85321.0</td>\n",
       "      <td>E</td>\n",
       "      <td>6446.273</td>\n",
       "      <td>6242.891</td>\n",
       "      <td>12689.164</td>\n",
       "      <td>19.436</td>\n",
       "    </tr>\n",
       "    <tr>\n",
       "      <th>4</th>\n",
       "      <td>4</td>\n",
       "      <td>Afghanistan</td>\n",
       "      <td>Apples</td>\n",
       "      <td>Production</td>\n",
       "      <td>1975</td>\n",
       "      <td>tonnes</td>\n",
       "      <td>Medium</td>\n",
       "      <td>27900.0</td>\n",
       "      <td>E</td>\n",
       "      <td>6446.273</td>\n",
       "      <td>6242.891</td>\n",
       "      <td>12689.164</td>\n",
       "      <td>19.436</td>\n",
       "    </tr>\n",
       "  </tbody>\n",
       "</table>\n",
       "</div>"
      ],
      "text/plain": [
       "   ID         Area               Item         Element  Year    Unit Variant   \n",
       "0   0  Afghanistan  Almonds, in shell  Area harvested  1975      ha  Medium  \\\n",
       "1   1  Afghanistan  Almonds, in shell      Production  1975  tonnes  Medium   \n",
       "2   2  Afghanistan             Apples  Area harvested  1975      ha  Medium   \n",
       "3   3  Afghanistan             Apples           Yield  1975   hg/ha  Medium   \n",
       "4   4  Afghanistan             Apples      Production  1975  tonnes  Medium   \n",
       "\n",
       "     Value Flag   PopMale  PopFemale   PopTotal  PopDensity  \n",
       "0      0.0    E  6446.273   6242.891  12689.164      19.436  \n",
       "1      0.0    E  6446.273   6242.891  12689.164      19.436  \n",
       "2   3270.0    E  6446.273   6242.891  12689.164      19.436  \n",
       "3  85321.0    E  6446.273   6242.891  12689.164      19.436  \n",
       "4  27900.0    E  6446.273   6242.891  12689.164      19.436  "
      ]
     },
     "execution_count": 12,
     "metadata": {},
     "output_type": "execute_result"
    }
   ],
   "source": [
    "df1 = df[['Area','Item','Element','Year','Unit','Variant','Value','Flag','PopMale','PopFemale','PopTotal','PopDensity']]\n",
    "df1.insert(0, 'ID', df1.index)\n",
    "df1.head()"
   ]
  },
  {
   "cell_type": "code",
   "execution_count": 13,
   "id": "35716d62",
   "metadata": {},
   "outputs": [
    {
     "data": {
      "text/plain": [
       "Index(['Area harvested', 'Laying', 'Milk Animals', 'Prod Popultn',\n",
       "       'Producing Animals/Slaughtered', 'Production', 'Stocks', 'Yield',\n",
       "       'Yield/Carcass Weight'],\n",
       "      dtype='object', name='Element')"
      ]
     },
     "execution_count": 13,
     "metadata": {},
     "output_type": "execute_result"
    }
   ],
   "source": [
    "df1.groupby(['Element']).size().index"
   ]
  },
  {
   "cell_type": "code",
   "execution_count": 14,
   "id": "4928179d",
   "metadata": {},
   "outputs": [
    {
     "name": "stdout",
     "output_type": "stream",
     "text": [
      "['Afghanistan', 'Africa', 'Albania', 'Algeria', 'Angola', 'Antigua and Barbuda', 'Argentina', 'Armenia', 'Asia', 'Australia', 'Austria', 'Azerbaijan', 'Bahamas', 'Bahrain', 'Bangladesh', 'Barbados', 'Belarus', 'Belgium', 'Belize', 'Benin', 'Bhutan', 'Bolivia (Plurinational State of)', 'Bosnia and Herzegovina', 'Botswana', 'Brazil', 'Brunei Darussalam', 'Bulgaria', 'Burkina Faso', 'Burundi', 'Cabo Verde', 'Cambodia', 'Cameroon', 'Canada', 'Caribbean', 'Central African Republic', 'Central America', 'Central Asia', 'Chad', 'Chile', 'China', 'China, Hong Kong SAR', 'China, Macao SAR', 'Colombia', 'Comoros', 'Congo', 'Costa Rica', 'Croatia', 'Cuba', 'Cyprus', 'Czechia', 'Democratic Republic of the Congo', 'Denmark', 'Djibouti', 'Dominican Republic', 'Eastern Africa', 'Eastern Asia', 'Eastern Europe', 'Ecuador', 'Egypt', 'El Salvador', 'Equatorial Guinea', 'Eritrea', 'Estonia', 'Eswatini', 'Ethiopia', 'Europe', 'Fiji', 'Finland', 'France', 'French Guiana', 'French Polynesia', 'Gabon', 'Gambia', 'Georgia', 'Germany', 'Ghana', 'Greece', 'Grenada', 'Guadeloupe', 'Guatemala', 'Guinea', 'Guinea-Bissau', 'Guyana', 'Haiti', 'Honduras', 'Hungary', 'Iceland', 'India', 'Indonesia', 'Iran (Islamic Republic of)', 'Iraq', 'Ireland', 'Israel', 'Italy', 'Jamaica', 'Japan', 'Jordan', 'Kazakhstan', 'Kenya', 'Kiribati', 'Kuwait', 'Kyrgyzstan', \"Lao People's Democratic Republic\", 'Latvia', 'Lebanon', 'Lesotho', 'Liberia', 'Libya', 'Lithuania', 'Luxembourg', 'Madagascar', 'Malawi', 'Malaysia', 'Maldives', 'Mali', 'Malta', 'Martinique', 'Mauritania', 'Mauritius', 'Melanesia', 'Mexico', 'Micronesia', 'Middle Africa', 'Mongolia', 'Montenegro', 'Morocco', 'Mozambique', 'Myanmar', 'Namibia', 'Nepal', 'Netherlands', 'New Caledonia', 'New Zealand', 'Nicaragua', 'Niger', 'Nigeria', 'North Macedonia', 'Northern Africa', 'Northern America', 'Northern Europe', 'Norway', 'Oceania', 'Oman', 'Pakistan', 'Panama', 'Papua New Guinea', 'Paraguay', 'Peru', 'Philippines', 'Poland', 'Polynesia', 'Portugal', 'Puerto Rico', 'Qatar', 'Republic of Korea', 'Republic of Moldova', 'Romania', 'Russian Federation', 'Rwanda', 'Saint Lucia', 'Saint Vincent and the Grenadines', 'Samoa', 'Sao Tome and Principe', 'Saudi Arabia', 'Senegal', 'Serbia', 'Seychelles', 'Sierra Leone', 'Singapore', 'Slovakia', 'Slovenia', 'Solomon Islands', 'Somalia', 'South Africa', 'South America', 'South Sudan', 'Southern Africa', 'Southern Asia', 'Southern Europe', 'Spain', 'Sri Lanka', 'Sudan', 'Suriname', 'Sweden', 'Switzerland', 'Syrian Arab Republic', 'Tajikistan', 'Thailand', 'Timor-Leste', 'Togo', 'Tonga', 'Trinidad and Tobago', 'Tunisia', 'Turkmenistan', 'Uganda', 'Ukraine', 'United Arab Emirates', 'United Republic of Tanzania', 'United States of America', 'Uruguay', 'Uzbekistan', 'Vanuatu', 'Venezuela (Bolivarian Republic of)', 'Viet Nam', 'Western Africa', 'Western Asia', 'Western Europe', 'World', 'Yemen', 'Zambia', 'Zimbabwe']\n"
     ]
    }
   ],
   "source": [
    "print(df1.groupby(['Area']).size().index.tolist())"
   ]
  },
  {
   "cell_type": "code",
   "execution_count": 15,
   "id": "a746cf18",
   "metadata": {},
   "outputs": [
    {
     "data": {
      "text/plain": [
       "['Abaca, manila hemp, raw',\n",
       " 'Agave fibres, raw, n.e.c.',\n",
       " 'Almonds, in shell',\n",
       " 'Anise, badian, coriander, cumin, caraway, fennel and juniper berries, raw',\n",
       " 'Apples',\n",
       " 'Apricots',\n",
       " 'Areca nuts',\n",
       " 'Artichokes',\n",
       " 'Asparagus',\n",
       " 'Asses',\n",
       " 'Avocados',\n",
       " 'Balata, gutta-percha, guayule, chicle and similar natural gums in primary forms or in plates, sheets or strip',\n",
       " 'Bambara beans, dry',\n",
       " 'Bananas',\n",
       " 'Barley',\n",
       " 'Beans, dry',\n",
       " 'Beef and Buffalo Meat, primary',\n",
       " 'Beer of barley, malted',\n",
       " 'Bees',\n",
       " 'Beeswax',\n",
       " 'Blueberries',\n",
       " 'Brazil nuts, in shell',\n",
       " 'Broad beans and horse beans, dry',\n",
       " 'Broad beans and horse beans, green',\n",
       " 'Buckwheat',\n",
       " 'Buffalo',\n",
       " 'Buffalo fat, unrendered',\n",
       " 'Butter and Ghee',\n",
       " 'Butter and ghee of sheep milk',\n",
       " 'Butter of buffalo milk',\n",
       " 'Butter of cow milk',\n",
       " 'Butter of goat milk',\n",
       " 'Buttermilk, dry',\n",
       " 'Cabbages',\n",
       " 'Camels',\n",
       " 'Canary seed',\n",
       " 'Cantaloupes and other melons',\n",
       " 'Carrots and turnips',\n",
       " 'Cashew nuts, in shell',\n",
       " 'Cashewapple',\n",
       " 'Cassava leaves',\n",
       " 'Cassava, fresh',\n",
       " 'Castor oil seeds',\n",
       " 'Cattle',\n",
       " 'Cattle and Buffaloes',\n",
       " 'Cattle fat, unrendered',\n",
       " 'Cauliflowers and broccoli',\n",
       " 'Cereals n.e.c.',\n",
       " 'Cereals, primary',\n",
       " 'Cheese (All Kinds)',\n",
       " 'Cheese from milk of buffalo, fresh or processed',\n",
       " 'Cheese from milk of goats, fresh or processed',\n",
       " 'Cheese from milk of sheep, fresh or processed',\n",
       " 'Cheese from skimmed cow milk',\n",
       " 'Cheese from whole cow milk',\n",
       " 'Cherries',\n",
       " 'Chestnuts, in shell',\n",
       " 'Chick peas, dry',\n",
       " 'Chickens',\n",
       " 'Chicory roots',\n",
       " 'Chillies and peppers, dry (Capsicum spp., Pimenta spp.), raw',\n",
       " 'Chillies and peppers, green (Capsicum spp. and Pimenta spp.)',\n",
       " 'Cinnamon and cinnamon-tree flowers, raw',\n",
       " 'Citrus Fruit, Total',\n",
       " 'Cloves (whole stems), raw',\n",
       " 'Cocoa beans',\n",
       " 'Coconut oil',\n",
       " 'Coconuts, in shell',\n",
       " 'Coffee, green',\n",
       " 'Coir, raw',\n",
       " 'Cotton lint, ginned',\n",
       " 'Cotton seed',\n",
       " 'Cottonseed oil',\n",
       " 'Cow peas, dry',\n",
       " 'Cranberries',\n",
       " 'Cream, fresh',\n",
       " 'Cucumbers and gherkins',\n",
       " 'Currants',\n",
       " 'Dates',\n",
       " 'Ducks',\n",
       " 'Edible offal of buffalo, fresh, chilled or frozen',\n",
       " 'Edible offal of cattle, fresh, chilled or frozen',\n",
       " 'Edible offal of goat, fresh, chilled or frozen',\n",
       " 'Edible offal of pigs, fresh, chilled or frozen',\n",
       " 'Edible offal of sheep, fresh, chilled or frozen',\n",
       " 'Edible offals of camels and other camelids, fresh, chilled or frozen',\n",
       " 'Edible offals of horses and other equines,  fresh, chilled or frozen',\n",
       " 'Edible roots and tubers with high starch or inulin content, n.e.c., fresh',\n",
       " 'Eggplants (aubergines)',\n",
       " 'Eggs Primary',\n",
       " 'Eggs from other birds in shell, fresh, n.e.c.',\n",
       " 'Evaporated & Condensed Milk',\n",
       " 'Fat of camels',\n",
       " 'Fat of pigs',\n",
       " 'Fibre Crops, Fibre Equivalent',\n",
       " 'Figs',\n",
       " 'Flax, processed but not spun',\n",
       " 'Fonio',\n",
       " 'Fruit Primary',\n",
       " 'Game meat, fresh, chilled or frozen',\n",
       " 'Geese',\n",
       " 'Ghee from buffalo milk',\n",
       " 'Ghee from cow milk',\n",
       " 'Ginger, raw',\n",
       " 'Goat fat, unrendered',\n",
       " 'Goats',\n",
       " 'Gooseberries',\n",
       " 'Grapes',\n",
       " 'Green corn (maize)',\n",
       " 'Green garlic',\n",
       " 'Green tea (not fermented), black tea (fermented) and partly fermented tea',\n",
       " 'Groundnut oil',\n",
       " 'Groundnuts, excluding shelled',\n",
       " 'Hazelnuts, in shell',\n",
       " 'Hempseed',\n",
       " 'Hen eggs in shell, fresh',\n",
       " 'Hop cones',\n",
       " 'Horse meat, fresh or chilled',\n",
       " 'Horses',\n",
       " 'Jojoba seeds',\n",
       " 'Jute, raw or retted',\n",
       " 'Kapok fibre, raw',\n",
       " 'Kapok fruit',\n",
       " 'Kapokseed in shell',\n",
       " 'Karite nuts (sheanuts)',\n",
       " 'Kenaf, and other textile bast fibres, raw or retted',\n",
       " 'Kiwi fruit',\n",
       " 'Kola nuts',\n",
       " 'Leeks and other alliaceous vegetables',\n",
       " 'Lemons and limes',\n",
       " 'Lentils, dry',\n",
       " 'Lettuce and chicory',\n",
       " 'Linseed',\n",
       " 'Locust beans (carobs)',\n",
       " 'Lupins',\n",
       " 'Maize (corn)',\n",
       " 'Mangoes, guavas and mangosteens',\n",
       " 'Margarine and shortening',\n",
       " 'Maté leaves',\n",
       " 'Meat of asses, fresh or chilled',\n",
       " 'Meat of buffalo, fresh or chilled',\n",
       " 'Meat of camels, fresh or chilled',\n",
       " 'Meat of cattle with the bone, fresh or chilled',\n",
       " 'Meat of chickens, fresh or chilled',\n",
       " 'Meat of ducks, fresh or chilled',\n",
       " 'Meat of geese, fresh or chilled',\n",
       " 'Meat of goat, fresh or chilled',\n",
       " 'Meat of mules, fresh or chilled',\n",
       " 'Meat of other domestic camelids, fresh or chilled',\n",
       " 'Meat of other domestic rodents, fresh or chilled',\n",
       " 'Meat of pig with the bone, fresh or chilled',\n",
       " 'Meat of pigeons and other birds n.e.c., fresh, chilled or frozen',\n",
       " 'Meat of rabbits and hares, fresh or chilled',\n",
       " 'Meat of sheep, fresh or chilled',\n",
       " 'Meat of turkeys, fresh or chilled',\n",
       " 'Meat, Poultry',\n",
       " 'Meat, Total',\n",
       " 'Melonseed',\n",
       " 'Milk, Total',\n",
       " 'Millet',\n",
       " 'Mixed grain',\n",
       " 'Molasses',\n",
       " 'Mules and hinnies',\n",
       " 'Mushrooms and truffles',\n",
       " 'Mustard seed',\n",
       " 'Natural honey',\n",
       " 'Natural rubber in primary forms',\n",
       " 'Nutmeg, mace, cardamoms, raw',\n",
       " 'Oats',\n",
       " 'Oil of linseed',\n",
       " 'Oil of maize',\n",
       " 'Oil of palm kernel',\n",
       " 'Oil of sesame seed',\n",
       " 'Oil palm fruit',\n",
       " 'Oilcrops, Cake Equivalent',\n",
       " 'Oilcrops, Oil Equivalent',\n",
       " 'Okra',\n",
       " 'Olive oil',\n",
       " 'Olives',\n",
       " 'Onions and shallots, dry (excluding dehydrated)',\n",
       " 'Onions and shallots, green',\n",
       " 'Oranges',\n",
       " 'Other beans, green',\n",
       " 'Other berries and fruits of the genus vaccinium n.e.c.',\n",
       " 'Other camelids',\n",
       " 'Other citrus fruit, n.e.c.',\n",
       " 'Other fibre crops, raw, n.e.c.',\n",
       " 'Other fruits, n.e.c.',\n",
       " 'Other meat n.e.c. (excluding mammals), fresh, chilled or frozen',\n",
       " 'Other nuts (excluding wild edible nuts and groundnuts), in shell, n.e.c.',\n",
       " 'Other oil seeds, n.e.c.',\n",
       " 'Other pome fruits',\n",
       " 'Other pulses n.e.c.',\n",
       " 'Other rodents',\n",
       " 'Other stimulant, spice and aromatic crops, n.e.c.',\n",
       " 'Other stone fruits',\n",
       " 'Other sugar crops n.e.c.',\n",
       " 'Other tropical fruits, n.e.c.',\n",
       " 'Other vegetables, fresh n.e.c.',\n",
       " 'Palm kernels',\n",
       " 'Palm oil',\n",
       " 'Papayas',\n",
       " 'Peaches and nectarines',\n",
       " 'Pears',\n",
       " 'Peas, dry',\n",
       " 'Peas, green',\n",
       " 'Pepper (Piper spp.), raw',\n",
       " 'Peppermint, spearmint',\n",
       " 'Persimmons',\n",
       " 'Pig fat, rendered',\n",
       " 'Pigeon peas, dry',\n",
       " 'Pineapples',\n",
       " 'Pistachios, in shell',\n",
       " 'Plantains and cooking bananas',\n",
       " 'Plums and sloes',\n",
       " 'Pomelos and grapefruits',\n",
       " 'Poppy seed',\n",
       " 'Potatoes',\n",
       " 'Poultry Birds',\n",
       " 'Pulses, Total',\n",
       " 'Pumpkins, squash and gourds',\n",
       " 'Pyrethrum, dried flowers',\n",
       " 'Quinces',\n",
       " 'Quinoa',\n",
       " 'Rabbits and hares',\n",
       " 'Ramie, raw or retted',\n",
       " 'Rape or colza seed',\n",
       " 'Rapeseed or canola oil, crude',\n",
       " 'Raspberries',\n",
       " 'Raw cane or beet sugar (centrifugal only)',\n",
       " 'Raw hides and skins of buffaloes',\n",
       " 'Raw hides and skins of cattle',\n",
       " 'Raw hides and skins of goats or kids',\n",
       " 'Raw hides and skins of sheep or lambs',\n",
       " 'Raw milk of buffalo',\n",
       " 'Raw milk of camel',\n",
       " 'Raw milk of cattle',\n",
       " 'Raw milk of goats',\n",
       " 'Raw milk of sheep',\n",
       " 'Raw silk (not thrown)',\n",
       " 'Rice',\n",
       " 'Roots and Tubers, Total',\n",
       " 'Rye',\n",
       " 'Safflower seed',\n",
       " 'Safflower-seed oil, crude',\n",
       " 'Seed cotton, unginned',\n",
       " 'Sesame seed',\n",
       " 'Sheep',\n",
       " 'Sheep and Goat Meat',\n",
       " 'Sheep and Goats',\n",
       " 'Sheep fat, unrendered',\n",
       " 'Shorn wool, greasy, including fleece-washed shorn wool',\n",
       " 'Silk-worm cocoons suitable for reeling',\n",
       " 'Sisal, raw',\n",
       " 'Skim Milk & Buttermilk, Dry',\n",
       " 'Skim milk and whey powder',\n",
       " 'Skim milk of cows',\n",
       " 'Skim milk, condensed',\n",
       " 'Skim milk, evaporated',\n",
       " 'Snails, fresh, chilled, frozen, dried, salted or in brine, except sea snails',\n",
       " 'Sorghum',\n",
       " 'Sour cherries',\n",
       " 'Soya bean oil',\n",
       " 'Soya beans',\n",
       " 'Spinach',\n",
       " 'Strawberries',\n",
       " 'String beans',\n",
       " 'Sugar Crops Primary',\n",
       " 'Sugar beet',\n",
       " 'Sugar cane',\n",
       " 'Sunflower seed',\n",
       " 'Sunflower-seed oil, crude',\n",
       " 'Sweet potatoes',\n",
       " 'Swine / pigs',\n",
       " 'Tallow',\n",
       " 'Tallowtree seeds',\n",
       " 'Tangerines, mandarins, clementines',\n",
       " 'Taro',\n",
       " 'Tea leaves',\n",
       " 'Tomatoes',\n",
       " 'Treenuts, Total',\n",
       " 'Triticale',\n",
       " 'True hemp, raw or retted',\n",
       " 'Tung nuts',\n",
       " 'Turkeys',\n",
       " 'Unmanufactured tobacco',\n",
       " 'Vanilla, raw',\n",
       " 'Vegetables Primary',\n",
       " 'Vetches',\n",
       " 'Walnuts, in shell',\n",
       " 'Watermelons',\n",
       " 'Wheat',\n",
       " 'Whey, condensed',\n",
       " 'Whey, dry',\n",
       " 'Whole milk powder',\n",
       " 'Whole milk, condensed',\n",
       " 'Whole milk, evaporated',\n",
       " 'Wine',\n",
       " 'Yams',\n",
       " 'Yautia',\n",
       " 'Yoghurt']"
      ]
     },
     "execution_count": 15,
     "metadata": {},
     "output_type": "execute_result"
    }
   ],
   "source": [
    "df1.groupby(['Item']).size().index.tolist()"
   ]
  },
  {
   "cell_type": "code",
   "execution_count": 16,
   "id": "23f6cecc",
   "metadata": {},
   "outputs": [
    {
     "data": {
      "text/plain": [
       "Index(['0.1g/An', '1000 Head', '1000 No', '100mg/An', 'Head', 'No', 'No/An',\n",
       "       'ha', 'hg', 'hg/An', 'hg/ha', 'tonnes'],\n",
       "      dtype='object', name='Unit')"
      ]
     },
     "execution_count": 16,
     "metadata": {},
     "output_type": "execute_result"
    }
   ],
   "source": [
    "df1.groupby(['Unit']).size().index"
   ]
  },
  {
   "cell_type": "code",
   "execution_count": 17,
   "id": "8cf315f0",
   "metadata": {},
   "outputs": [
    {
     "data": {
      "text/plain": [
       "Index(['A', 'E', 'I', 'M', 'T'], dtype='object', name='Flag')"
      ]
     },
     "execution_count": 17,
     "metadata": {},
     "output_type": "execute_result"
    }
   ],
   "source": [
    "df1.groupby(['Flag']).count().index"
   ]
  },
  {
   "cell_type": "code",
   "execution_count": 18,
   "id": "32b361e8",
   "metadata": {},
   "outputs": [
    {
     "data": {
      "text/plain": [
       "Index(['Constant fertility', 'Constant mortality', 'High',\n",
       "       'Instant replacement', 'Low', 'Lower 80 PI', 'Lower 95 PI', 'Median PI',\n",
       "       'Medium', 'Momentum', 'No change', 'Upper 80 PI', 'Upper 95 PI',\n",
       "       'Zero migration'],\n",
       "      dtype='object', name='Variant')"
      ]
     },
     "execution_count": 18,
     "metadata": {},
     "output_type": "execute_result"
    }
   ],
   "source": [
    "df1.groupby(['Variant']).size().index"
   ]
  },
  {
   "attachments": {},
   "cell_type": "markdown",
   "id": "4fbf73b0",
   "metadata": {},
   "source": [
    "# Question And answer"
   ]
  },
  {
   "attachments": {},
   "cell_type": "markdown",
   "id": "3e4869c1",
   "metadata": {},
   "source": [
    "# Question 1:"
   ]
  },
  {
   "cell_type": "code",
   "execution_count": 19,
   "id": "7e6ceeb3",
   "metadata": {},
   "outputs": [],
   "source": [
    "df2 = df1[df1['Item']=='Yoghurt'][df1['Element']=='Production'][['Area','Year','Value','PopTotal']]"
   ]
  },
  {
   "cell_type": "code",
   "execution_count": 20,
   "id": "5a76b8b8",
   "metadata": {},
   "outputs": [],
   "source": [
    "df2 = df2.groupby(['Year','Area','Value']).mean()['PopTotal'].to_frame().reset_index()"
   ]
  },
  {
   "cell_type": "code",
   "execution_count": 21,
   "id": "97ac5c58",
   "metadata": {},
   "outputs": [],
   "source": [
    "df2['ygt_per'] = (df2['Value'])/df2['PopTotal']"
   ]
  },
  {
   "cell_type": "code",
   "execution_count": 22,
   "id": "e4f5ae38",
   "metadata": {},
   "outputs": [],
   "source": [
    "df2 = df2.drop(['Value','PopTotal'], axis=1).groupby(['Area']).mean()['ygt_per'].to_frame().reset_index().sort_values(by=['ygt_per'], ascending=False).head(10)\n",
    "df2.index = df2['Area']"
   ]
  },
  {
   "cell_type": "code",
   "execution_count": 23,
   "id": "ec8f303a",
   "metadata": {},
   "outputs": [
    {
     "data": {
      "text/html": [
       "<div>\n",
       "<style scoped>\n",
       "    .dataframe tbody tr th:only-of-type {\n",
       "        vertical-align: middle;\n",
       "    }\n",
       "\n",
       "    .dataframe tbody tr th {\n",
       "        vertical-align: top;\n",
       "    }\n",
       "\n",
       "    .dataframe thead th {\n",
       "        text-align: right;\n",
       "    }\n",
       "</style>\n",
       "<table border=\"1\" class=\"dataframe\">\n",
       "  <thead>\n",
       "    <tr style=\"text-align: right;\">\n",
       "      <th></th>\n",
       "      <th>Area</th>\n",
       "      <th>ygt_per</th>\n",
       "    </tr>\n",
       "    <tr>\n",
       "      <th>Area</th>\n",
       "      <th></th>\n",
       "      <th></th>\n",
       "    </tr>\n",
       "  </thead>\n",
       "  <tbody>\n",
       "    <tr>\n",
       "      <th>Belarus</th>\n",
       "      <td>Belarus</td>\n",
       "      <td>33.650566</td>\n",
       "    </tr>\n",
       "    <tr>\n",
       "      <th>Lithuania</th>\n",
       "      <td>Lithuania</td>\n",
       "      <td>21.916318</td>\n",
       "    </tr>\n",
       "    <tr>\n",
       "      <th>Bulgaria</th>\n",
       "      <td>Bulgaria</td>\n",
       "      <td>19.282648</td>\n",
       "    </tr>\n",
       "    <tr>\n",
       "      <th>Jordan</th>\n",
       "      <td>Jordan</td>\n",
       "      <td>19.207144</td>\n",
       "    </tr>\n",
       "    <tr>\n",
       "      <th>Austria</th>\n",
       "      <td>Austria</td>\n",
       "      <td>17.245838</td>\n",
       "    </tr>\n",
       "    <tr>\n",
       "      <th>Croatia</th>\n",
       "      <td>Croatia</td>\n",
       "      <td>17.169900</td>\n",
       "    </tr>\n",
       "    <tr>\n",
       "      <th>Estonia</th>\n",
       "      <td>Estonia</td>\n",
       "      <td>15.247572</td>\n",
       "    </tr>\n",
       "    <tr>\n",
       "      <th>Sweden</th>\n",
       "      <td>Sweden</td>\n",
       "      <td>14.138242</td>\n",
       "    </tr>\n",
       "    <tr>\n",
       "      <th>Latvia</th>\n",
       "      <td>Latvia</td>\n",
       "      <td>12.513195</td>\n",
       "    </tr>\n",
       "    <tr>\n",
       "      <th>Mongolia</th>\n",
       "      <td>Mongolia</td>\n",
       "      <td>11.515403</td>\n",
       "    </tr>\n",
       "  </tbody>\n",
       "</table>\n",
       "</div>"
      ],
      "text/plain": [
       "                Area    ygt_per\n",
       "Area                           \n",
       "Belarus      Belarus  33.650566\n",
       "Lithuania  Lithuania  21.916318\n",
       "Bulgaria    Bulgaria  19.282648\n",
       "Jordan        Jordan  19.207144\n",
       "Austria      Austria  17.245838\n",
       "Croatia      Croatia  17.169900\n",
       "Estonia      Estonia  15.247572\n",
       "Sweden        Sweden  14.138242\n",
       "Latvia        Latvia  12.513195\n",
       "Mongolia    Mongolia  11.515403"
      ]
     },
     "execution_count": 23,
     "metadata": {},
     "output_type": "execute_result"
    }
   ],
   "source": [
    "df2"
   ]
  },
  {
   "cell_type": "code",
   "execution_count": 24,
   "id": "8d193e5a",
   "metadata": {},
   "outputs": [
    {
     "data": {
      "image/png": "[encoded data removed]",
      "text/plain": [
       "<Figure size 1000x500 with 1 Axes>"
      ]
     },
     "metadata": {},
     "output_type": "display_data"
    }
   ],
   "source": [
    "#Modifying the font of the graph.\n",
    "font = {'family' : 'sans-serif',\n",
    "        'weight' : 'normal',\n",
    "        'size'   : 10}\n",
    "matplotlib.rc('font', **font)\n",
    "\n",
    "\n",
    "df2.plot.bar(figsize = (10, 5))\n",
    "plt.xlabel(\"Countries\")\n",
    "plt.ylabel(\"Tons of Yoghurt per person\")\n",
    "plt.title(\"Top 10 countries with highest production of Yoghurt per person\")\n",
    "plt.show()"
   ]
  },
  {
   "attachments": {},
   "cell_type": "markdown",
   "id": "83d84c38",
   "metadata": {},
   "source": [
    "# Question 2:"
   ]
  },
  {
   "cell_type": "code",
   "execution_count": 25,
   "id": "70c44553",
   "metadata": {},
   "outputs": [],
   "source": [
    "df2 = df1[df1['Element']=='Producing Animals/Slaughtered'][['Year','Area','Value','PopDensity']]"
   ]
  },
  {
   "cell_type": "code",
   "execution_count": 26,
   "id": "4e3de0b2",
   "metadata": {},
   "outputs": [],
   "source": [
    "df2 = df2.groupby(['Year','Area']).mean()"
   ]
  },
  {
   "cell_type": "code",
   "execution_count": 27,
   "id": "d4508285",
   "metadata": {},
   "outputs": [],
   "source": [
    "x = df2['Value'].to_frame().reset_index().drop('Area',axis =1).groupby(['Year']).sum()['Value'].to_frame().reset_index()\n",
    "y = df2['PopDensity'].to_frame().reset_index().drop('Area',axis =1).groupby(['Year']).mean()['PopDensity'].to_frame().reset_index()"
   ]
  },
  {
   "cell_type": "code",
   "execution_count": 28,
   "id": "a388d9c2",
   "metadata": {},
   "outputs": [],
   "source": [
    "df2 = x\n",
    "df2['PopDensity'] = y['PopDensity']\n",
    "df2['Value'] = df2['Value']/10000"
   ]
  },
  {
   "cell_type": "code",
   "execution_count": 29,
   "id": "d1b624e7",
   "metadata": {},
   "outputs": [],
   "source": [
    "df2 = df2.drop(['Year'],axis=1)\n",
    "df2['PopDensity'] = df2['PopDensity']*1000\n",
    "df2.index = y['Year']"
   ]
  },
  {
   "cell_type": "code",
   "execution_count": 30,
   "id": "73c00c5f",
   "metadata": {},
   "outputs": [
    {
     "data": {
      "text/plain": [
       "<Figure size 2400x1200 with 0 Axes>"
      ]
     },
     "metadata": {},
     "output_type": "display_data"
    },
    {
     "data": {
      "image/png": "[encoded data removed]",
      "text/plain": [
       "<Figure size 640x480 with 1 Axes>"
      ]
     },
     "metadata": {},
     "output_type": "display_data"
    }
   ],
   "source": [
    "#Modifying the font of the graph.\n",
    "font = {'family' : 'sans-serif',\n",
    "        'weight' : 'normal',\n",
    "        'size'   : 8}\n",
    "matplotlib.rc('font', **font)\n",
    "\n",
    "plt.figure(figsize=(16, 8), dpi=150)\n",
    "\n",
    "df2.plot(color=['orange', 'green'])\n",
    "\n",
    "plt.xlabel(\"Years\")\n",
    "plt.ylabel(\"Animals produced (/ 10000) and Population Density (x 1000)\")\n",
    "plt.title(\"Meat production and Average population density of the world over the years\")\n",
    "plt.show()"
   ]
  },
  {
   "attachments": {},
   "cell_type": "markdown",
   "id": "04d2f308",
   "metadata": {},
   "source": [
    "# Question 3:"
   ]
  },
  {
   "cell_type": "code",
   "execution_count": 31,
   "id": "2e4673d1",
   "metadata": {},
   "outputs": [],
   "source": [
    "df2 = df1"
   ]
  },
  {
   "cell_type": "code",
   "execution_count": 32,
   "id": "d20439d6",
   "metadata": {},
   "outputs": [],
   "source": [
    "extra = ['Africa','Asia','Central America','Central Asia','Eastern Africa', 'Eastern Asia', 'Eastern Europe','Europe','Middle Africa','Northern Africa', 'Northern America', 'Northern Europe','South America','Southern Africa', 'Southern Asia', 'Southern Europe','Western Africa', 'Western Asia', 'Western Europe', 'World']\n",
    "df2 = df2[df2.Area.isin(extra) == False]"
   ]
  },
  {
   "cell_type": "code",
   "execution_count": 33,
   "id": "482ecf75",
   "metadata": {},
   "outputs": [],
   "source": [
    "df2 = df2[df2['Item']=='Beef and Buffalo Meat, primary'][df2['Element']=='Production'][df2['Year']>2009][['Area','Year','Value']]"
   ]
  },
  {
   "cell_type": "code",
   "execution_count": 34,
   "id": "1b16efa8",
   "metadata": {},
   "outputs": [],
   "source": [
    "df2 = df2.groupby(['Year','Area']).mean()['Value'].to_frame().reset_index()"
   ]
  },
  {
   "cell_type": "code",
   "execution_count": 35,
   "id": "f1167622",
   "metadata": {},
   "outputs": [],
   "source": [
    "df2 = df2.groupby(['Area']).sum()['Value'].to_frame().reset_index().sort_values(by=['Value'], ascending=False)"
   ]
  },
  {
   "cell_type": "code",
   "execution_count": 36,
   "id": "06716da4",
   "metadata": {},
   "outputs": [],
   "source": [
    "df2['Value'] = df2['Value']/1000"
   ]
  },
  {
   "cell_type": "code",
   "execution_count": 37,
   "id": "9d15b677",
   "metadata": {},
   "outputs": [],
   "source": [
    "total = sum(df2['Value'])\n",
    "df2['Area'] = [df2.iloc[x]['Area']+\" \"+str((df2.iloc[x]['Value']/total)*100)[0:4]+\"%\" for x in range(0,len(df2))]"
   ]
  },
  {
   "cell_type": "code",
   "execution_count": 38,
   "id": "43ea8a11",
   "metadata": {},
   "outputs": [],
   "source": [
    "area = df2['Area']\n",
    "df2.drop('Area',axis = 1,inplace=True)\n",
    "df2.index = area\n",
    "df2 = df2.head(50)"
   ]
  },
  {
   "cell_type": "code",
   "execution_count": 39,
   "id": "9b5a68df",
   "metadata": {},
   "outputs": [
    {
     "data": {
      "image/png": "[encoded data removed]",
      "text/plain": [
       "<Figure size 1600x800 with 1 Axes>"
      ]
     },
     "metadata": {},
     "output_type": "display_data"
    }
   ],
   "source": [
    "#Modifying the font of the graph.\n",
    "font = {'family' : 'sans-serif',\n",
    "        'weight' : 'normal',\n",
    "        'size'   : 6}\n",
    "matplotlib.rc('font', **font)\n",
    "\n",
    "df2.plot(kind='pie', y='Value',figsize=(16, 8))\n",
    "plt.legend(loc=(1.2,-0.2))\n",
    "plt.title(\"Share of top 50 countries with most Beef production from 2010-2021 combined\")\n",
    "plt.show()"
   ]
  },
  {
   "attachments": {},
   "cell_type": "markdown",
   "id": "489f33f2",
   "metadata": {},
   "source": [
    "# Question 4:"
   ]
  },
  {
   "cell_type": "code",
   "execution_count": 40,
   "id": "ee2a055e",
   "metadata": {},
   "outputs": [],
   "source": [
    "df2 = df1"
   ]
  },
  {
   "cell_type": "code",
   "execution_count": 41,
   "id": "99d43d57",
   "metadata": {},
   "outputs": [],
   "source": [
    "continents = ['Africa','Asia','Europe','Northern America','South America']\n",
    "df2 = df2[df2['Area'].isin(continents)][df2['Element']=='Area harvested'][['Area','Year','Item','Value']]"
   ]
  },
  {
   "cell_type": "code",
   "execution_count": 42,
   "id": "6c2205cd",
   "metadata": {},
   "outputs": [],
   "source": [
    "df2 = df2.groupby(['Year','Area','Item']).mean()['Value'].to_frame().reset_index().drop('Item',axis=1)"
   ]
  },
  {
   "cell_type": "code",
   "execution_count": 43,
   "id": "43c4a65a",
   "metadata": {},
   "outputs": [],
   "source": [
    "df2 = df2.groupby(['Year','Area']).sum()['Value'].to_frame().reset_index()"
   ]
  },
  {
   "cell_type": "code",
   "execution_count": 44,
   "id": "50bbb823",
   "metadata": {},
   "outputs": [],
   "source": [
    "df2 = df2.pivot(index='Year', columns='Area')['Value'][['South America','Northern America','Europe','Africa','Asia']]"
   ]
  },
  {
   "cell_type": "code",
   "execution_count": 45,
   "id": "cad2a5b0",
   "metadata": {},
   "outputs": [
    {
     "data": {
      "text/plain": [
       "<Figure size 1500x1200 with 0 Axes>"
      ]
     },
     "metadata": {},
     "output_type": "display_data"
    },
    {
     "data": {
      "image/png": "[encoded data removed]",
      "text/plain": [
       "<Figure size 640x480 with 1 Axes>"
      ]
     },
     "metadata": {},
     "output_type": "display_data"
    }
   ],
   "source": [
    "#Modifying the font of the graph.\n",
    "font = {'family' : 'sans-serif',\n",
    "        'weight' : 'normal',\n",
    "        'size'   : 8}\n",
    "matplotlib.rc('font', **font)\n",
    "\n",
    "plt.figure(figsize=(15, 12))\n",
    "\n",
    "df2.plot.area()\n",
    "\n",
    "plt.xlabel(\"Years\")\n",
    "plt.ylabel(\"Land used for Crops and livestock production (ha)\")\n",
    "plt.title(\"Area used for Crops and livestock production of each continent over the years\")\n",
    "plt.show()\n",
    "\n"
   ]
  },
  {
   "attachments": {},
   "cell_type": "markdown",
   "id": "37f2c208",
   "metadata": {},
   "source": [
    "# Question 5:"
   ]
  },
  {
   "cell_type": "code",
   "execution_count": 46,
   "id": "0371592e",
   "metadata": {},
   "outputs": [],
   "source": [
    "df2=df1"
   ]
  },
  {
   "cell_type": "code",
   "execution_count": 47,
   "id": "9ee55362",
   "metadata": {},
   "outputs": [],
   "source": [
    "continents = ['Africa','Asia','Europe','Northern America','South America']\n",
    "df2 = df2[df2['Area'].isin(continents)][df2['Item'].isin(['Rice','Wheat'])][['Area','Year','Item','Value','Element','Unit']]"
   ]
  },
  {
   "cell_type": "code",
   "execution_count": 48,
   "id": "765988d1",
   "metadata": {},
   "outputs": [],
   "source": [
    "df2 = df2.groupby(['Area','Item','Element','Unit']).mean()['Value'].to_frame().reset_index()"
   ]
  },
  {
   "cell_type": "code",
   "execution_count": 49,
   "id": "214a8587",
   "metadata": {},
   "outputs": [
    {
     "data": {
      "text/html": [
       "<div>\n",
       "<style scoped>\n",
       "    .dataframe tbody tr th:only-of-type {\n",
       "        vertical-align: middle;\n",
       "    }\n",
       "\n",
       "    .dataframe tbody tr th {\n",
       "        vertical-align: top;\n",
       "    }\n",
       "\n",
       "    .dataframe thead th {\n",
       "        text-align: right;\n",
       "    }\n",
       "</style>\n",
       "<table border=\"1\" class=\"dataframe\">\n",
       "  <thead>\n",
       "    <tr style=\"text-align: right;\">\n",
       "      <th>Item</th>\n",
       "      <th>Rice</th>\n",
       "      <th>Wheat</th>\n",
       "    </tr>\n",
       "    <tr>\n",
       "      <th>Area</th>\n",
       "      <th></th>\n",
       "      <th></th>\n",
       "    </tr>\n",
       "  </thead>\n",
       "  <tbody>\n",
       "    <tr>\n",
       "      <th>Africa</th>\n",
       "      <td>9.389475e+06</td>\n",
       "      <td>9.136457e+06</td>\n",
       "    </tr>\n",
       "    <tr>\n",
       "      <th>Asia</th>\n",
       "      <td>1.336215e+08</td>\n",
       "      <td>9.019883e+07</td>\n",
       "    </tr>\n",
       "    <tr>\n",
       "      <th>Europe</th>\n",
       "      <td>7.091745e+05</td>\n",
       "      <td>6.970393e+07</td>\n",
       "    </tr>\n",
       "    <tr>\n",
       "      <th>Northern America</th>\n",
       "      <td>1.096933e+06</td>\n",
       "      <td>3.070031e+07</td>\n",
       "    </tr>\n",
       "    <tr>\n",
       "      <th>South America</th>\n",
       "      <td>5.242574e+06</td>\n",
       "      <td>9.100699e+06</td>\n",
       "    </tr>\n",
       "  </tbody>\n",
       "</table>\n",
       "</div>"
      ],
      "text/plain": [
       "Item                      Rice         Wheat\n",
       "Area                                        \n",
       "Africa            9.389475e+06  9.136457e+06\n",
       "Asia              1.336215e+08  9.019883e+07\n",
       "Europe            7.091745e+05  6.970393e+07\n",
       "Northern America  1.096933e+06  3.070031e+07\n",
       "South America     5.242574e+06  9.100699e+06"
      ]
     },
     "execution_count": 49,
     "metadata": {},
     "output_type": "execute_result"
    }
   ],
   "source": [
    "area = df2[df2['Element']=='Area harvested']\n",
    "area.index = area['Area']\n",
    "area = area.pivot(index='Area', columns='Item', values='Value')\n",
    "area"
   ]
  },
  {
   "cell_type": "code",
   "execution_count": 50,
   "id": "aa7e4024",
   "metadata": {},
   "outputs": [
    {
     "data": {
      "text/html": [
       "<div>\n",
       "<style scoped>\n",
       "    .dataframe tbody tr th:only-of-type {\n",
       "        vertical-align: middle;\n",
       "    }\n",
       "\n",
       "    .dataframe tbody tr th {\n",
       "        vertical-align: top;\n",
       "    }\n",
       "\n",
       "    .dataframe thead th {\n",
       "        text-align: right;\n",
       "    }\n",
       "</style>\n",
       "<table border=\"1\" class=\"dataframe\">\n",
       "  <thead>\n",
       "    <tr style=\"text-align: right;\">\n",
       "      <th>Item</th>\n",
       "      <th>Rice</th>\n",
       "      <th>Wheat</th>\n",
       "    </tr>\n",
       "    <tr>\n",
       "      <th>Area</th>\n",
       "      <th></th>\n",
       "      <th></th>\n",
       "    </tr>\n",
       "  </thead>\n",
       "  <tbody>\n",
       "    <tr>\n",
       "      <th>Africa</th>\n",
       "      <td>2.118773e+07</td>\n",
       "      <td>1.824215e+07</td>\n",
       "    </tr>\n",
       "    <tr>\n",
       "      <th>Asia</th>\n",
       "      <td>5.220728e+08</td>\n",
       "      <td>2.360100e+08</td>\n",
       "    </tr>\n",
       "    <tr>\n",
       "      <th>Europe</th>\n",
       "      <td>3.650535e+06</td>\n",
       "      <td>2.089356e+08</td>\n",
       "    </tr>\n",
       "    <tr>\n",
       "      <th>Northern America</th>\n",
       "      <td>7.757652e+06</td>\n",
       "      <td>7.800334e+07</td>\n",
       "    </tr>\n",
       "    <tr>\n",
       "      <th>South America</th>\n",
       "      <td>1.910868e+07</td>\n",
       "      <td>2.032147e+07</td>\n",
       "    </tr>\n",
       "  </tbody>\n",
       "</table>\n",
       "</div>"
      ],
      "text/plain": [
       "Item                      Rice         Wheat\n",
       "Area                                        \n",
       "Africa            2.118773e+07  1.824215e+07\n",
       "Asia              5.220728e+08  2.360100e+08\n",
       "Europe            3.650535e+06  2.089356e+08\n",
       "Northern America  7.757652e+06  7.800334e+07\n",
       "South America     1.910868e+07  2.032147e+07"
      ]
     },
     "execution_count": 50,
     "metadata": {},
     "output_type": "execute_result"
    }
   ],
   "source": [
    "prod = df2[df2['Element']=='Production']\n",
    "prod.index = prod['Area']\n",
    "prod = prod.pivot(index='Area', columns='Item', values='Value')\n",
    "prod"
   ]
  },
  {
   "cell_type": "code",
   "execution_count": 51,
   "id": "05599d8c",
   "metadata": {},
   "outputs": [
    {
     "data": {
      "text/html": [
       "<div>\n",
       "<style scoped>\n",
       "    .dataframe tbody tr th:only-of-type {\n",
       "        vertical-align: middle;\n",
       "    }\n",
       "\n",
       "    .dataframe tbody tr th {\n",
       "        vertical-align: top;\n",
       "    }\n",
       "\n",
       "    .dataframe thead th {\n",
       "        text-align: right;\n",
       "    }\n",
       "</style>\n",
       "<table border=\"1\" class=\"dataframe\">\n",
       "  <thead>\n",
       "    <tr style=\"text-align: right;\">\n",
       "      <th>Item</th>\n",
       "      <th>Rice</th>\n",
       "      <th>Wheat</th>\n",
       "    </tr>\n",
       "    <tr>\n",
       "      <th>Area</th>\n",
       "      <th></th>\n",
       "      <th></th>\n",
       "    </tr>\n",
       "  </thead>\n",
       "  <tbody>\n",
       "    <tr>\n",
       "      <th>Africa</th>\n",
       "      <td>21519.548780</td>\n",
       "      <td>19444.439024</td>\n",
       "    </tr>\n",
       "    <tr>\n",
       "      <th>Asia</th>\n",
       "      <td>38393.292683</td>\n",
       "      <td>24943.365854</td>\n",
       "    </tr>\n",
       "    <tr>\n",
       "      <th>Europe</th>\n",
       "      <td>52726.768293</td>\n",
       "      <td>31752.682927</td>\n",
       "    </tr>\n",
       "    <tr>\n",
       "      <th>Northern America</th>\n",
       "      <td>69599.353659</td>\n",
       "      <td>26036.975610</td>\n",
       "    </tr>\n",
       "    <tr>\n",
       "      <th>South America</th>\n",
       "      <td>39386.743902</td>\n",
       "      <td>21949.719512</td>\n",
       "    </tr>\n",
       "  </tbody>\n",
       "</table>\n",
       "</div>"
      ],
      "text/plain": [
       "Item                      Rice         Wheat\n",
       "Area                                        \n",
       "Africa            21519.548780  19444.439024\n",
       "Asia              38393.292683  24943.365854\n",
       "Europe            52726.768293  31752.682927\n",
       "Northern America  69599.353659  26036.975610\n",
       "South America     39386.743902  21949.719512"
      ]
     },
     "execution_count": 51,
     "metadata": {},
     "output_type": "execute_result"
    }
   ],
   "source": [
    "yeild = df2[df2['Element']=='Yield']\n",
    "yeild.index = yeild['Area']\n",
    "yeild = yeild.pivot(index='Area', columns='Item', values='Value')\n",
    "yeild"
   ]
  },
  {
   "cell_type": "code",
   "execution_count": 52,
   "id": "38891505",
   "metadata": {},
   "outputs": [
    {
     "data": {
      "image/png": "[encoded data removed]",
      "text/plain": [
       "<Figure size 800x400 with 1 Axes>"
      ]
     },
     "metadata": {},
     "output_type": "display_data"
    },
    {
     "data": {
      "image/png": "[encoded data removed]",
      "text/plain": [
       "<Figure size 800x400 with 1 Axes>"
      ]
     },
     "metadata": {},
     "output_type": "display_data"
    },
    {
     "data": {
      "image/png": "[encoded data removed]",
      "text/plain": [
       "<Figure size 800x400 with 1 Axes>"
      ]
     },
     "metadata": {},
     "output_type": "display_data"
    }
   ],
   "source": [
    "#Modifying the font of the graph.\n",
    "font = {'family' : 'sans-serif',\n",
    "        'weight' : 'normal',\n",
    "        'size'   : 6}\n",
    "matplotlib.rc('font', **font)\n",
    "\n",
    "ax = area[['Rice','Wheat']].plot.bar(figsize = (8, 4))\n",
    "plt.xlabel(\"Countries\")\n",
    "plt.ylabel(\"Area (ha)\")\n",
    "plt.title(\"Area used by each countinent for producing Rice and Wheat\")\n",
    "plt.show() \n",
    "\n",
    "ax1 = prod[['Rice','Wheat']].plot.bar(figsize = (8, 4))\n",
    "plt.xlabel(\"Countries\")\n",
    "plt.ylabel(\"Production (tonnes)\")\n",
    "plt.title(\"Rice and Wheat produced by each countinent\")\n",
    "plt.show() \n",
    "\n",
    "ax2 = yeild[['Rice','Wheat']].plot.bar(figsize = (8, 4))\n",
    "plt.xlabel(\"Countries\")\n",
    "plt.ylabel(\"Yeild (hg/ha)\")\n",
    "plt.title(\"Rice and Wheat yeild of each countinent\")\n",
    "plt.show() "
   ]
  },
  {
   "attachments": {},
   "cell_type": "markdown",
   "id": "02d57026",
   "metadata": {},
   "source": [
    "# Question 6:"
   ]
  },
  {
   "cell_type": "code",
   "execution_count": 53,
   "id": "126d557d",
   "metadata": {},
   "outputs": [],
   "source": [
    "df2 = df1"
   ]
  },
  {
   "cell_type": "code",
   "execution_count": 54,
   "id": "f9e6ed7b",
   "metadata": {},
   "outputs": [],
   "source": [
    "df2 = df2[df2['Element']=='Stocks'][['Area','Year','Item','Value','PopTotal']]\n",
    "df2 = df2.groupby(['Area','Item']).mean().reset_index().drop(['Year','Item'],axis=1)"
   ]
  },
  {
   "cell_type": "code",
   "execution_count": 55,
   "id": "880a97f3",
   "metadata": {},
   "outputs": [],
   "source": [
    "x = df2[['Area','PopTotal']].groupby(['Area']).mean()['PopTotal']\n",
    "df2 = df2[['Area','Value']].groupby(['Area']).sum().reset_index()\n",
    "df2['anim_per_pop'] = df2['Value']/x.tolist()"
   ]
  },
  {
   "cell_type": "code",
   "execution_count": 56,
   "id": "7c63e09d",
   "metadata": {},
   "outputs": [],
   "source": [
    "df2 = df2.sort_values(by=['anim_per_pop'], ascending=False).reset_index().drop(['index','Value'],axis=1)\n",
    "x = df2.iloc[0:10,:]\n",
    "y = df2.iloc[-10:,:]\n",
    "x.index = x['Area']\n",
    "y.index = y['Area']"
   ]
  },
  {
   "cell_type": "code",
   "execution_count": 57,
   "id": "4b2a31a8",
   "metadata": {},
   "outputs": [
    {
     "data": {
      "image/png": "[encoded data removed]",
      "text/plain": [
       "<Figure size 800x500 with 1 Axes>"
      ]
     },
     "metadata": {},
     "output_type": "display_data"
    },
    {
     "data": {
      "image/png": "[encoded data removed]",
      "text/plain": [
       "<Figure size 800x500 with 1 Axes>"
      ]
     },
     "metadata": {},
     "output_type": "display_data"
    }
   ],
   "source": [
    "#Modifying the font of the graph.\n",
    "font = {'family' : 'sans-serif',\n",
    "        'weight' : 'normal',\n",
    "        'size'   : 8}\n",
    "matplotlib.rc('font', **font)\n",
    "\n",
    "\n",
    "x.plot.bar(figsize = (8, 5))\n",
    "plt.xlabel(\"Countries\")\n",
    "plt.ylabel(\"Animal per person ((animals/people))\")\n",
    "plt.title(\"Top 10 countries with highest animal per person ratio\")\n",
    "plt.show()\n",
    "\n",
    "y.plot.bar(figsize = (8, 5))\n",
    "plt.xlabel(\"Countries\")\n",
    "plt.ylabel(\"Animal per person (animals/people)\")\n",
    "plt.title(\"Top 10 countries with Least animal per person ratio\")\n",
    "plt.show()"
   ]
  },
  {
   "attachments": {},
   "cell_type": "markdown",
   "id": "fd2e571d",
   "metadata": {},
   "source": [
    "# Preparing the data:"
   ]
  },
  {
   "cell_type": "code",
   "execution_count": 58,
   "id": "096757a6",
   "metadata": {},
   "outputs": [
    {
     "name": "stdout",
     "output_type": "stream",
     "text": [
      "   Area Code Area Code (M49)         Area  Item Code Item Code (CPC)   \n",
      "0          2            '004  Afghanistan        221          '01371  \\\n",
      "1          2            '004  Afghanistan        221          '01371   \n",
      "2          2            '004  Afghanistan        515          '01341   \n",
      "3          2            '004  Afghanistan        515          '01341   \n",
      "4          2            '004  Afghanistan        515          '01341   \n",
      "\n",
      "                Item  Element Code         Element  Year Code  Year    Unit   \n",
      "0  Almonds, in shell          5312  Area harvested       1975  1975      ha  \\\n",
      "1  Almonds, in shell          5510      Production       1975  1975  tonnes   \n",
      "2             Apples          5312  Area harvested       1975  1975      ha   \n",
      "3             Apples          5419           Yield       1975  1975   hg/ha   \n",
      "4             Apples          5510      Production       1975  1975  tonnes   \n",
      "\n",
      "     Value Flag  LocID     Location  VarID Variant  Time  MidPeriod   PopMale   \n",
      "0      0.0    E      4  Afghanistan      2  Medium  1975     1975.5  6446.273  \\\n",
      "1      0.0    E      4  Afghanistan      2  Medium  1975     1975.5  6446.273   \n",
      "2   3270.0    E      4  Afghanistan      2  Medium  1975     1975.5  6446.273   \n",
      "3  85321.0    E      4  Afghanistan      2  Medium  1975     1975.5  6446.273   \n",
      "4  27900.0    E      4  Afghanistan      2  Medium  1975     1975.5  6446.273   \n",
      "\n",
      "   PopFemale   PopTotal  PopDensity  \n",
      "0   6242.891  12689.164      19.436  \n",
      "1   6242.891  12689.164      19.436  \n",
      "2   6242.891  12689.164      19.436  \n",
      "3   6242.891  12689.164      19.436  \n",
      "4   6242.891  12689.164      19.436  \n"
     ]
    }
   ],
   "source": [
    "pd.set_option('display.max_columns', None)\n",
    "print(df.head())"
   ]
  },
  {
   "attachments": {},
   "cell_type": "markdown",
   "id": "55760167",
   "metadata": {},
   "source": [
    "# Encoding:"
   ]
  },
  {
   "cell_type": "code",
   "execution_count": 59,
   "id": "398f22bc",
   "metadata": {},
   "outputs": [
    {
     "data": {
      "text/html": [
       "<div>\n",
       "<style scoped>\n",
       "    .dataframe tbody tr th:only-of-type {\n",
       "        vertical-align: middle;\n",
       "    }\n",
       "\n",
       "    .dataframe tbody tr th {\n",
       "        vertical-align: top;\n",
       "    }\n",
       "\n",
       "    .dataframe thead th {\n",
       "        text-align: right;\n",
       "    }\n",
       "</style>\n",
       "<table border=\"1\" class=\"dataframe\">\n",
       "  <thead>\n",
       "    <tr style=\"text-align: right;\">\n",
       "      <th></th>\n",
       "      <th>Area Code</th>\n",
       "      <th>Area Code (M49)</th>\n",
       "      <th>Area</th>\n",
       "    </tr>\n",
       "  </thead>\n",
       "  <tbody>\n",
       "    <tr>\n",
       "      <th>0</th>\n",
       "      <td>2</td>\n",
       "      <td>'004</td>\n",
       "      <td>Afghanistan</td>\n",
       "    </tr>\n",
       "    <tr>\n",
       "      <th>1</th>\n",
       "      <td>2</td>\n",
       "      <td>'004</td>\n",
       "      <td>Afghanistan</td>\n",
       "    </tr>\n",
       "    <tr>\n",
       "      <th>2</th>\n",
       "      <td>2</td>\n",
       "      <td>'004</td>\n",
       "      <td>Afghanistan</td>\n",
       "    </tr>\n",
       "    <tr>\n",
       "      <th>3</th>\n",
       "      <td>2</td>\n",
       "      <td>'004</td>\n",
       "      <td>Afghanistan</td>\n",
       "    </tr>\n",
       "    <tr>\n",
       "      <th>4</th>\n",
       "      <td>2</td>\n",
       "      <td>'004</td>\n",
       "      <td>Afghanistan</td>\n",
       "    </tr>\n",
       "  </tbody>\n",
       "</table>\n",
       "</div>"
      ],
      "text/plain": [
       "   Area Code Area Code (M49)         Area\n",
       "0          2            '004  Afghanistan\n",
       "1          2            '004  Afghanistan\n",
       "2          2            '004  Afghanistan\n",
       "3          2            '004  Afghanistan\n",
       "4          2            '004  Afghanistan"
      ]
     },
     "execution_count": 59,
     "metadata": {},
     "output_type": "execute_result"
    }
   ],
   "source": [
    "df_area = df[['Area Code','Area Code (M49)','Area']].copy()\n",
    "df_area.head()"
   ]
  },
  {
   "cell_type": "code",
   "execution_count": 60,
   "id": "ff624a13",
   "metadata": {},
   "outputs": [
    {
     "data": {
      "text/html": [
       "<div>\n",
       "<style scoped>\n",
       "    .dataframe tbody tr th:only-of-type {\n",
       "        vertical-align: middle;\n",
       "    }\n",
       "\n",
       "    .dataframe tbody tr th {\n",
       "        vertical-align: top;\n",
       "    }\n",
       "\n",
       "    .dataframe thead th {\n",
       "        text-align: right;\n",
       "    }\n",
       "</style>\n",
       "<table border=\"1\" class=\"dataframe\">\n",
       "  <thead>\n",
       "    <tr style=\"text-align: right;\">\n",
       "      <th></th>\n",
       "      <th>Item Code</th>\n",
       "      <th>Item Code (CPC)</th>\n",
       "      <th>Item</th>\n",
       "    </tr>\n",
       "  </thead>\n",
       "  <tbody>\n",
       "    <tr>\n",
       "      <th>0</th>\n",
       "      <td>221</td>\n",
       "      <td>'01371</td>\n",
       "      <td>Almonds, in shell</td>\n",
       "    </tr>\n",
       "    <tr>\n",
       "      <th>1</th>\n",
       "      <td>221</td>\n",
       "      <td>'01371</td>\n",
       "      <td>Almonds, in shell</td>\n",
       "    </tr>\n",
       "    <tr>\n",
       "      <th>2</th>\n",
       "      <td>515</td>\n",
       "      <td>'01341</td>\n",
       "      <td>Apples</td>\n",
       "    </tr>\n",
       "    <tr>\n",
       "      <th>3</th>\n",
       "      <td>515</td>\n",
       "      <td>'01341</td>\n",
       "      <td>Apples</td>\n",
       "    </tr>\n",
       "    <tr>\n",
       "      <th>4</th>\n",
       "      <td>515</td>\n",
       "      <td>'01341</td>\n",
       "      <td>Apples</td>\n",
       "    </tr>\n",
       "  </tbody>\n",
       "</table>\n",
       "</div>"
      ],
      "text/plain": [
       "   Item Code Item Code (CPC)               Item\n",
       "0        221          '01371  Almonds, in shell\n",
       "1        221          '01371  Almonds, in shell\n",
       "2        515          '01341             Apples\n",
       "3        515          '01341             Apples\n",
       "4        515          '01341             Apples"
      ]
     },
     "execution_count": 60,
     "metadata": {},
     "output_type": "execute_result"
    }
   ],
   "source": [
    "df_item = df[['Item Code','Item Code (CPC)','Item']].copy()\n",
    "df_item.head()"
   ]
  },
  {
   "cell_type": "code",
   "execution_count": 61,
   "id": "1655d7d1",
   "metadata": {},
   "outputs": [
    {
     "data": {
      "text/html": [
       "<div>\n",
       "<style scoped>\n",
       "    .dataframe tbody tr th:only-of-type {\n",
       "        vertical-align: middle;\n",
       "    }\n",
       "\n",
       "    .dataframe tbody tr th {\n",
       "        vertical-align: top;\n",
       "    }\n",
       "\n",
       "    .dataframe thead th {\n",
       "        text-align: right;\n",
       "    }\n",
       "</style>\n",
       "<table border=\"1\" class=\"dataframe\">\n",
       "  <thead>\n",
       "    <tr style=\"text-align: right;\">\n",
       "      <th></th>\n",
       "      <th>Element Code</th>\n",
       "      <th>Element</th>\n",
       "    </tr>\n",
       "  </thead>\n",
       "  <tbody>\n",
       "    <tr>\n",
       "      <th>0</th>\n",
       "      <td>5312</td>\n",
       "      <td>Area harvested</td>\n",
       "    </tr>\n",
       "    <tr>\n",
       "      <th>1</th>\n",
       "      <td>5510</td>\n",
       "      <td>Production</td>\n",
       "    </tr>\n",
       "    <tr>\n",
       "      <th>2</th>\n",
       "      <td>5312</td>\n",
       "      <td>Area harvested</td>\n",
       "    </tr>\n",
       "    <tr>\n",
       "      <th>3</th>\n",
       "      <td>5419</td>\n",
       "      <td>Yield</td>\n",
       "    </tr>\n",
       "    <tr>\n",
       "      <th>4</th>\n",
       "      <td>5510</td>\n",
       "      <td>Production</td>\n",
       "    </tr>\n",
       "  </tbody>\n",
       "</table>\n",
       "</div>"
      ],
      "text/plain": [
       "   Element Code         Element\n",
       "0          5312  Area harvested\n",
       "1          5510      Production\n",
       "2          5312  Area harvested\n",
       "3          5419           Yield\n",
       "4          5510      Production"
      ]
     },
     "execution_count": 61,
     "metadata": {},
     "output_type": "execute_result"
    }
   ],
   "source": [
    "df_element = df[['Element Code','Element']].copy()\n",
    "df_element.head()"
   ]
  },
  {
   "cell_type": "code",
   "execution_count": 62,
   "id": "026c15ef",
   "metadata": {},
   "outputs": [
    {
     "data": {
      "text/html": [
       "<div>\n",
       "<style scoped>\n",
       "    .dataframe tbody tr th:only-of-type {\n",
       "        vertical-align: middle;\n",
       "    }\n",
       "\n",
       "    .dataframe tbody tr th {\n",
       "        vertical-align: top;\n",
       "    }\n",
       "\n",
       "    .dataframe thead th {\n",
       "        text-align: right;\n",
       "    }\n",
       "</style>\n",
       "<table border=\"1\" class=\"dataframe\">\n",
       "  <thead>\n",
       "    <tr style=\"text-align: right;\">\n",
       "      <th></th>\n",
       "      <th>LocID</th>\n",
       "      <th>Location</th>\n",
       "    </tr>\n",
       "  </thead>\n",
       "  <tbody>\n",
       "    <tr>\n",
       "      <th>0</th>\n",
       "      <td>4</td>\n",
       "      <td>Afghanistan</td>\n",
       "    </tr>\n",
       "    <tr>\n",
       "      <th>1</th>\n",
       "      <td>4</td>\n",
       "      <td>Afghanistan</td>\n",
       "    </tr>\n",
       "    <tr>\n",
       "      <th>2</th>\n",
       "      <td>4</td>\n",
       "      <td>Afghanistan</td>\n",
       "    </tr>\n",
       "    <tr>\n",
       "      <th>3</th>\n",
       "      <td>4</td>\n",
       "      <td>Afghanistan</td>\n",
       "    </tr>\n",
       "    <tr>\n",
       "      <th>4</th>\n",
       "      <td>4</td>\n",
       "      <td>Afghanistan</td>\n",
       "    </tr>\n",
       "  </tbody>\n",
       "</table>\n",
       "</div>"
      ],
      "text/plain": [
       "   LocID     Location\n",
       "0      4  Afghanistan\n",
       "1      4  Afghanistan\n",
       "2      4  Afghanistan\n",
       "3      4  Afghanistan\n",
       "4      4  Afghanistan"
      ]
     },
     "execution_count": 62,
     "metadata": {},
     "output_type": "execute_result"
    }
   ],
   "source": [
    "df_location = df[['LocID','Location']]\n",
    "df_location.head()"
   ]
  },
  {
   "cell_type": "code",
   "execution_count": 63,
   "id": "69469f50",
   "metadata": {},
   "outputs": [
    {
     "data": {
      "text/html": [
       "<div>\n",
       "<style scoped>\n",
       "    .dataframe tbody tr th:only-of-type {\n",
       "        vertical-align: middle;\n",
       "    }\n",
       "\n",
       "    .dataframe tbody tr th {\n",
       "        vertical-align: top;\n",
       "    }\n",
       "\n",
       "    .dataframe thead th {\n",
       "        text-align: right;\n",
       "    }\n",
       "</style>\n",
       "<table border=\"1\" class=\"dataframe\">\n",
       "  <thead>\n",
       "    <tr style=\"text-align: right;\">\n",
       "      <th></th>\n",
       "      <th>VarID</th>\n",
       "      <th>Variant</th>\n",
       "    </tr>\n",
       "  </thead>\n",
       "  <tbody>\n",
       "    <tr>\n",
       "      <th>0</th>\n",
       "      <td>2</td>\n",
       "      <td>Medium</td>\n",
       "    </tr>\n",
       "    <tr>\n",
       "      <th>1</th>\n",
       "      <td>2</td>\n",
       "      <td>Medium</td>\n",
       "    </tr>\n",
       "    <tr>\n",
       "      <th>2</th>\n",
       "      <td>2</td>\n",
       "      <td>Medium</td>\n",
       "    </tr>\n",
       "    <tr>\n",
       "      <th>3</th>\n",
       "      <td>2</td>\n",
       "      <td>Medium</td>\n",
       "    </tr>\n",
       "    <tr>\n",
       "      <th>4</th>\n",
       "      <td>2</td>\n",
       "      <td>Medium</td>\n",
       "    </tr>\n",
       "  </tbody>\n",
       "</table>\n",
       "</div>"
      ],
      "text/plain": [
       "   VarID Variant\n",
       "0      2  Medium\n",
       "1      2  Medium\n",
       "2      2  Medium\n",
       "3      2  Medium\n",
       "4      2  Medium"
      ]
     },
     "execution_count": 63,
     "metadata": {},
     "output_type": "execute_result"
    }
   ],
   "source": [
    "df_variant = df[['VarID','Variant']]\n",
    "df_variant.head()"
   ]
  },
  {
   "cell_type": "code",
   "execution_count": 64,
   "id": "cce4fead",
   "metadata": {},
   "outputs": [],
   "source": [
    "df = df.drop(['Area','Area Code (M49)','Item','Item Code (CPC)','Element','Year Code','Time','Variant','LocID','MidPeriod','Location'], axis=1)"
   ]
  },
  {
   "cell_type": "code",
   "execution_count": 65,
   "id": "fec0a513",
   "metadata": {},
   "outputs": [],
   "source": [
    "df = df.rename(columns={'Area Code': 'Area','Item Code': 'Item','Element Code':'Element','VarID':'Variant'})"
   ]
  },
  {
   "attachments": {},
   "cell_type": "markdown",
   "id": "21a84a19",
   "metadata": {},
   "source": [
    "### Convering data into numeric format:"
   ]
  },
  {
   "cell_type": "code",
   "execution_count": 66,
   "id": "0d7619bb",
   "metadata": {},
   "outputs": [
    {
     "name": "stdout",
     "output_type": "stream",
     "text": [
      "<class 'pandas.core.frame.DataFrame'>\n",
      "Index: 4580053 entries, 0 to 4639551\n",
      "Data columns (total 12 columns):\n",
      " #   Column      Dtype  \n",
      "---  ------      -----  \n",
      " 0   Area        int64  \n",
      " 1   Item        int64  \n",
      " 2   Element     int64  \n",
      " 3   Year        int64  \n",
      " 4   Unit        object \n",
      " 5   Value       float64\n",
      " 6   Flag        object \n",
      " 7   Variant     int64  \n",
      " 8   PopMale     float64\n",
      " 9   PopFemale   float64\n",
      " 10  PopTotal    float64\n",
      " 11  PopDensity  float64\n",
      "dtypes: float64(5), int64(5), object(2)\n",
      "memory usage: 583.3+ MB\n"
     ]
    }
   ],
   "source": [
    "df.info()"
   ]
  },
  {
   "cell_type": "code",
   "execution_count": 67,
   "id": "e4778a00",
   "metadata": {},
   "outputs": [],
   "source": [
    "le = LabelEncoder()\n",
    "df['Unit'] = df[['Unit']].apply(le.fit_transform)\n",
    "df['Flag'] = df[['Flag']].apply(le.fit_transform)"
   ]
  },
  {
   "cell_type": "code",
   "execution_count": 68,
   "id": "b57f1b1a",
   "metadata": {},
   "outputs": [
    {
     "name": "stdout",
     "output_type": "stream",
     "text": [
      "<class 'pandas.core.frame.DataFrame'>\n",
      "Index: 4580053 entries, 0 to 4639551\n",
      "Data columns (total 12 columns):\n",
      " #   Column      Dtype  \n",
      "---  ------      -----  \n",
      " 0   Area        int64  \n",
      " 1   Item        int64  \n",
      " 2   Element     int64  \n",
      " 3   Year        int64  \n",
      " 4   Unit        int64  \n",
      " 5   Value       float64\n",
      " 6   Flag        int64  \n",
      " 7   Variant     int64  \n",
      " 8   PopMale     float64\n",
      " 9   PopFemale   float64\n",
      " 10  PopTotal    float64\n",
      " 11  PopDensity  float64\n",
      "dtypes: float64(5), int64(7)\n",
      "memory usage: 583.3 MB\n"
     ]
    }
   ],
   "source": [
    "df.info()"
   ]
  },
  {
   "attachments": {},
   "cell_type": "markdown",
   "id": "bb10a241",
   "metadata": {},
   "source": [
    "# EDA:"
   ]
  },
  {
   "cell_type": "code",
   "execution_count": 69,
   "id": "068c119c",
   "metadata": {},
   "outputs": [
    {
     "data": {
      "text/html": [
       "<div>\n",
       "<style scoped>\n",
       "    .dataframe tbody tr th:only-of-type {\n",
       "        vertical-align: middle;\n",
       "    }\n",
       "\n",
       "    .dataframe tbody tr th {\n",
       "        vertical-align: top;\n",
       "    }\n",
       "\n",
       "    .dataframe thead th {\n",
       "        text-align: right;\n",
       "    }\n",
       "</style>\n",
       "<table border=\"1\" class=\"dataframe\">\n",
       "  <thead>\n",
       "    <tr style=\"text-align: right;\">\n",
       "      <th></th>\n",
       "      <th>count</th>\n",
       "      <th>mean</th>\n",
       "      <th>std</th>\n",
       "      <th>min</th>\n",
       "      <th>25%</th>\n",
       "      <th>50%</th>\n",
       "      <th>75%</th>\n",
       "      <th>max</th>\n",
       "    </tr>\n",
       "  </thead>\n",
       "  <tbody>\n",
       "    <tr>\n",
       "      <th>Area</th>\n",
       "      <td>4580053.0</td>\n",
       "      <td>1.252760e+03</td>\n",
       "      <td>2.126951e+03</td>\n",
       "      <td>1.000</td>\n",
       "      <td>84.000</td>\n",
       "      <td>158.000</td>\n",
       "      <td>249.000</td>\n",
       "      <td>5.504000e+03</td>\n",
       "    </tr>\n",
       "    <tr>\n",
       "      <th>Item</th>\n",
       "      <td>4580053.0</td>\n",
       "      <td>8.455449e+02</td>\n",
       "      <td>1.257774e+03</td>\n",
       "      <td>15.000</td>\n",
       "      <td>358.000</td>\n",
       "      <td>600.000</td>\n",
       "      <td>1058.000</td>\n",
       "      <td>1.753000e+04</td>\n",
       "    </tr>\n",
       "    <tr>\n",
       "      <th>Element</th>\n",
       "      <td>4580053.0</td>\n",
       "      <td>5.408198e+03</td>\n",
       "      <td>1.028702e+02</td>\n",
       "      <td>5111.000</td>\n",
       "      <td>5312.000</td>\n",
       "      <td>5419.000</td>\n",
       "      <td>5510.000</td>\n",
       "      <td>5.513000e+03</td>\n",
       "    </tr>\n",
       "    <tr>\n",
       "      <th>Year</th>\n",
       "      <td>4580053.0</td>\n",
       "      <td>2.001492e+03</td>\n",
       "      <td>1.887664e+01</td>\n",
       "      <td>1961.000</td>\n",
       "      <td>1987.000</td>\n",
       "      <td>2006.000</td>\n",
       "      <td>2020.000</td>\n",
       "      <td>2.021000e+03</td>\n",
       "    </tr>\n",
       "    <tr>\n",
       "      <th>Unit</th>\n",
       "      <td>4580053.0</td>\n",
       "      <td>8.582254e+00</td>\n",
       "      <td>2.902101e+00</td>\n",
       "      <td>0.000</td>\n",
       "      <td>7.000</td>\n",
       "      <td>10.000</td>\n",
       "      <td>11.000</td>\n",
       "      <td>1.100000e+01</td>\n",
       "    </tr>\n",
       "    <tr>\n",
       "      <th>Value</th>\n",
       "      <td>4580053.0</td>\n",
       "      <td>2.533385e+06</td>\n",
       "      <td>3.089577e+07</td>\n",
       "      <td>0.000</td>\n",
       "      <td>2353.000</td>\n",
       "      <td>22440.000</td>\n",
       "      <td>156400.000</td>\n",
       "      <td>3.070645e+09</td>\n",
       "    </tr>\n",
       "    <tr>\n",
       "      <th>Flag</th>\n",
       "      <td>4580053.0</td>\n",
       "      <td>8.590717e-01</td>\n",
       "      <td>8.409299e-01</td>\n",
       "      <td>0.000</td>\n",
       "      <td>0.000</td>\n",
       "      <td>1.000</td>\n",
       "      <td>1.000</td>\n",
       "      <td>4.000000e+00</td>\n",
       "    </tr>\n",
       "    <tr>\n",
       "      <th>Variant</th>\n",
       "      <td>4580053.0</td>\n",
       "      <td>1.709767e+01</td>\n",
       "      <td>5.135268e+01</td>\n",
       "      <td>2.000</td>\n",
       "      <td>2.000</td>\n",
       "      <td>2.000</td>\n",
       "      <td>4.000</td>\n",
       "      <td>2.070000e+02</td>\n",
       "    </tr>\n",
       "    <tr>\n",
       "      <th>PopMale</th>\n",
       "      <td>4580053.0</td>\n",
       "      <td>1.180161e+05</td>\n",
       "      <td>4.224205e+05</td>\n",
       "      <td>16.749</td>\n",
       "      <td>2286.823</td>\n",
       "      <td>8381.260</td>\n",
       "      <td>42978.083</td>\n",
       "      <td>3.974825e+06</td>\n",
       "    </tr>\n",
       "    <tr>\n",
       "      <th>PopFemale</th>\n",
       "      <td>4580053.0</td>\n",
       "      <td>1.161976e+05</td>\n",
       "      <td>4.123979e+05</td>\n",
       "      <td>16.366</td>\n",
       "      <td>2284.596</td>\n",
       "      <td>8554.487</td>\n",
       "      <td>43201.725</td>\n",
       "      <td>3.908977e+06</td>\n",
       "    </tr>\n",
       "    <tr>\n",
       "      <th>PopTotal</th>\n",
       "      <td>4580053.0</td>\n",
       "      <td>2.342137e+05</td>\n",
       "      <td>8.347671e+05</td>\n",
       "      <td>33.115</td>\n",
       "      <td>4569.377</td>\n",
       "      <td>16907.768</td>\n",
       "      <td>86243.424</td>\n",
       "      <td>7.883802e+06</td>\n",
       "    </tr>\n",
       "    <tr>\n",
       "      <th>PopDensity</th>\n",
       "      <td>4580053.0</td>\n",
       "      <td>1.573008e+02</td>\n",
       "      <td>7.617075e+02</td>\n",
       "      <td>0.403</td>\n",
       "      <td>21.293</td>\n",
       "      <td>58.965</td>\n",
       "      <td>122.448</td>\n",
       "      <td>2.211167e+04</td>\n",
       "    </tr>\n",
       "  </tbody>\n",
       "</table>\n",
       "</div>"
      ],
      "text/plain": [
       "                count          mean           std       min       25%   \n",
       "Area        4580053.0  1.252760e+03  2.126951e+03     1.000    84.000  \\\n",
       "Item        4580053.0  8.455449e+02  1.257774e+03    15.000   358.000   \n",
       "Element     4580053.0  5.408198e+03  1.028702e+02  5111.000  5312.000   \n",
       "Year        4580053.0  2.001492e+03  1.887664e+01  1961.000  1987.000   \n",
       "Unit        4580053.0  8.582254e+00  2.902101e+00     0.000     7.000   \n",
       "Value       4580053.0  2.533385e+06  3.089577e+07     0.000  2353.000   \n",
       "Flag        4580053.0  8.590717e-01  8.409299e-01     0.000     0.000   \n",
       "Variant     4580053.0  1.709767e+01  5.135268e+01     2.000     2.000   \n",
       "PopMale     4580053.0  1.180161e+05  4.224205e+05    16.749  2286.823   \n",
       "PopFemale   4580053.0  1.161976e+05  4.123979e+05    16.366  2284.596   \n",
       "PopTotal    4580053.0  2.342137e+05  8.347671e+05    33.115  4569.377   \n",
       "PopDensity  4580053.0  1.573008e+02  7.617075e+02     0.403    21.293   \n",
       "\n",
       "                  50%         75%           max  \n",
       "Area          158.000     249.000  5.504000e+03  \n",
       "Item          600.000    1058.000  1.753000e+04  \n",
       "Element      5419.000    5510.000  5.513000e+03  \n",
       "Year         2006.000    2020.000  2.021000e+03  \n",
       "Unit           10.000      11.000  1.100000e+01  \n",
       "Value       22440.000  156400.000  3.070645e+09  \n",
       "Flag            1.000       1.000  4.000000e+00  \n",
       "Variant         2.000       4.000  2.070000e+02  \n",
       "PopMale      8381.260   42978.083  3.974825e+06  \n",
       "PopFemale    8554.487   43201.725  3.908977e+06  \n",
       "PopTotal    16907.768   86243.424  7.883802e+06  \n",
       "PopDensity     58.965     122.448  2.211167e+04  "
      ]
     },
     "execution_count": 69,
     "metadata": {},
     "output_type": "execute_result"
    }
   ],
   "source": [
    "df_transpose = df.describe().T\n",
    "df_transpose"
   ]
  },
  {
   "cell_type": "code",
   "execution_count": 70,
   "id": "87295d07",
   "metadata": {
    "scrolled": true
   },
   "outputs": [
    {
     "data": {
      "text/plain": [
       "<Axes: title={'center': 'Correlation of Attributes'}>"
      ]
     },
     "execution_count": 70,
     "metadata": {},
     "output_type": "execute_result"
    },
    {
     "data": {
      "image/png": "[encoded data removed]",
      "text/plain": [
       "<Figure size 1500x700 with 2 Axes>"
      ]
     },
     "metadata": {},
     "output_type": "display_data"
    }
   ],
   "source": [
    "plt.figure(figsize = (15,7))\n",
    "plt.title('Correlation of Attributes', y=1.05, size=19)\n",
    "sns.heatmap(df.corr(), cmap='plasma',annot=True, fmt='.2f')"
   ]
  },
  {
   "cell_type": "code",
   "execution_count": 71,
   "id": "8ef46bb5",
   "metadata": {},
   "outputs": [
    {
     "data": {
      "text/plain": [
       "<Axes: >"
      ]
     },
     "execution_count": 71,
     "metadata": {},
     "output_type": "execute_result"
    },
    {
     "data": {
      "image/png": "[encoded data removed]",
      "text/plain": [
       "<Figure size 2000x500 with 1 Axes>"
      ]
     },
     "metadata": {},
     "output_type": "display_data"
    }
   ],
   "source": [
    "df.boxplot(return_type='axes', figsize=(20,5))"
   ]
  },
  {
   "attachments": {},
   "cell_type": "markdown",
   "id": "39fa0df2",
   "metadata": {},
   "source": [
    "## Finding Outliners"
   ]
  },
  {
   "cell_type": "code",
   "execution_count": 72,
   "id": "186050a7",
   "metadata": {},
   "outputs": [],
   "source": [
    "#We get only continious values to find the outliers\n",
    "cat = ['Area','Item','Element','Variant','Unit','Flag','Year']\n",
    "df_test = df.drop(cat,axis=1)"
   ]
  },
  {
   "cell_type": "code",
   "execution_count": 73,
   "id": "02a60971",
   "metadata": {},
   "outputs": [
    {
     "data": {
      "text/html": [
       "<div>\n",
       "<style scoped>\n",
       "    .dataframe tbody tr th:only-of-type {\n",
       "        vertical-align: middle;\n",
       "    }\n",
       "\n",
       "    .dataframe tbody tr th {\n",
       "        vertical-align: top;\n",
       "    }\n",
       "\n",
       "    .dataframe thead th {\n",
       "        text-align: right;\n",
       "    }\n",
       "</style>\n",
       "<table border=\"1\" class=\"dataframe\">\n",
       "  <thead>\n",
       "    <tr style=\"text-align: right;\">\n",
       "      <th></th>\n",
       "      <th>PopMale</th>\n",
       "      <th>PopFemale</th>\n",
       "      <th>PopTotal</th>\n",
       "      <th>PopDensity</th>\n",
       "    </tr>\n",
       "    <tr>\n",
       "      <th>Value</th>\n",
       "      <th></th>\n",
       "      <th></th>\n",
       "      <th></th>\n",
       "      <th></th>\n",
       "    </tr>\n",
       "  </thead>\n",
       "  <tbody>\n",
       "    <tr>\n",
       "      <th>0.000000e+00</th>\n",
       "      <td>6446.273</td>\n",
       "      <td>6242.891</td>\n",
       "      <td>12689.164</td>\n",
       "      <td>19.436</td>\n",
       "    </tr>\n",
       "    <tr>\n",
       "      <th>1.000000e-02</th>\n",
       "      <td>2205.325</td>\n",
       "      <td>2121.008</td>\n",
       "      <td>4326.333</td>\n",
       "      <td>4120.317</td>\n",
       "    </tr>\n",
       "    <tr>\n",
       "      <th>2.000000e-02</th>\n",
       "      <td>96.367</td>\n",
       "      <td>94.769</td>\n",
       "      <td>191.136</td>\n",
       "      <td>8.379</td>\n",
       "    </tr>\n",
       "    <tr>\n",
       "      <th>3.000000e-02</th>\n",
       "      <td>128.405</td>\n",
       "      <td>126.663</td>\n",
       "      <td>255.068</td>\n",
       "      <td>11.182</td>\n",
       "    </tr>\n",
       "    <tr>\n",
       "      <th>4.000000e-02</th>\n",
       "      <td>43.373</td>\n",
       "      <td>47.034</td>\n",
       "      <td>90.407</td>\n",
       "      <td>205.470</td>\n",
       "    </tr>\n",
       "    <tr>\n",
       "      <th>...</th>\n",
       "      <td>...</td>\n",
       "      <td>...</td>\n",
       "      <td>...</td>\n",
       "      <td>...</td>\n",
       "    </tr>\n",
       "    <tr>\n",
       "      <th>2.911950e+09</th>\n",
       "      <td>3763157.221</td>\n",
       "      <td>3700864.713</td>\n",
       "      <td>7464021.934</td>\n",
       "      <td>57.374</td>\n",
       "    </tr>\n",
       "    <tr>\n",
       "      <th>2.962815e+09</th>\n",
       "      <td>3889034.611</td>\n",
       "      <td>3824433.594</td>\n",
       "      <td>7713468.205</td>\n",
       "      <td>59.291</td>\n",
       "    </tr>\n",
       "    <tr>\n",
       "      <th>2.966111e+09</th>\n",
       "      <td>3805469.093</td>\n",
       "      <td>3742389.807</td>\n",
       "      <td>7547858.900</td>\n",
       "      <td>58.018</td>\n",
       "    </tr>\n",
       "    <tr>\n",
       "      <th>3.006634e+09</th>\n",
       "      <td>3929973.953</td>\n",
       "      <td>3864824.776</td>\n",
       "      <td>7794798.729</td>\n",
       "      <td>59.917</td>\n",
       "    </tr>\n",
       "    <tr>\n",
       "      <th>3.070645e+09</th>\n",
       "      <td>3970238.390</td>\n",
       "      <td>3904727.342</td>\n",
       "      <td>7874965.732</td>\n",
       "      <td>60.533</td>\n",
       "    </tr>\n",
       "  </tbody>\n",
       "</table>\n",
       "<p>803590 rows × 4 columns</p>\n",
       "</div>"
      ],
      "text/plain": [
       "                  PopMale    PopFemale     PopTotal  PopDensity\n",
       "Value                                                          \n",
       "0.000000e+00     6446.273     6242.891    12689.164      19.436\n",
       "1.000000e-02     2205.325     2121.008     4326.333    4120.317\n",
       "2.000000e-02       96.367       94.769      191.136       8.379\n",
       "3.000000e-02      128.405      126.663      255.068      11.182\n",
       "4.000000e-02       43.373       47.034       90.407     205.470\n",
       "...                   ...          ...          ...         ...\n",
       "2.911950e+09  3763157.221  3700864.713  7464021.934      57.374\n",
       "2.962815e+09  3889034.611  3824433.594  7713468.205      59.291\n",
       "2.966111e+09  3805469.093  3742389.807  7547858.900      58.018\n",
       "3.006634e+09  3929973.953  3864824.776  7794798.729      59.917\n",
       "3.070645e+09  3970238.390  3904727.342  7874965.732      60.533\n",
       "\n",
       "[803590 rows x 4 columns]"
      ]
     },
     "execution_count": 73,
     "metadata": {},
     "output_type": "execute_result"
    }
   ],
   "source": [
    "df_test.groupby('Value').first()"
   ]
  },
  {
   "cell_type": "code",
   "execution_count": 74,
   "id": "caeb1cb7",
   "metadata": {},
   "outputs": [
    {
     "data": {
      "text/html": [
       "<div>\n",
       "<style scoped>\n",
       "    .dataframe tbody tr th:only-of-type {\n",
       "        vertical-align: middle;\n",
       "    }\n",
       "\n",
       "    .dataframe tbody tr th {\n",
       "        vertical-align: top;\n",
       "    }\n",
       "\n",
       "    .dataframe thead th {\n",
       "        text-align: right;\n",
       "    }\n",
       "</style>\n",
       "<table border=\"1\" class=\"dataframe\">\n",
       "  <thead>\n",
       "    <tr style=\"text-align: right;\">\n",
       "      <th></th>\n",
       "      <th>Value</th>\n",
       "      <th>PopMale</th>\n",
       "      <th>PopFemale</th>\n",
       "      <th>PopDensity</th>\n",
       "    </tr>\n",
       "    <tr>\n",
       "      <th>PopTotal</th>\n",
       "      <th></th>\n",
       "      <th></th>\n",
       "      <th></th>\n",
       "      <th></th>\n",
       "    </tr>\n",
       "  </thead>\n",
       "  <tbody>\n",
       "    <tr>\n",
       "      <th>33.115</th>\n",
       "      <td>50.0</td>\n",
       "      <td>16.749</td>\n",
       "      <td>16.366</td>\n",
       "      <td>0.403</td>\n",
       "    </tr>\n",
       "    <tr>\n",
       "      <th>34.379</th>\n",
       "      <td>50.0</td>\n",
       "      <td>17.496</td>\n",
       "      <td>16.883</td>\n",
       "      <td>0.418</td>\n",
       "    </tr>\n",
       "    <tr>\n",
       "      <th>35.770</th>\n",
       "      <td>50.0</td>\n",
       "      <td>18.333</td>\n",
       "      <td>17.437</td>\n",
       "      <td>0.435</td>\n",
       "    </tr>\n",
       "    <tr>\n",
       "      <th>37.284</th>\n",
       "      <td>50.0</td>\n",
       "      <td>19.234</td>\n",
       "      <td>18.050</td>\n",
       "      <td>0.454</td>\n",
       "    </tr>\n",
       "    <tr>\n",
       "      <th>38.893</th>\n",
       "      <td>50.0</td>\n",
       "      <td>20.163</td>\n",
       "      <td>18.730</td>\n",
       "      <td>0.473</td>\n",
       "    </tr>\n",
       "    <tr>\n",
       "      <th>...</th>\n",
       "      <td>...</td>\n",
       "      <td>...</td>\n",
       "      <td>...</td>\n",
       "      <td>...</td>\n",
       "    </tr>\n",
       "    <tr>\n",
       "      <th>7874751.698</th>\n",
       "      <td>174067.0</td>\n",
       "      <td>3970061.482</td>\n",
       "      <td>3904690.216</td>\n",
       "      <td>60.531</td>\n",
       "    </tr>\n",
       "    <tr>\n",
       "      <th>7874965.732</th>\n",
       "      <td>174067.0</td>\n",
       "      <td>3970238.390</td>\n",
       "      <td>3904727.342</td>\n",
       "      <td>60.533</td>\n",
       "    </tr>\n",
       "    <tr>\n",
       "      <th>7876434.843</th>\n",
       "      <td>174067.0</td>\n",
       "      <td>3970971.240</td>\n",
       "      <td>3905463.603</td>\n",
       "      <td>60.544</td>\n",
       "    </tr>\n",
       "    <tr>\n",
       "      <th>7878657.241</th>\n",
       "      <td>174067.0</td>\n",
       "      <td>3972157.343</td>\n",
       "      <td>3906499.898</td>\n",
       "      <td>60.561</td>\n",
       "    </tr>\n",
       "    <tr>\n",
       "      <th>7883801.792</th>\n",
       "      <td>174067.0</td>\n",
       "      <td>3974824.832</td>\n",
       "      <td>3908976.960</td>\n",
       "      <td>60.601</td>\n",
       "    </tr>\n",
       "  </tbody>\n",
       "</table>\n",
       "<p>13466 rows × 4 columns</p>\n",
       "</div>"
      ],
      "text/plain": [
       "                Value      PopMale    PopFemale  PopDensity\n",
       "PopTotal                                                   \n",
       "33.115           50.0       16.749       16.366       0.403\n",
       "34.379           50.0       17.496       16.883       0.418\n",
       "35.770           50.0       18.333       17.437       0.435\n",
       "37.284           50.0       19.234       18.050       0.454\n",
       "38.893           50.0       20.163       18.730       0.473\n",
       "...               ...          ...          ...         ...\n",
       "7874751.698  174067.0  3970061.482  3904690.216      60.531\n",
       "7874965.732  174067.0  3970238.390  3904727.342      60.533\n",
       "7876434.843  174067.0  3970971.240  3905463.603      60.544\n",
       "7878657.241  174067.0  3972157.343  3906499.898      60.561\n",
       "7883801.792  174067.0  3974824.832  3908976.960      60.601\n",
       "\n",
       "[13466 rows x 4 columns]"
      ]
     },
     "execution_count": 74,
     "metadata": {},
     "output_type": "execute_result"
    }
   ],
   "source": [
    "df_test.groupby('PopTotal').first()"
   ]
  },
  {
   "cell_type": "code",
   "execution_count": 75,
   "id": "3b810c2e",
   "metadata": {},
   "outputs": [
    {
     "data": {
      "text/plain": [
       "<Axes: xlabel='Value'>"
      ]
     },
     "execution_count": 75,
     "metadata": {},
     "output_type": "execute_result"
    },
    {
     "data": {
      "image/png": "[encoded data removed]",
      "text/plain": [
       "<Figure size 640x480 with 1 Axes>"
      ]
     },
     "metadata": {},
     "output_type": "display_data"
    }
   ],
   "source": [
    "import seaborn as sns\n",
    "sns.boxplot(x=df_test['Value'])"
   ]
  },
  {
   "cell_type": "code",
   "execution_count": 76,
   "id": "8af40880",
   "metadata": {},
   "outputs": [
    {
     "data": {
      "text/plain": [
       "<Axes: xlabel='PopTotal'>"
      ]
     },
     "execution_count": 76,
     "metadata": {},
     "output_type": "execute_result"
    },
    {
     "data": {
      "image/png": "[encoded data removed]",
      "text/plain": [
       "<Figure size 640x480 with 1 Axes>"
      ]
     },
     "metadata": {},
     "output_type": "display_data"
    }
   ],
   "source": [
    "sns.boxplot(x=df_test['PopTotal'])"
   ]
  },
  {
   "cell_type": "code",
   "execution_count": 77,
   "id": "f742ec1d",
   "metadata": {},
   "outputs": [
    {
     "name": "stdout",
     "output_type": "stream",
     "text": [
      "Interquartile range =  154047.0\n",
      "Numerber of outliers in balance column below the lower whisker : 0\n",
      "Numerber of outliers above balance column the uper whisker  : 744910\n"
     ]
    }
   ],
   "source": [
    "Q1 =  df['Value'].quantile(0.25) # 1º Quartile\n",
    "Q3 =  df['Value'].quantile(0.75) # 3º Quartile\n",
    "IQR = Q3 - Q1                      # Interquartile range\n",
    "print('Interquartile range = ', IQR)\n",
    "print('Numerber of outliers in balance column below the lower whisker :', df[df['Value'] < (Q1-(1.5*IQR))]['Value'].count())\n",
    "print('Numerber of outliers above balance column the uper whisker  :', df[df['Value'] > (Q3+(1.5*IQR))]['Value'].count())\n",
    "\n"
   ]
  },
  {
   "cell_type": "code",
   "execution_count": 78,
   "id": "0f11d983",
   "metadata": {},
   "outputs": [
    {
     "name": "stdout",
     "output_type": "stream",
     "text": [
      "Column Name                                         : Value\n",
      "Interquartile range IQR                             : 154047.0\n",
      "Numerber of outliers below the lower whisker        : 0\n",
      "Numerber of outliers above the upper whisker         : 744910\n",
      "Total Numbers of Ourliers                           : 744910\n",
      "\n",
      "\n",
      "Column Name                                         : PopMale\n",
      "Interquartile range IQR                             : 40691.26\n",
      "Numerber of outliers below the lower whisker        : 0\n",
      "Numerber of outliers above the upper whisker         : 714200\n",
      "Total Numbers of Ourliers                           : 714200\n",
      "\n",
      "\n",
      "Column Name                                         : PopFemale\n",
      "Interquartile range IQR                             : 40917.129\n",
      "Numerber of outliers below the lower whisker        : 0\n",
      "Numerber of outliers above the upper whisker         : 708322\n",
      "Total Numbers of Ourliers                           : 708322\n",
      "\n",
      "\n",
      "Column Name                                         : PopTotal\n",
      "Interquartile range IQR                             : 81674.04699999999\n",
      "Numerber of outliers below the lower whisker        : 0\n",
      "Numerber of outliers above the upper whisker         : 709732\n",
      "Total Numbers of Ourliers                           : 709732\n",
      "\n",
      "\n",
      "Column Name                                         : PopDensity\n",
      "Interquartile range IQR                             : 101.155\n",
      "Numerber of outliers below the lower whisker        : 0\n",
      "Numerber of outliers above the upper whisker         : 441981\n",
      "Total Numbers of Ourliers                           : 441981\n",
      "\n",
      "\n"
     ]
    }
   ],
   "source": [
    "for i in df_test.columns.tolist():\n",
    "    Q1 = df.describe().at['25%', i]\n",
    "    Q3 = df.describe().at['75%', i]\n",
    "    IQR = Q3-Q1\n",
    "    LTV = Q1 - 1.5 * IQR \n",
    "    UTV = Q3 + 1.5 * IQR \n",
    "    print('Column Name                                         :', i)\n",
    "    print('Interquartile range IQR                             :', IQR)\n",
    "    print('Numerber of outliers below the lower whisker        :', df[df[i] < LTV][i].count())\n",
    "    print('Numerber of outliers above the upper whisker         :', df[df[i] > UTV][i].count())\n",
    "    print('Total Numbers of Ourliers                           :', (df[df[i] < LTV][i].count()) + (df[df[i] > UTV][i].count()))\n",
    "    \n",
    "    print('\\n')"
   ]
  },
  {
   "cell_type": "code",
   "execution_count": 79,
   "id": "d8f74b47",
   "metadata": {},
   "outputs": [
    {
     "data": {
      "text/html": [
       "<div>\n",
       "<style scoped>\n",
       "    .dataframe tbody tr th:only-of-type {\n",
       "        vertical-align: middle;\n",
       "    }\n",
       "\n",
       "    .dataframe tbody tr th {\n",
       "        vertical-align: top;\n",
       "    }\n",
       "\n",
       "    .dataframe thead th {\n",
       "        text-align: right;\n",
       "    }\n",
       "</style>\n",
       "<table border=\"1\" class=\"dataframe\">\n",
       "  <thead>\n",
       "    <tr style=\"text-align: right;\">\n",
       "      <th></th>\n",
       "      <th>count</th>\n",
       "      <th>mean</th>\n",
       "      <th>std</th>\n",
       "      <th>min</th>\n",
       "      <th>25%</th>\n",
       "      <th>50%</th>\n",
       "      <th>75%</th>\n",
       "      <th>max</th>\n",
       "    </tr>\n",
       "  </thead>\n",
       "  <tbody>\n",
       "    <tr>\n",
       "      <th>Value</th>\n",
       "      <td>4580053.00</td>\n",
       "      <td>2533384.74</td>\n",
       "      <td>30895774.14</td>\n",
       "      <td>0.00</td>\n",
       "      <td>2353.00</td>\n",
       "      <td>22440.00</td>\n",
       "      <td>156400.00</td>\n",
       "      <td>3070645412.97</td>\n",
       "    </tr>\n",
       "    <tr>\n",
       "      <th>PopMale</th>\n",
       "      <td>4580053.00</td>\n",
       "      <td>118016.12</td>\n",
       "      <td>422420.48</td>\n",
       "      <td>16.75</td>\n",
       "      <td>2286.82</td>\n",
       "      <td>8381.26</td>\n",
       "      <td>42978.08</td>\n",
       "      <td>3974824.83</td>\n",
       "    </tr>\n",
       "    <tr>\n",
       "      <th>PopFemale</th>\n",
       "      <td>4580053.00</td>\n",
       "      <td>116197.56</td>\n",
       "      <td>412397.86</td>\n",
       "      <td>16.37</td>\n",
       "      <td>2284.60</td>\n",
       "      <td>8554.49</td>\n",
       "      <td>43201.72</td>\n",
       "      <td>3908976.96</td>\n",
       "    </tr>\n",
       "    <tr>\n",
       "      <th>PopTotal</th>\n",
       "      <td>4580053.00</td>\n",
       "      <td>234213.67</td>\n",
       "      <td>834767.07</td>\n",
       "      <td>33.12</td>\n",
       "      <td>4569.38</td>\n",
       "      <td>16907.77</td>\n",
       "      <td>86243.42</td>\n",
       "      <td>7883801.79</td>\n",
       "    </tr>\n",
       "    <tr>\n",
       "      <th>PopDensity</th>\n",
       "      <td>4580053.00</td>\n",
       "      <td>157.30</td>\n",
       "      <td>761.71</td>\n",
       "      <td>0.40</td>\n",
       "      <td>21.29</td>\n",
       "      <td>58.97</td>\n",
       "      <td>122.45</td>\n",
       "      <td>22111.67</td>\n",
       "    </tr>\n",
       "  </tbody>\n",
       "</table>\n",
       "</div>"
      ],
      "text/plain": [
       "                count       mean         std   min     25%      50%       75%   \n",
       "Value      4580053.00 2533384.74 30895774.14  0.00 2353.00 22440.00 156400.00  \\\n",
       "PopMale    4580053.00  118016.12   422420.48 16.75 2286.82  8381.26  42978.08   \n",
       "PopFemale  4580053.00  116197.56   412397.86 16.37 2284.60  8554.49  43201.72   \n",
       "PopTotal   4580053.00  234213.67   834767.07 33.12 4569.38 16907.77  86243.42   \n",
       "PopDensity 4580053.00     157.30      761.71  0.40   21.29    58.97    122.45   \n",
       "\n",
       "                     max  \n",
       "Value      3070645412.97  \n",
       "PopMale       3974824.83  \n",
       "PopFemale     3908976.96  \n",
       "PopTotal      7883801.79  \n",
       "PopDensity      22111.67  "
      ]
     },
     "execution_count": 79,
     "metadata": {},
     "output_type": "execute_result"
    }
   ],
   "source": [
    "pd.set_option('display.float_format', '{:.2f}'.format)\n",
    "df_transpose = df_test.describe().T\n",
    "df_transpose"
   ]
  },
  {
   "attachments": {},
   "cell_type": "markdown",
   "id": "5018ec76",
   "metadata": {},
   "source": [
    "## Removing necesary Outliners"
   ]
  },
  {
   "cell_type": "code",
   "execution_count": 80,
   "id": "53009208",
   "metadata": {},
   "outputs": [],
   "source": [
    "from collections import Counter\n",
    "def detect_outliers(data,features):\n",
    "    outlier_indices = []\n",
    "    for c in features:\n",
    "        Q1 = np.percentile(data[c],25)\n",
    "        Q3 = np.percentile(data[c],75)\n",
    "        IQR = Q3 - Q1\n",
    "        outlier_step = IQR * 1.5\n",
    "        outlier_list_col = data[(data[c] < Q1 - outlier_step) | (data[c] > Q3 + outlier_step)].index\n",
    "        outlier_indices.extend(outlier_list_col)\n",
    "    \n",
    "    #We only remove the rows which are outliers in 2 or more columns.\n",
    "    outlier_indices = Counter(outlier_indices)\n",
    "    multiple_outliers = list(i for i, v in outlier_indices.items() if v > 2)\n",
    "    \n",
    "    return multiple_outliers"
   ]
  },
  {
   "cell_type": "code",
   "execution_count": 81,
   "id": "bca835a6",
   "metadata": {},
   "outputs": [
    {
     "name": "stdout",
     "output_type": "stream",
     "text": [
      "Number of rows to be delete are : 706721\n"
     ]
    }
   ],
   "source": [
    "indexes = df_test.loc[detect_outliers(df_test,df_test.columns)]\n",
    "print(\"Number of rows to be delete are :\",len(indexes.index.tolist()))"
   ]
  },
  {
   "cell_type": "code",
   "execution_count": 82,
   "id": "7c043f1d",
   "metadata": {},
   "outputs": [],
   "source": [
    "df = df.drop(indexes.index.tolist(), axis=0).reset_index(drop=True)"
   ]
  },
  {
   "cell_type": "code",
   "execution_count": 83,
   "id": "0598da7b",
   "metadata": {},
   "outputs": [
    {
     "name": "stdout",
     "output_type": "stream",
     "text": [
      "<class 'pandas.core.frame.DataFrame'>\n",
      "RangeIndex: 3873332 entries, 0 to 3873331\n",
      "Data columns (total 12 columns):\n",
      " #   Column      Dtype  \n",
      "---  ------      -----  \n",
      " 0   Area        int64  \n",
      " 1   Item        int64  \n",
      " 2   Element     int64  \n",
      " 3   Year        int64  \n",
      " 4   Unit        int64  \n",
      " 5   Value       float64\n",
      " 6   Flag        int64  \n",
      " 7   Variant     int64  \n",
      " 8   PopMale     float64\n",
      " 9   PopFemale   float64\n",
      " 10  PopTotal    float64\n",
      " 11  PopDensity  float64\n",
      "dtypes: float64(5), int64(7)\n",
      "memory usage: 354.6 MB\n"
     ]
    }
   ],
   "source": [
    "df.info()"
   ]
  },
  {
   "attachments": {},
   "cell_type": "markdown",
   "id": "bb1f7767",
   "metadata": {},
   "source": [
    "# Case 1: Continent (Discrete Data)"
   ]
  },
  {
   "attachments": {},
   "cell_type": "markdown",
   "id": "3396f7f4",
   "metadata": {},
   "source": [
    "# Extracting Data:"
   ]
  },
  {
   "cell_type": "code",
   "execution_count": 84,
   "id": "299593ea",
   "metadata": {},
   "outputs": [],
   "source": [
    "dfx = df"
   ]
  },
  {
   "cell_type": "code",
   "execution_count": 85,
   "id": "cd58b2c7",
   "metadata": {},
   "outputs": [],
   "source": [
    "def country_to_continent(country_name):\n",
    "    country_alpha2 = pc.country_name_to_country_alpha2(country_name)\n",
    "    country_continent_code = pc.country_alpha2_to_continent_code(country_alpha2)\n",
    "    country_continent_name = pc.convert_continent_code_to_continent_name(country_continent_code)\n",
    "    return country_continent_name\n",
    "\n",
    "extra = ['Africa','Oceania','Asia','Central America','Central Asia','Eastern Africa', 'Eastern Asia', 'Eastern Europe','Europe','Middle Africa','Northern Africa', 'Northern America', 'Northern Europe','South America','Southern Africa', 'Southern Asia', 'Southern Europe','Western Africa', 'Western Asia', 'Western Europe', 'World','Bolivia (Plurinational State of)','Caribbean','China, Hong Kong SAR','China, Macao SAR','Iran (Islamic Republic of)','Melanesia','Polynesia','Republic of Korea','TL','Timor-Leste','Venezuela (Bolivarian Republic of)']\n",
    "dfu = df_area[df_area.Area.isin(extra) == False]\n",
    "\n",
    "dfu['continent'] = [country_to_continent(x) for x in dfu['Area']]\n",
    "cont1 = {'Asia': 1,\n",
    " 'Africa': 2,\n",
    " 'Europe': 3,\n",
    " 'North America': 4,\n",
    " 'Oceania': 5,\n",
    " 'South America':6\n",
    " }\n",
    "dfu['continent'] = dfu['continent'].map(cont1)"
   ]
  },
  {
   "cell_type": "code",
   "execution_count": 86,
   "id": "7c3b75d0",
   "metadata": {},
   "outputs": [],
   "source": [
    "t = dict(zip(dfu['Area Code'], dfu['continent']))\n",
    "dfx['continent'] = [-1 if(t.get(x)==None) else (t[x])for x in dfx['Area']]\n",
    "dfx = dfx[dfx['continent'].isin([1,2,3,4,5,6])].drop(['Area'],axis=1)"
   ]
  },
  {
   "attachments": {},
   "cell_type": "markdown",
   "id": "d0005422",
   "metadata": {},
   "source": [
    "## Feature Selection"
   ]
  },
  {
   "cell_type": "code",
   "execution_count": 87,
   "id": "890fb347",
   "metadata": {},
   "outputs": [
    {
     "name": "stdout",
     "output_type": "stream",
     "text": [
      "Index(['Item', 'Year', 'Unit', 'Value', 'Flag', 'Variant', 'PopMale',\n",
      "       'PopFemale', 'PopTotal', 'PopDensity'],\n",
      "      dtype='object')\n"
     ]
    }
   ],
   "source": [
    "X = dfx.drop('continent', axis=1)\n",
    "y = dfx[['continent']]\n",
    "\n",
    "k = 10\n",
    "selector = SelectKBest(score_func=f_regression, k=k)\n",
    "selector.fit(X, y)\n",
    "selected_features = selector.get_support(indices=True)\n",
    "selected_feature_names = X.columns[selected_features]\n",
    "X_new = dfx[selected_feature_names]\n",
    "print(selected_feature_names)"
   ]
  },
  {
   "attachments": {},
   "cell_type": "markdown",
   "id": "52c59534",
   "metadata": {},
   "source": [
    "## Splitting data"
   ]
  },
  {
   "cell_type": "code",
   "execution_count": 88,
   "id": "377126e5",
   "metadata": {},
   "outputs": [
    {
     "name": "stdout",
     "output_type": "stream",
     "text": [
      "x train data (2642966, 10)\n",
      "y train data (2642966, 1)\n",
      "x test data  (660742, 10)\n",
      "y test data  (660742, 1)\n"
     ]
    }
   ],
   "source": [
    "from sklearn.model_selection import train_test_split\n",
    "X_train, X_test, y_train, y_test = train_test_split(X_new, y, test_size=0.20, random_state=7)\n",
    "print('x train data {}'.format(X_train.shape))\n",
    "print('y train data {}'.format(y_train.shape))\n",
    "print('x test data  {}'.format(X_test.shape))\n",
    "print('y test data  {}'.format(y_test.shape))"
   ]
  },
  {
   "attachments": {},
   "cell_type": "markdown",
   "id": "f9614f9e",
   "metadata": {},
   "source": [
    "# Prediction Algorithms:"
   ]
  },
  {
   "attachments": {},
   "cell_type": "markdown",
   "id": "f8084b18",
   "metadata": {},
   "source": [
    "### Logistic Regression"
   ]
  },
  {
   "cell_type": "code",
   "execution_count": 89,
   "id": "00a2f70f",
   "metadata": {},
   "outputs": [
    {
     "name": "stdout",
     "output_type": "stream",
     "text": [
      "Stats for logistic Regression : \n",
      "Train Accuracy : 26.91582108888272 %\n",
      "Test Accuracy : 26.943042821555164 %\n"
     ]
    }
   ],
   "source": [
    "model = LogisticRegression().fit(X_train, y_train)\n",
    "print(\"Stats for logistic Regression : \")\n",
    "print(\"Train Accuracy :\",accuracy_score(model.predict(X_train),y_train)*100,\"%\")\n",
    "print(\"Test Accuracy :\",accuracy_score(model.predict(X_test),y_test)*100,\"%\")"
   ]
  },
  {
   "attachments": {},
   "cell_type": "markdown",
   "id": "190fbb49",
   "metadata": {},
   "source": [
    "### K-Neighbors Classifier"
   ]
  },
  {
   "cell_type": "code",
   "execution_count": 90,
   "id": "86b7292f",
   "metadata": {},
   "outputs": [
    {
     "name": "stdout",
     "output_type": "stream",
     "text": [
      "Stats for KNN : \n",
      "Train Accuracy : 80.28419586177044 %\n",
      "Test Accuracy : 72.91620632561575 %\n"
     ]
    }
   ],
   "source": [
    "model = KNeighborsClassifier(n_neighbors=6).fit(X_train, y_train)\n",
    "print(\"Stats for KNN : \")\n",
    "print(\"Train Accuracy :\",accuracy_score(model.predict(X_train),y_train)*100,\"%\")\n",
    "print(\"Test Accuracy :\",accuracy_score(model.predict(X_test),y_test)*100,\"%\")"
   ]
  },
  {
   "attachments": {},
   "cell_type": "markdown",
   "id": "176a94d1",
   "metadata": {},
   "source": [
    "### Decision Tree Classifier"
   ]
  },
  {
   "cell_type": "code",
   "execution_count": 91,
   "id": "dc37ffff",
   "metadata": {},
   "outputs": [
    {
     "name": "stdout",
     "output_type": "stream",
     "text": [
      "Stats for Decision tree : \n",
      "Train Accuracy : 52.124393579032045 %\n",
      "Test Accuracy : 52.29317948609291 %\n"
     ]
    }
   ],
   "source": [
    "model = DecisionTreeClassifier(max_depth=5).fit(X_train, y_train)\n",
    "print(\"Stats for Decision tree : \")\n",
    "print(\"Train Accuracy :\",accuracy_score(model.predict(X_train),y_train)*100,\"%\")\n",
    "print(\"Test Accuracy :\",accuracy_score(model.predict(X_test),y_test)*100,\"%\")"
   ]
  },
  {
   "attachments": {},
   "cell_type": "markdown",
   "id": "25d43531",
   "metadata": {},
   "source": [
    "# Handling imbalanced data"
   ]
  },
  {
   "cell_type": "code",
   "execution_count": 92,
   "id": "377af4d0",
   "metadata": {},
   "outputs": [
    {
     "name": "stdout",
     "output_type": "stream",
     "text": [
      "x train data (4562568, 10)\n",
      "y train data (4562568, 1)\n",
      "x test data  (1145394, 10)\n",
      "y test data  (1145394, 1)\n"
     ]
    }
   ],
   "source": [
    "from imblearn.over_sampling import SMOTE\n",
    "X_train, y_train = SMOTE().fit_resample(X_train, y_train)\n",
    "X_test, y_test = SMOTE().fit_resample(X_test, y_test)\n",
    "print('x train data {}'.format(X_train.shape))\n",
    "print('y train data {}'.format(y_train.shape))\n",
    "print('x test data  {}'.format(X_test.shape))\n",
    "print('y test data  {}'.format(y_test.shape))"
   ]
  },
  {
   "attachments": {},
   "cell_type": "markdown",
   "id": "7b386373",
   "metadata": {},
   "source": [
    "### Logistic Regression"
   ]
  },
  {
   "cell_type": "code",
   "execution_count": 93,
   "id": "0ecd2f29",
   "metadata": {},
   "outputs": [
    {
     "name": "stdout",
     "output_type": "stream",
     "text": [
      "Stats for logistic Regression : \n",
      "Train Accuracy : 21.163081843382937 %\n",
      "Test Accuracy : 21.190088301492764 %\n"
     ]
    }
   ],
   "source": [
    "model = LogisticRegression().fit(X_train, y_train)\n",
    "print(\"Stats for logistic Regression : \")\n",
    "print(\"Train Accuracy :\",accuracy_score(model.predict(X_train),y_train)*100,\"%\")\n",
    "print(\"Test Accuracy :\",accuracy_score(model.predict(X_test),y_test)*100,\"%\")"
   ]
  },
  {
   "attachments": {},
   "cell_type": "markdown",
   "id": "533eeaca",
   "metadata": {},
   "source": [
    "### K-Neighbors Classifier"
   ]
  },
  {
   "cell_type": "code",
   "execution_count": 94,
   "id": "b82cbc3c",
   "metadata": {},
   "outputs": [
    {
     "name": "stdout",
     "output_type": "stream",
     "text": [
      "Stats for KNN : \n",
      "Train Accuracy : 87.79082306280146 %\n",
      "Test Accuracy : 72.35265768809684 %\n"
     ]
    }
   ],
   "source": [
    "model = KNeighborsClassifier(n_neighbors=6).fit(X_train, y_train)\n",
    "print(\"Stats for KNN : \")\n",
    "print(\"Train Accuracy :\",accuracy_score(model.predict(X_train),y_train)*100,\"%\")\n",
    "print(\"Test Accuracy :\",accuracy_score(model.predict(X_test),y_test)*100,\"%\")"
   ]
  },
  {
   "attachments": {},
   "cell_type": "markdown",
   "id": "2f7a2df3",
   "metadata": {},
   "source": [
    "### Decision Tree Classifier"
   ]
  },
  {
   "cell_type": "code",
   "execution_count": 95,
   "id": "1bf27a8b",
   "metadata": {},
   "outputs": [
    {
     "name": "stdout",
     "output_type": "stream",
     "text": [
      "Stats for Decision tree : \n",
      "Train Accuracy : 55.157139575782764 %\n",
      "Test Accuracy : 55.09222154123384 %\n"
     ]
    }
   ],
   "source": [
    "model = DecisionTreeClassifier(max_depth=5).fit(X_train, y_train)\n",
    "print(\"Stats for Decision tree : \")\n",
    "print(\"Train Accuracy :\",accuracy_score(model.predict(X_train),y_train)*100,\"%\")\n",
    "print(\"Test Accuracy :\",accuracy_score(model.predict(X_test),y_test)*100,\"%\")"
   ]
  },
  {
   "attachments": {},
   "cell_type": "markdown",
   "id": "f3fbcd85",
   "metadata": {},
   "source": [
    "After handelling imbalences we get better acuracy for both K-Neighbors Classifier and Decision Tree Classifier."
   ]
  },
  {
   "attachments": {},
   "cell_type": "markdown",
   "id": "59c3bde1",
   "metadata": {},
   "source": [
    "# Case 2: Area (Continues Data)"
   ]
  },
  {
   "attachments": {},
   "cell_type": "markdown",
   "id": "d00c0422",
   "metadata": {},
   "source": [
    "# Extracting Data:"
   ]
  },
  {
   "cell_type": "code",
   "execution_count": 97,
   "id": "85587c43",
   "metadata": {},
   "outputs": [],
   "source": [
    "#Getting Area of all the countries\n",
    "dfy = df \n",
    "dfy = dfy[dfy['Element']==5312].drop(['Element','Unit','continent'],axis=1)"
   ]
  },
  {
   "attachments": {},
   "cell_type": "markdown",
   "id": "e052fc92",
   "metadata": {},
   "source": [
    "## Feature Selection"
   ]
  },
  {
   "cell_type": "code",
   "execution_count": 98,
   "id": "a76ae252",
   "metadata": {},
   "outputs": [
    {
     "name": "stdout",
     "output_type": "stream",
     "text": [
      "Index(['Area', 'Item', 'Year', 'Flag', 'PopMale', 'PopFemale', 'PopTotal',\n",
      "       'PopDensity'],\n",
      "      dtype='object')\n"
     ]
    }
   ],
   "source": [
    "X = dfy.drop('Value', axis=1)\n",
    "y = dfy[['Value']]\n",
    "\n",
    "k = 8\n",
    "selector = SelectKBest(score_func=f_regression, k=k)\n",
    "selector.fit(X, y)\n",
    "selected_features = selector.get_support(indices=True)\n",
    "selected_feature_names = X.columns[selected_features]\n",
    "X_new = dfy[selected_feature_names]\n",
    "print(selected_feature_names)"
   ]
  },
  {
   "attachments": {},
   "cell_type": "markdown",
   "id": "fd21d415",
   "metadata": {},
   "source": [
    "## Splitting data"
   ]
  },
  {
   "cell_type": "code",
   "execution_count": 99,
   "id": "38df20cc",
   "metadata": {},
   "outputs": [
    {
     "name": "stdout",
     "output_type": "stream",
     "text": [
      "x train data (652490, 8)\n",
      "y train data (652490, 1)\n",
      "x test data  (163123, 8)\n",
      "y test data  (163123, 1)\n"
     ]
    }
   ],
   "source": [
    "from sklearn.model_selection import train_test_split\n",
    "X_train, X_test, y_train, y_test = train_test_split(X_new, y, test_size=0.20, random_state=7)\n",
    "print('x train data {}'.format(X_train.shape))\n",
    "print('y train data {}'.format(y_train.shape))\n",
    "print('x test data  {}'.format(X_test.shape))\n",
    "print('y test data  {}'.format(y_test.shape))"
   ]
  },
  {
   "attachments": {},
   "cell_type": "markdown",
   "id": "2e6f5148",
   "metadata": {},
   "source": [
    "# Prediction Algorithms:"
   ]
  },
  {
   "attachments": {},
   "cell_type": "markdown",
   "id": "cb0929a5",
   "metadata": {},
   "source": [
    "### Decision Tree Regression"
   ]
  },
  {
   "cell_type": "code",
   "execution_count": 100,
   "id": "e17c8223",
   "metadata": {},
   "outputs": [
    {
     "name": "stdout",
     "output_type": "stream",
     "text": [
      "Decision Tree Regression:\n",
      "RMSE = 159001.63097221206 \n",
      "Accuracy = 97.9330542429852\n"
     ]
    }
   ],
   "source": [
    "# Train decision tree regression model\n",
    "dt_model = DecisionTreeRegressor()\n",
    "dt_model.fit(X_train, y_train)\n",
    "\n",
    "# Predict on test set using decision tree regression\n",
    "dt_pred = dt_model.predict(X_test)\n",
    "dt_rmse = np.sqrt(mean_squared_error(y_test, dt_pred))\n",
    "dt_r2 = r2_score(y_test, dt_pred)\n",
    "\n",
    "print(\"Decision Tree Regression:\\nRMSE =\", dt_rmse, \"\\nAccuracy =\", dt_r2*100)"
   ]
  },
  {
   "attachments": {},
   "cell_type": "markdown",
   "id": "87ab7ab3",
   "metadata": {},
   "source": [
    "### Random Forest Regression"
   ]
  },
  {
   "cell_type": "code",
   "execution_count": 101,
   "id": "e62b5aeb",
   "metadata": {},
   "outputs": [
    {
     "name": "stdout",
     "output_type": "stream",
     "text": [
      "Random Forest Regression:\n",
      "RMSE = 116448.66658043794 \n",
      "Accuracy= 98.89134872423784\n"
     ]
    }
   ],
   "source": [
    "\n",
    "# Train random forest regression model\n",
    "rf_model = RandomForestRegressor()\n",
    "rf_model.fit(X_train, y_train)\n",
    "\n",
    "# Predict on test set using random forest regression\n",
    "rf_pred = rf_model.predict(X_test)\n",
    "rf_rmse = np.sqrt(mean_squared_error(y_test, rf_pred))\n",
    "rf_r2 = r2_score(y_test, rf_pred)\n",
    "\n",
    "print(\"Random Forest Regression:\\nRMSE =\", rf_rmse, \"\\nAccuracy=\", rf_r2*100)"
   ]
  },
  {
   "attachments": {},
   "cell_type": "markdown",
   "id": "292f3a24",
   "metadata": {},
   "source": [
    "We can say that Random Forest Regression is the best Model for this case."
   ]
  },
  {
   "attachments": {},
   "cell_type": "markdown",
   "id": "e49c8f96",
   "metadata": {},
   "source": []
  }
 ],
 "metadata": {
  "kernelspec": {
   "display_name": "Python 3 (ipykernel)",
   "language": "python",
   "name": "python3"
  },
  "language_info": {
   "codemirror_mode": {
    "name": "ipython",
    "version": 3
   },
   "file_extension": ".py",
   "mimetype": "text/x-python",
   "name": "python",
   "nbconvert_exporter": "python",
   "pygments_lexer": "ipython3",
   "version": "3.11.3"
  }
 },
 "nbformat": 4,
 "nbformat_minor": 5
}
